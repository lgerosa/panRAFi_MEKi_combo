{
 "cells": [
  {
   "cell_type": "markdown",
   "metadata": {},
   "source": [
    "# Simulation of EGF stimulation in drug-adapted BRAF<sup>V600E</sup> melanoma cells using the MARM1 model\n",
    "\n",
    "Here you can simulate the time-course respose of drug-adapted BRAF<sup>V600E</sup> melanoma cells to addition of exogenous EGF. This code simulates the time-course response of A375 melanoma cells adapted to a dose of RAF (vemurafenib) and/or MEK inhibitors (cobimetinib) and then stimulated with EGF.\n",
    "\n",
    "**Note**: this code performs the simulation for a single condition and visualizes the time-course response. Use the Jupyter Notebook *MARM1_simulation_multiple_conditions.ipynb* to generate simulation results for multiple conditions (e.g. multiple dose combinations). \n",
    "\n"
   ]
  },
  {
   "cell_type": "markdown",
   "metadata": {},
   "source": [
    "## Import of libraries\n",
    "Importing libraries necessary to run MARM1 model simulations."
   ]
  },
  {
   "cell_type": "code",
   "execution_count": 1,
   "metadata": {},
   "outputs": [],
   "source": [
    "%matplotlib inline\n",
    "import numpy as np\n",
    "import pandas as pd\n",
    "import seaborn as sns\n",
    "import matplotlib.pyplot as plt\n",
    "from multiprocessing.pool import Pool\n",
    "import multiprocessing\n",
    "import copy as cp\n",
    "from tqdm.notebook import tqdm, trange\n",
    "import time\n",
    "import math\n",
    "import random\n",
    "import itertools"
   ]
  },
  {
   "cell_type": "code",
   "execution_count": null,
   "metadata": {},
   "outputs": [],
   "source": []
  },
  {
   "cell_type": "code",
   "execution_count": null,
   "metadata": {},
   "outputs": [],
   "source": []
  },
  {
   "cell_type": "markdown",
   "metadata": {},
   "source": [
    "Importing the MARM1 PySB model and the simulator.  "
   ]
  },
  {
   "cell_type": "code",
   "execution_count": 2,
   "metadata": {},
   "outputs": [],
   "source": [
    "from pysb.simulator import ScipyOdeSimulator\n",
    "from pysb.core import as_complex_pattern\n",
    "from pysb.bng import generate_equations\n",
    "\n",
    "from MARM2_nE_SBa_Sparse import model"
   ]
  },
  {
   "cell_type": "markdown",
   "metadata": {},
   "source": [
    "## User-defined experimental setup\n",
    "In this section you can alter the setup of the experiment simulated by MARM1. First, you need to define the experimental setup of the pre-treatment phase and of the subsequent ligand stimulation phase. The variables needed for the pre-treatment phase are:\n",
    "\n",
    "<b>RAFi_concentration ($\\mu$M)</b>: defines the concentration of the RAF inhibitor (vemurafenib) during the pre-treatment and treatment phase. \n",
    "\n",
    "<b>MEKi_concentration ($\\mu$M)</b>: defines the concentration of the RAF inhibitor (vemurafenib) during the pre-treatment and treatment phase. \n",
    "\n",
    "<b>Pretreatment_time (h)</b>: defines the duration of the pre-treatment phase.\n",
    "    \n",
    "For the treatment phase, you need to set the concentration of the EGF ligand and the running time of simulation after ligand stimulation. This is done with the following variables:\n",
    "\n",
    "<b>EGF_concentration (ng/mL)</b>: defines the EGF concentrations used to stimulate cells. We have calibrated the model only using data from 100 ng/mL, which is thus the default value.\n",
    "\n",
    "<b>Simulation_time (h)</b>: define the simulation time after ligand stimulation. For the stimulation of cells expressing normal levels of EGFR, 2 hours is enough to visualize the pulsatile reactivation of MAPK signaling.\n",
    "\n",
    "<b>N_time_points</b>: define the number of time points returned by each model simulation. \n",
    "\n",
    "Choose the experiment to simulate by setting the following variables and re-running the notebook:"
   ]
  },
  {
   "cell_type": "markdown",
   "metadata": {},
   "source": [
    "1. **PRAF inhibitor** pre-treatment concentration in μM."
   ]
  },
  {
   "cell_type": "code",
   "execution_count": null,
   "metadata": {},
   "outputs": [],
   "source": []
  },
  {
   "cell_type": "markdown",
   "metadata": {},
   "source": [
    "2. **MEK inhibitor** pre-treatment concentration in μM."
   ]
  },
  {
   "cell_type": "code",
   "execution_count": null,
   "metadata": {},
   "outputs": [],
   "source": []
  },
  {
   "cell_type": "markdown",
   "metadata": {},
   "source": [
    "3. **Pretreatment duration** in hours."
   ]
  },
  {
   "cell_type": "code",
   "execution_count": 3,
   "metadata": {},
   "outputs": [],
   "source": [
    "t_pretrt = 24"
   ]
  },
  {
   "cell_type": "markdown",
   "metadata": {},
   "source": []
  },
  {
   "cell_type": "code",
   "execution_count": null,
   "metadata": {},
   "outputs": [],
   "source": []
  },
  {
   "cell_type": "markdown",
   "metadata": {},
   "source": [
    "5. **Simulation time** in hours."
   ]
  },
  {
   "cell_type": "code",
   "execution_count": 4,
   "metadata": {},
   "outputs": [],
   "source": [
    "t_trt = 24"
   ]
  },
  {
   "cell_type": "markdown",
   "metadata": {},
   "source": [
    "6. **Parameter set** selects which of the 50 best-fit parameter sets to use for the simulation. Set 0 is the best fit and 49 the worst."
   ]
  },
  {
   "cell_type": "code",
   "execution_count": 5,
   "metadata": {},
   "outputs": [],
   "source": [
    "param_set_index = 13\n",
    "# param_set_index = 0"
   ]
  },
  {
   "cell_type": "markdown",
   "metadata": {},
   "source": [
    "7. **N_time_points** defineds the number of time points returned by each individual model simulation"
   ]
  },
  {
   "cell_type": "code",
   "execution_count": 6,
   "metadata": {},
   "outputs": [],
   "source": [
    "N_time_points = 97"
   ]
  },
  {
   "cell_type": "markdown",
   "metadata": {},
   "source": [
    "## Generate model equations\n",
    "PySB runs BioNetGen to generate the reaction network"
   ]
  },
  {
   "cell_type": "code",
   "execution_count": 7,
   "metadata": {},
   "outputs": [],
   "source": [
    "generate_equations(model)\n",
    "#[i.name for i in model.parameters]"
   ]
  },
  {
   "cell_type": "markdown",
   "metadata": {},
   "source": [
    "## Parameter set preparation"
   ]
  },
  {
   "cell_type": "markdown",
   "metadata": {},
   "source": [
    "Override the `EGFR_crispr` parameter with the user-specified value for EGFR under/over-expression and set naive-treatment conditions for concentrations of RAF and MEK inhibitors and EGF."
   ]
  },
  {
   "cell_type": "code",
   "execution_count": 9,
   "metadata": {},
   "outputs": [],
   "source": [
    "param_sets = pd.read_csv('RTKERK_pRAF_EGF_EGFR_MEKi_PRAFi_RAFi.csv', index_col=0)\n",
    "# finds the parameters of the .csv file that correspond to Cobimetinib and Vemurafenib and maps them to MEKi and RAFi (respectively)\n",
    "rename_dict = {}\n",
    "for i in param_sets.columns:\n",
    "    if \"Cobimetinib\" in i or \"Vemurafenib\" in i:\n",
    "        rename_dict[i] = i.replace(\"Cobimetinib\",\"MEKi\").replace(\"Vemurafenib\",\"RAFi\")\n",
    "param_sets = param_sets.rename(columns = rename_dict)\n",
    "\n",
    "# finds the parameters which are stored in .csv file but not in the model and removes them\n",
    "csv_spec_params = set(param_sets.columns)-(set(param_sets.columns)&set([i.name for i in model.parameters]))\n",
    "param_sets = param_sets.drop(csv_spec_params, axis=1)\n",
    "\n",
    "# Reduces GTP hydrolysis to align with expected GTPase activity of NRASQ61mut\n",
    "#param_sets[\"catalyze_NF1_RAS_gdp_kcatr\"] = param_sets[\"catalyze_NF1_RAS_gdp_kcatr\"] / 10\n",
    "# Makes dimers less favorable\n",
    "#param_sets[\"ep_RAF_RAF_mod_RASgtp_double_ddG\"] = param_sets[\"ep_RAF_RAF_mod_RASgtp_double_ddG\"]/5\n",
    "# Reduces removes preference against second inhibitor binding to model pan RAF inhibitor\n",
    "#param_sets[\"ep_RAF_RAF_mod_RAFi_double_ddG\"] = 0\n",
    "# Remove negative feedback CRAF\n",
    "#param_sets['ep_RAF_RAF_mod_pRAF_ddG'] = 0 \n",
    "# Sets 0 SOS1_0 to prevent pathway activity through non BRAFV600E\n",
    "#param_sets['SOS1_0'] = 0\n",
    "\n",
    "\n",
    "params = param_sets.iloc[param_set_index].to_dict()"
   ]
  },
  {
   "cell_type": "markdown",
   "metadata": {},
   "source": []
  },
  {
   "cell_type": "code",
   "execution_count": 10,
   "metadata": {},
   "outputs": [],
   "source": [
    "#params['EGF_0'] = 0.0\n",
    "params['RAFi_0'] = 0.0\n",
    "params['MEKi_0'] = 0.0"
   ]
  },
  {
   "cell_type": "code",
   "execution_count": 12,
   "metadata": {},
   "outputs": [],
   "source": [
    "#print(model.parameters.NRAS_Q61mut.value)\n",
    "#print(model.parameters.catalyze_NF1_RAS_gdp_kcatr.value)\n",
    "#print(model.parameters.q61_RAS_gtp_kcat.value)\n",
    "#print(model.parameters.ep_RAF_RAF_mod_RAFi_single_ddG.value)\n",
    "#print(model.parameters.ep_RAF_RAF_mod_RAFi_double_ddG.value)\n",
    "#print(model.parameters.bind_PRAFi_RAF_kf.value)"
   ]
  },
  {
   "cell_type": "markdown",
   "metadata": {},
   "source": [
    "## Simulations"
   ]
  },
  {
   "cell_type": "markdown",
   "metadata": {},
   "source": [
    "First we define some utility functions that will be used below.\n",
    "*Equilibrate* runs a model simulation till steady state for that parameter set.\n",
    "*Get_species_index* find and retunrs the index of speies in the model given input specie patterns. "
   ]
  },
  {
   "cell_type": "code",
   "execution_count": 13,
   "metadata": {},
   "outputs": [],
   "source": [
    "def equilibrate(simulator, initials,verbose = True):\n",
    "    \"\"\"Simulate a model from given initial conditions until it reaches steady state\"\"\"\n",
    "    scale = 10\n",
    "    t_start = 10\n",
    "    df = None\n",
    "    tspan = np.geomspace(t_start, t_start * scale)\n",
    "    while True:\n",
    "        if verbose:\n",
    "            print(f\"    at t={tspan[-1]:<5.3g} ... \", end='', flush=True)\n",
    "        res = simulator.run(tspan=tspan, initials=initials)\n",
    "        df = pd.concat([df, res.dataframe.iloc[1:]])\n",
    "        initials = res.species[-1]\n",
    "        close = np.isclose(\n",
    "            *res.species[[-1,-2]].view(float).reshape(2,-1),\n",
    "            rtol=1e-3\n",
    "        )\n",
    "        cs = np.sum(close)\n",
    "        n = len(simulator.model.species)\n",
    "        if verbose:\n",
    "            print(f\"{cs}/{n} species converged\")\n",
    "        if np.all(close):\n",
    "            break\n",
    "        tspan *= scale\n",
    "    return df"
   ]
  },
  {
   "cell_type": "code",
   "execution_count": 14,
   "metadata": {},
   "outputs": [],
   "source": [
    "def get_species_index(model, pattern):\n",
    "    \"\"\"Return the integer species number for a given species in the model\"\"\"\n",
    "    pattern = as_complex_pattern(pattern)\n",
    "    matches = [\n",
    "        i for i, s in enumerate(model.species)\n",
    "        if s.is_equivalent_to(pattern)\n",
    "    ]\n",
    "    n = len(matches)\n",
    "    assert n == 1, f\"Expected exactly one match, got {n}\"\n",
    "    return matches[0]"
   ]
  },
  {
   "cell_type": "markdown",
   "metadata": {},
   "source": [
    "## Initial equilibrium\n",
    "First we run the model from its baseline initial conditions until equilibrium is reached. For example protein synthesis/degradation, phosphorylation/dephosphorylation, and drug binding/unbinding all need to reach steady state to match the state of the cells in the experimental setup. There may be some time without visible progress as behind the scenes PySB runs BioNetGen to generate the reaction network and Cython to compile the resulting differential equations into efficient executable code."
   ]
  },
  {
   "cell_type": "code",
   "execution_count": 15,
   "metadata": {},
   "outputs": [
    {
     "name": "stdout",
     "output_type": "stream",
     "text": [
      "    at t=100   ... 875/875 species converged\n"
     ]
    }
   ],
   "source": [
    "sim = ScipyOdeSimulator(model,param_values=params) \n",
    "df_eq = equilibrate(sim, None)"
   ]
  },
  {
   "cell_type": "markdown",
   "metadata": {},
   "source": [
    "Now that the model has been simulated once and the actual molecular species have been enumerated, we can find the exact species numbers for the inhibitors and EGF. These are needed so that their concentrations can be overridden in the model state for subsequent simulations."
   ]
  },
  {
   "cell_type": "code",
   "execution_count": 16,
   "metadata": {},
   "outputs": [],
   "source": [
    "RAFi_index = get_species_index(model, model.monomers.RAFi(raf=None)**model.compartments.CP)\n",
    "MEKi_index = get_species_index(model, model.monomers.MEKi(mek=None)**model.compartments.CP)\n",
    "#EGF_index = get_species_index(model, model.monomers.EGF(rtk=None)**model.compartments.CP)"
   ]
  },
  {
   "cell_type": "markdown",
   "metadata": {},
   "source": [
    "## Inhibitor pre-treatment"
   ]
  },
  {
   "cell_type": "markdown",
   "metadata": {},
   "source": [
    "We take the final state of the equilibration simulation and use it as the initial state of this new simulation, overriding the RAFi and MEKi concentrations with the user-selected values."
   ]
  },
  {
   "cell_type": "code",
   "execution_count": 17,
   "metadata": {},
   "outputs": [],
   "source": [
    "initials_pre = df_eq.iloc[-1, :len(model.species)].copy()\n",
    "initials_pre[RAFi_index] = 0.0\n",
    "initials_pre[MEKi_index] = 0.0\n",
    "#initials_pre[EGF_index] = 0.0\n",
    "\n",
    "#fixed time pre-treatment simulation\n",
    "tspan_pretrt = np.linspace(0, t_pretrt, N_time_points)\n",
    "df_pre=sim.run(tspan=tspan_pretrt, initials=initials_pre.to_list()).dataframe\n",
    "\n",
    "#run pre-tretment to steady state instead of using specified time  \n",
    "#df_pre = equilibrate(sim, initials_pre)"
   ]
  },
  {
   "cell_type": "markdown",
   "metadata": {},
   "source": [
    "In case the previous simulation was run to steady state, we want to retain only the first t_pretrt hours of pre-treatment plus the state at final equilibrium. So we cut the time series down using a Pandas slice operation and adjust the remaining time values to begin at -pre_time_max."
   ]
  },
  {
   "cell_type": "code",
   "execution_count": 18,
   "metadata": {},
   "outputs": [],
   "source": [
    "if (len(df_pre.loc[:t_pretrt])<len(df_pre)):\n",
    "   df_pre_tmp = df_pre.loc[:t_pretrt]\n",
    "   df_pre_tmp.iloc[-1] = df_pre.iloc[-1]\n",
    "   df_pre= df_pre_tmp\n",
    "df_pre['time'] = df_pre.index\n",
    "df_pre['time'] = df_pre['time']-t_pretrt\n",
    "df_pre['time'].iloc[-1] = 0\n",
    "df_pre.reset_index(drop=True, inplace=True)\n",
    "df_pre.set_index('time', inplace=True)"
   ]
  },
  {
   "cell_type": "markdown",
   "metadata": {},
   "source": [
    "## Inhibitor treatment"
   ]
  },
  {
   "cell_type": "markdown",
   "metadata": {},
   "source": [
    "We run another simulation starting from the final state of the pre-treatment simulation, overriding the MEKi and PRAFi concentrations with the user-selected values. This is a fixed-time simulation rather than the steady-state equilibration used in the previous simulations."
   ]
  },
  {
   "cell_type": "code",
   "execution_count": 19,
   "metadata": {},
   "outputs": [
    {
     "name": "stdout",
     "output_type": "stream",
     "text": [
      "[0.         0.00177828 0.00392419 0.00865964 0.01910953 0.04216965\n",
      " 0.0930572  0.2053525  0.45315836 1.        ]\n",
      "[-5.697253636]\n",
      "[11.05981345]\n"
     ]
    }
   ],
   "source": [
    "#set the dilution range for the PRAF inhibitor, which is x axis\n",
    "#RAFi_dil=np.logspace(-4, 1, 9); #uM\n",
    "RAFi_dil=np.logspace(-2.25,.5, 9); #uM\n",
    "RAFi_dil = np.concatenate(([0],RAFi_dil))\n",
    "#set the dilution range for the MEK inhibitor, each value generates a curve\n",
    "#MEKi_dil=np.logspace(-4, 1, 7); #uM\n",
    "MEKi_dil=np.logspace(-2.75,0, 9); #uM\n",
    "MEKi_dil=np.concatenate(([0],MEKi_dil))\n",
    "print(MEKi_dil)\n",
    "#set the values of f and g to model RAF inhibitors with different complex drug-protein interactions\n",
    "#1st generation: f= 0.001, g=1000; panRAF: f= 0.001, g=1; dimer selective f=1, g=0.001\n",
    "# Moved from using f and g to single and double ddG values (respectively), currently reads from model, but can be perturbed if needed\n",
    "s_ddG=[params[\"ep_RAF_RAF_mod_RAFi_single_ddG\"][0]];\n",
    "print(s_ddG)\n",
    "d_ddG=[params[\"ep_RAF_RAF_mod_RAFi_double_ddG\"][0]];\n",
    "print(d_ddG)\n",
    "fgtitle=['pan_RAF'];"
   ]
  },
  {
   "cell_type": "code",
   "execution_count": 20,
   "metadata": {},
   "outputs": [
    {
     "data": {
      "text/plain": [
       "28"
      ]
     },
     "execution_count": 20,
     "metadata": {},
     "output_type": "execute_result"
    }
   ],
   "source": [
    "multiprocessing.cpu_count()"
   ]
  },
  {
   "cell_type": "code",
   "execution_count": 21,
   "metadata": {},
   "outputs": [],
   "source": [
    "def simulate_inhib_dose(dose_info):\n",
    "    params.update({'RAFi_0': dose_info[0],'MEKi_0': dose_info[1]});\n",
    "    #run this to assure model is run to steady_ state, \n",
    "    res = equilibrate(ScipyOdeSimulator(model,param_values=params) , None,verbose=False)\n",
    "    print(1,end=\"\")\n",
    "    return [dose_info, res.iloc[-1]]"
   ]
  },
  {
   "cell_type": "code",
   "execution_count": 22,
   "metadata": {},
   "outputs": [
    {
     "name": "stderr",
     "output_type": "stream",
     "text": [
      "Process ForkPoolWorker-11:\n",
      "Process ForkPoolWorker-5:\n",
      "Process ForkPoolWorker-1:\n",
      "Process ForkPoolWorker-2:\n",
      "Process ForkPoolWorker-8:\n",
      "Process ForkPoolWorker-9:\n",
      "Process ForkPoolWorker-3:\n",
      "Process ForkPoolWorker-12:\n",
      "Process ForkPoolWorker-6:\n",
      "Process ForkPoolWorker-4:\n",
      "Process ForkPoolWorker-10:\n",
      "Process ForkPoolWorker-7:\n",
      "Traceback (most recent call last):\n",
      "Traceback (most recent call last):\n",
      "Traceback (most recent call last):\n",
      "Traceback (most recent call last):\n",
      "Traceback (most recent call last):\n",
      "Traceback (most recent call last):\n",
      "Traceback (most recent call last):\n",
      "Traceback (most recent call last):\n",
      "Traceback (most recent call last):\n",
      "Traceback (most recent call last):\n",
      "Traceback (most recent call last):\n",
      "  File \"/gstore/home/goetza6/.conda/envs/test_env/lib/python3.8/multiprocessing/process.py\", line 315, in _bootstrap\n",
      "    self.run()\n",
      "Traceback (most recent call last):\n",
      "  File \"/gstore/home/goetza6/.conda/envs/test_env/lib/python3.8/multiprocessing/process.py\", line 315, in _bootstrap\n",
      "    self.run()\n",
      "  File \"/gstore/home/goetza6/.conda/envs/test_env/lib/python3.8/multiprocessing/process.py\", line 315, in _bootstrap\n",
      "    self.run()\n",
      "  File \"/gstore/home/goetza6/.conda/envs/test_env/lib/python3.8/multiprocessing/process.py\", line 315, in _bootstrap\n",
      "    self.run()\n",
      "  File \"/gstore/home/goetza6/.conda/envs/test_env/lib/python3.8/multiprocessing/process.py\", line 315, in _bootstrap\n",
      "    self.run()\n",
      "  File \"/gstore/home/goetza6/.conda/envs/test_env/lib/python3.8/multiprocessing/process.py\", line 315, in _bootstrap\n",
      "    self.run()\n",
      "  File \"/gstore/home/goetza6/.conda/envs/test_env/lib/python3.8/multiprocessing/process.py\", line 315, in _bootstrap\n",
      "    self.run()\n",
      "  File \"/gstore/home/goetza6/.conda/envs/test_env/lib/python3.8/multiprocessing/process.py\", line 315, in _bootstrap\n",
      "    self.run()\n",
      "  File \"/gstore/home/goetza6/.conda/envs/test_env/lib/python3.8/multiprocessing/process.py\", line 315, in _bootstrap\n",
      "    self.run()\n",
      "  File \"/gstore/home/goetza6/.conda/envs/test_env/lib/python3.8/multiprocessing/process.py\", line 315, in _bootstrap\n",
      "    self.run()\n",
      "  File \"/gstore/home/goetza6/.conda/envs/test_env/lib/python3.8/multiprocessing/process.py\", line 315, in _bootstrap\n",
      "    self.run()\n",
      "  File \"/gstore/home/goetza6/.conda/envs/test_env/lib/python3.8/multiprocessing/process.py\", line 108, in run\n",
      "    self._target(*self._args, **self._kwargs)\n",
      "  File \"/gstore/home/goetza6/.conda/envs/test_env/lib/python3.8/multiprocessing/process.py\", line 108, in run\n",
      "    self._target(*self._args, **self._kwargs)\n",
      "  File \"/gstore/home/goetza6/.conda/envs/test_env/lib/python3.8/multiprocessing/process.py\", line 315, in _bootstrap\n",
      "    self.run()\n",
      "  File \"/gstore/home/goetza6/.conda/envs/test_env/lib/python3.8/multiprocessing/process.py\", line 108, in run\n",
      "    self._target(*self._args, **self._kwargs)\n",
      "  File \"/gstore/home/goetza6/.conda/envs/test_env/lib/python3.8/multiprocessing/process.py\", line 108, in run\n",
      "    self._target(*self._args, **self._kwargs)\n",
      "  File \"/gstore/home/goetza6/.conda/envs/test_env/lib/python3.8/multiprocessing/process.py\", line 108, in run\n",
      "    self._target(*self._args, **self._kwargs)\n",
      "  File \"/gstore/home/goetza6/.conda/envs/test_env/lib/python3.8/multiprocessing/process.py\", line 108, in run\n",
      "    self._target(*self._args, **self._kwargs)\n",
      "  File \"/gstore/home/goetza6/.conda/envs/test_env/lib/python3.8/multiprocessing/process.py\", line 108, in run\n",
      "    self._target(*self._args, **self._kwargs)\n",
      "  File \"/gstore/home/goetza6/.conda/envs/test_env/lib/python3.8/multiprocessing/process.py\", line 108, in run\n",
      "    self._target(*self._args, **self._kwargs)\n",
      "  File \"/gstore/home/goetza6/.conda/envs/test_env/lib/python3.8/multiprocessing/process.py\", line 108, in run\n",
      "    self._target(*self._args, **self._kwargs)\n",
      "  File \"/gstore/home/goetza6/.conda/envs/test_env/lib/python3.8/multiprocessing/process.py\", line 108, in run\n",
      "    self._target(*self._args, **self._kwargs)\n",
      "  File \"/gstore/home/goetza6/.conda/envs/test_env/lib/python3.8/multiprocessing/process.py\", line 108, in run\n",
      "    self._target(*self._args, **self._kwargs)\n",
      "  File \"/gstore/home/goetza6/.conda/envs/test_env/lib/python3.8/multiprocessing/pool.py\", line 125, in worker\n",
      "    result = (True, func(*args, **kwds))\n",
      "  File \"/gstore/home/goetza6/.conda/envs/test_env/lib/python3.8/multiprocessing/pool.py\", line 125, in worker\n",
      "    result = (True, func(*args, **kwds))\n",
      "  File \"/gstore/home/goetza6/.conda/envs/test_env/lib/python3.8/multiprocessing/process.py\", line 108, in run\n",
      "    self._target(*self._args, **self._kwargs)\n",
      "  File \"/gstore/home/goetza6/.conda/envs/test_env/lib/python3.8/multiprocessing/pool.py\", line 125, in worker\n",
      "    result = (True, func(*args, **kwds))\n",
      "  File \"/gstore/home/goetza6/.conda/envs/test_env/lib/python3.8/multiprocessing/pool.py\", line 125, in worker\n",
      "    result = (True, func(*args, **kwds))\n",
      "  File \"/gstore/home/goetza6/.conda/envs/test_env/lib/python3.8/multiprocessing/pool.py\", line 125, in worker\n",
      "    result = (True, func(*args, **kwds))\n",
      "  File \"/gstore/home/goetza6/.conda/envs/test_env/lib/python3.8/multiprocessing/pool.py\", line 125, in worker\n",
      "    result = (True, func(*args, **kwds))\n",
      "  File \"/gstore/home/goetza6/.conda/envs/test_env/lib/python3.8/multiprocessing/pool.py\", line 125, in worker\n",
      "    result = (True, func(*args, **kwds))\n",
      "  File \"/gstore/home/goetza6/.conda/envs/test_env/lib/python3.8/multiprocessing/pool.py\", line 125, in worker\n",
      "    result = (True, func(*args, **kwds))\n",
      "  File \"/gstore/home/goetza6/.conda/envs/test_env/lib/python3.8/multiprocessing/pool.py\", line 125, in worker\n",
      "    result = (True, func(*args, **kwds))\n",
      "  File \"/gstore/home/goetza6/.conda/envs/test_env/lib/python3.8/multiprocessing/pool.py\", line 125, in worker\n",
      "    result = (True, func(*args, **kwds))\n",
      "  File \"/gstore/home/goetza6/.conda/envs/test_env/lib/python3.8/multiprocessing/pool.py\", line 125, in worker\n",
      "    result = (True, func(*args, **kwds))\n",
      "  File \"/gstore/home/goetza6/.conda/envs/test_env/lib/python3.8/multiprocessing/pool.py\", line 125, in worker\n",
      "    result = (True, func(*args, **kwds))\n",
      "  File \"/gstore/home/goetza6/.conda/envs/test_env/lib/python3.8/multiprocessing/pool.py\", line 48, in mapstar\n",
      "    return list(map(*args))\n",
      "  File \"/gstore/home/goetza6/.conda/envs/test_env/lib/python3.8/multiprocessing/pool.py\", line 48, in mapstar\n",
      "    return list(map(*args))\n",
      "  File \"/gstore/home/goetza6/.conda/envs/test_env/lib/python3.8/multiprocessing/pool.py\", line 48, in mapstar\n",
      "    return list(map(*args))\n",
      "  File \"/gstore/home/goetza6/.conda/envs/test_env/lib/python3.8/multiprocessing/pool.py\", line 48, in mapstar\n",
      "    return list(map(*args))\n",
      "  File \"/gstore/home/goetza6/.conda/envs/test_env/lib/python3.8/multiprocessing/pool.py\", line 48, in mapstar\n",
      "    return list(map(*args))\n",
      "  File \"/gstore/home/goetza6/.conda/envs/test_env/lib/python3.8/multiprocessing/pool.py\", line 48, in mapstar\n",
      "    return list(map(*args))\n",
      "  File \"/gstore/home/goetza6/.conda/envs/test_env/lib/python3.8/multiprocessing/pool.py\", line 48, in mapstar\n",
      "    return list(map(*args))\n",
      "  File \"/gstore/home/goetza6/.conda/envs/test_env/lib/python3.8/multiprocessing/pool.py\", line 48, in mapstar\n",
      "    return list(map(*args))\n",
      "  File \"/gstore/home/goetza6/.conda/envs/test_env/lib/python3.8/multiprocessing/pool.py\", line 48, in mapstar\n",
      "    return list(map(*args))\n",
      "  File \"/gstore/home/goetza6/.conda/envs/test_env/lib/python3.8/multiprocessing/pool.py\", line 48, in mapstar\n",
      "    return list(map(*args))\n",
      "  File \"/gstore/home/goetza6/.conda/envs/test_env/lib/python3.8/multiprocessing/pool.py\", line 48, in mapstar\n",
      "    return list(map(*args))\n",
      "  File \"/local/10194702/ipykernel_26244/279702627.py\", line 4, in simulate_inhib_dose\n",
      "    res = equilibrate(ScipyOdeSimulator(model,param_values=params) , None,verbose=False)\n",
      "  File \"/gstore/home/goetza6/.conda/envs/test_env/lib/python3.8/multiprocessing/pool.py\", line 48, in mapstar\n",
      "    return list(map(*args))\n",
      "  File \"/local/10194702/ipykernel_26244/279702627.py\", line 4, in simulate_inhib_dose\n",
      "    res = equilibrate(ScipyOdeSimulator(model,param_values=params) , None,verbose=False)\n",
      "  File \"/local/10194702/ipykernel_26244/279702627.py\", line 4, in simulate_inhib_dose\n",
      "    res = equilibrate(ScipyOdeSimulator(model,param_values=params) , None,verbose=False)\n",
      "  File \"/local/10194702/ipykernel_26244/279702627.py\", line 4, in simulate_inhib_dose\n",
      "    res = equilibrate(ScipyOdeSimulator(model,param_values=params) , None,verbose=False)\n",
      "  File \"/local/10194702/ipykernel_26244/279702627.py\", line 4, in simulate_inhib_dose\n",
      "    res = equilibrate(ScipyOdeSimulator(model,param_values=params) , None,verbose=False)\n",
      "  File \"/local/10194702/ipykernel_26244/279702627.py\", line 4, in simulate_inhib_dose\n",
      "    res = equilibrate(ScipyOdeSimulator(model,param_values=params) , None,verbose=False)\n",
      "  File \"/local/10194702/ipykernel_26244/279702627.py\", line 4, in simulate_inhib_dose\n",
      "    res = equilibrate(ScipyOdeSimulator(model,param_values=params) , None,verbose=False)\n",
      "  File \"/local/10194702/ipykernel_26244/279702627.py\", line 4, in simulate_inhib_dose\n",
      "    res = equilibrate(ScipyOdeSimulator(model,param_values=params) , None,verbose=False)\n",
      "  File \"/local/10194702/ipykernel_26244/279702627.py\", line 4, in simulate_inhib_dose\n",
      "    res = equilibrate(ScipyOdeSimulator(model,param_values=params) , None,verbose=False)\n",
      "  File \"/local/10194702/ipykernel_26244/279702627.py\", line 4, in simulate_inhib_dose\n",
      "    res = equilibrate(ScipyOdeSimulator(model,param_values=params) , None,verbose=False)\n",
      "  File \"/local/10194702/ipykernel_26244/279702627.py\", line 4, in simulate_inhib_dose\n",
      "    res = equilibrate(ScipyOdeSimulator(model,param_values=params) , None,verbose=False)\n",
      "  File \"/gstore/home/goetza6/.conda/envs/test_env/lib/python3.8/site-packages/pysb/simulator/scipyode.py\", line 148, in __init__\n",
      "    self.rhs_builder = builder_cls(\n",
      "  File \"/local/10194702/ipykernel_26244/279702627.py\", line 4, in simulate_inhib_dose\n",
      "    res = equilibrate(ScipyOdeSimulator(model,param_values=params) , None,verbose=False)\n",
      "  File \"/gstore/home/goetza6/.conda/envs/test_env/lib/python3.8/site-packages/pysb/simulator/scipyode.py\", line 148, in __init__\n",
      "    self.rhs_builder = builder_cls(\n",
      "  File \"/gstore/home/goetza6/.conda/envs/test_env/lib/python3.8/site-packages/pysb/simulator/scipyode.py\", line 148, in __init__\n",
      "    self.rhs_builder = builder_cls(\n",
      "  File \"/gstore/home/goetza6/.conda/envs/test_env/lib/python3.8/site-packages/pysb/simulator/scipyode.py\", line 148, in __init__\n",
      "    self.rhs_builder = builder_cls(\n",
      "  File \"/gstore/home/goetza6/.conda/envs/test_env/lib/python3.8/site-packages/pysb/simulator/scipyode.py\", line 148, in __init__\n",
      "    self.rhs_builder = builder_cls(\n",
      "  File \"/gstore/home/goetza6/.conda/envs/test_env/lib/python3.8/site-packages/pysb/simulator/scipyode.py\", line 148, in __init__\n",
      "    self.rhs_builder = builder_cls(\n",
      "  File \"/gstore/home/goetza6/.conda/envs/test_env/lib/python3.8/site-packages/pysb/simulator/scipyode.py\", line 148, in __init__\n",
      "    self.rhs_builder = builder_cls(\n",
      "  File \"/gstore/home/goetza6/.conda/envs/test_env/lib/python3.8/site-packages/pysb/simulator/scipyode.py\", line 148, in __init__\n",
      "    self.rhs_builder = builder_cls(\n",
      "  File \"/gstore/home/goetza6/.conda/envs/test_env/lib/python3.8/site-packages/pysb/simulator/scipyode.py\", line 148, in __init__\n",
      "    self.rhs_builder = builder_cls(\n",
      "  File \"/gstore/home/goetza6/.conda/envs/test_env/lib/python3.8/site-packages/pysb/simulator/scipyode.py\", line 148, in __init__\n",
      "    self.rhs_builder = builder_cls(\n",
      "  File \"/gstore/home/goetza6/.conda/envs/test_env/lib/python3.8/site-packages/pysb/simulator/scipyode.py\", line 148, in __init__\n",
      "    self.rhs_builder = builder_cls(\n",
      "  File \"/gstore/home/goetza6/.conda/envs/test_env/lib/python3.8/site-packages/pysb/simulator/scipyode.py\", line 148, in __init__\n",
      "    self.rhs_builder = builder_cls(\n",
      "  File \"/gstore/home/goetza6/.conda/envs/test_env/lib/python3.8/site-packages/pysb/simulator/scipyode.py\", line 667, in __init__\n",
      "    functions = {\n",
      "  File \"/gstore/home/goetza6/.conda/envs/test_env/lib/python3.8/site-packages/pysb/simulator/scipyode.py\", line 667, in __init__\n",
      "    functions = {\n",
      "  File \"/gstore/home/goetza6/.conda/envs/test_env/lib/python3.8/site-packages/pysb/simulator/scipyode.py\", line 667, in __init__\n",
      "    functions = {\n",
      "  File \"/gstore/home/goetza6/.conda/envs/test_env/lib/python3.8/site-packages/pysb/simulator/scipyode.py\", line 667, in __init__\n",
      "    functions = {\n",
      "  File \"/gstore/home/goetza6/.conda/envs/test_env/lib/python3.8/site-packages/pysb/simulator/scipyode.py\", line 667, in __init__\n",
      "    functions = {\n",
      "  File \"/gstore/home/goetza6/.conda/envs/test_env/lib/python3.8/site-packages/pysb/simulator/scipyode.py\", line 667, in __init__\n",
      "    functions = {\n",
      "  File \"/gstore/home/goetza6/.conda/envs/test_env/lib/python3.8/site-packages/pysb/simulator/scipyode.py\", line 667, in __init__\n",
      "    functions = {\n",
      "  File \"/gstore/home/goetza6/.conda/envs/test_env/lib/python3.8/site-packages/pysb/simulator/scipyode.py\", line 667, in __init__\n",
      "    functions = {\n",
      "  File \"/gstore/home/goetza6/.conda/envs/test_env/lib/python3.8/site-packages/pysb/simulator/scipyode.py\", line 667, in __init__\n",
      "    functions = {\n",
      "  File \"/gstore/home/goetza6/.conda/envs/test_env/lib/python3.8/site-packages/pysb/simulator/scipyode.py\", line 667, in __init__\n",
      "    functions = {\n",
      "  File \"/gstore/home/goetza6/.conda/envs/test_env/lib/python3.8/site-packages/pysb/simulator/scipyode.py\", line 667, in __init__\n",
      "    functions = {\n",
      "  File \"/gstore/home/goetza6/.conda/envs/test_env/lib/python3.8/site-packages/pysb/simulator/scipyode.py\", line 667, in __init__\n",
      "    functions = {\n",
      "  File \"/gstore/home/goetza6/.conda/envs/test_env/lib/python3.8/site-packages/pysb/simulator/scipyode.py\", line 668, in <dictcomp>\n",
      "    name: code_wrapper.wrap_code(routine)\n",
      "  File \"/gstore/home/goetza6/.conda/envs/test_env/lib/python3.8/site-packages/pysb/simulator/scipyode.py\", line 668, in <dictcomp>\n",
      "    name: code_wrapper.wrap_code(routine)\n",
      "  File \"/gstore/home/goetza6/.conda/envs/test_env/lib/python3.8/site-packages/pysb/simulator/scipyode.py\", line 668, in <dictcomp>\n",
      "    name: code_wrapper.wrap_code(routine)\n",
      "  File \"/gstore/home/goetza6/.conda/envs/test_env/lib/python3.8/site-packages/pysb/simulator/scipyode.py\", line 668, in <dictcomp>\n",
      "    name: code_wrapper.wrap_code(routine)\n",
      "  File \"/gstore/home/goetza6/.conda/envs/test_env/lib/python3.8/site-packages/pysb/simulator/scipyode.py\", line 668, in <dictcomp>\n",
      "    name: code_wrapper.wrap_code(routine)\n",
      "  File \"/gstore/home/goetza6/.conda/envs/test_env/lib/python3.8/site-packages/pysb/simulator/scipyode.py\", line 668, in <dictcomp>\n",
      "    name: code_wrapper.wrap_code(routine)\n",
      "  File \"/gstore/home/goetza6/.conda/envs/test_env/lib/python3.8/site-packages/pysb/simulator/scipyode.py\", line 668, in <dictcomp>\n",
      "    name: code_wrapper.wrap_code(routine)\n",
      "  File \"/gstore/home/goetza6/.conda/envs/test_env/lib/python3.8/site-packages/pysb/simulator/scipyode.py\", line 668, in <dictcomp>\n",
      "    name: code_wrapper.wrap_code(routine)\n",
      "  File \"/gstore/home/goetza6/.conda/envs/test_env/lib/python3.8/site-packages/pysb/simulator/scipyode.py\", line 668, in <dictcomp>\n",
      "    name: code_wrapper.wrap_code(routine)\n",
      "  File \"/gstore/home/goetza6/.conda/envs/test_env/lib/python3.8/site-packages/pysb/simulator/scipyode.py\", line 668, in <dictcomp>\n",
      "    name: code_wrapper.wrap_code(routine)\n",
      "  File \"/gstore/home/goetza6/.conda/envs/test_env/lib/python3.8/site-packages/pysb/simulator/scipyode.py\", line 668, in <dictcomp>\n",
      "    name: code_wrapper.wrap_code(routine)\n",
      "  File \"/gstore/home/goetza6/.conda/envs/test_env/lib/python3.8/site-packages/sympy/utilities/autowrap.py\", line 163, in wrap_code\n",
      "    self._process_files(routine)\n",
      "  File \"/gstore/home/goetza6/.conda/envs/test_env/lib/python3.8/site-packages/sympy/utilities/autowrap.py\", line 163, in wrap_code\n",
      "    self._process_files(routine)\n",
      "  File \"/gstore/home/goetza6/.conda/envs/test_env/lib/python3.8/site-packages/pysb/simulator/scipyode.py\", line 668, in <dictcomp>\n",
      "    name: code_wrapper.wrap_code(routine)\n",
      "  File \"/gstore/home/goetza6/.conda/envs/test_env/lib/python3.8/site-packages/sympy/utilities/autowrap.py\", line 163, in wrap_code\n",
      "    self._process_files(routine)\n",
      "  File \"/gstore/home/goetza6/.conda/envs/test_env/lib/python3.8/site-packages/sympy/utilities/autowrap.py\", line 163, in wrap_code\n",
      "    self._process_files(routine)\n",
      "  File \"/gstore/home/goetza6/.conda/envs/test_env/lib/python3.8/site-packages/sympy/utilities/autowrap.py\", line 163, in wrap_code\n",
      "    self._process_files(routine)\n",
      "  File \"/gstore/home/goetza6/.conda/envs/test_env/lib/python3.8/site-packages/sympy/utilities/autowrap.py\", line 163, in wrap_code\n",
      "    self._process_files(routine)\n",
      "  File \"/gstore/home/goetza6/.conda/envs/test_env/lib/python3.8/site-packages/sympy/utilities/autowrap.py\", line 163, in wrap_code\n",
      "    self._process_files(routine)\n",
      "  File \"/gstore/home/goetza6/.conda/envs/test_env/lib/python3.8/site-packages/sympy/utilities/autowrap.py\", line 163, in wrap_code\n",
      "    self._process_files(routine)\n",
      "  File \"/gstore/home/goetza6/.conda/envs/test_env/lib/python3.8/site-packages/sympy/utilities/autowrap.py\", line 163, in wrap_code\n",
      "    self._process_files(routine)\n",
      "  File \"/gstore/home/goetza6/.conda/envs/test_env/lib/python3.8/site-packages/sympy/utilities/autowrap.py\", line 163, in wrap_code\n",
      "    self._process_files(routine)\n",
      "  File \"/gstore/home/goetza6/.conda/envs/test_env/lib/python3.8/site-packages/sympy/utilities/autowrap.py\", line 163, in wrap_code\n",
      "    self._process_files(routine)\n",
      "  File \"/gstore/home/goetza6/.conda/envs/test_env/lib/python3.8/site-packages/sympy/utilities/autowrap.py\", line 182, in _process_files\n",
      "    retoutput = check_output(command, stderr=STDOUT)\n",
      "  File \"/gstore/home/goetza6/.conda/envs/test_env/lib/python3.8/site-packages/sympy/utilities/autowrap.py\", line 182, in _process_files\n",
      "    retoutput = check_output(command, stderr=STDOUT)\n",
      "  File \"/gstore/home/goetza6/.conda/envs/test_env/lib/python3.8/site-packages/sympy/utilities/autowrap.py\", line 182, in _process_files\n",
      "    retoutput = check_output(command, stderr=STDOUT)\n",
      "  File \"/gstore/home/goetza6/.conda/envs/test_env/lib/python3.8/site-packages/sympy/utilities/autowrap.py\", line 163, in wrap_code\n",
      "    self._process_files(routine)\n",
      "  File \"/gstore/home/goetza6/.conda/envs/test_env/lib/python3.8/site-packages/sympy/utilities/autowrap.py\", line 182, in _process_files\n",
      "    retoutput = check_output(command, stderr=STDOUT)\n",
      "  File \"/gstore/home/goetza6/.conda/envs/test_env/lib/python3.8/site-packages/sympy/utilities/autowrap.py\", line 182, in _process_files\n",
      "    retoutput = check_output(command, stderr=STDOUT)\n",
      "  File \"/gstore/home/goetza6/.conda/envs/test_env/lib/python3.8/site-packages/sympy/utilities/autowrap.py\", line 182, in _process_files\n",
      "    retoutput = check_output(command, stderr=STDOUT)\n",
      "  File \"/gstore/home/goetza6/.conda/envs/test_env/lib/python3.8/site-packages/sympy/utilities/autowrap.py\", line 182, in _process_files\n",
      "    retoutput = check_output(command, stderr=STDOUT)\n",
      "  File \"/gstore/home/goetza6/.conda/envs/test_env/lib/python3.8/site-packages/sympy/utilities/autowrap.py\", line 182, in _process_files\n",
      "    retoutput = check_output(command, stderr=STDOUT)\n",
      "  File \"/gstore/home/goetza6/.conda/envs/test_env/lib/python3.8/site-packages/sympy/utilities/autowrap.py\", line 182, in _process_files\n",
      "    retoutput = check_output(command, stderr=STDOUT)\n",
      "  File \"/gstore/home/goetza6/.conda/envs/test_env/lib/python3.8/site-packages/sympy/utilities/autowrap.py\", line 182, in _process_files\n",
      "    retoutput = check_output(command, stderr=STDOUT)\n",
      "  File \"/gstore/home/goetza6/.conda/envs/test_env/lib/python3.8/subprocess.py\", line 415, in check_output\n",
      "    return run(*popenargs, stdout=PIPE, timeout=timeout, check=True,\n",
      "  File \"/gstore/home/goetza6/.conda/envs/test_env/lib/python3.8/site-packages/sympy/utilities/autowrap.py\", line 182, in _process_files\n",
      "    retoutput = check_output(command, stderr=STDOUT)\n",
      "  File \"/gstore/home/goetza6/.conda/envs/test_env/lib/python3.8/subprocess.py\", line 415, in check_output\n",
      "    return run(*popenargs, stdout=PIPE, timeout=timeout, check=True,\n",
      "  File \"/gstore/home/goetza6/.conda/envs/test_env/lib/python3.8/subprocess.py\", line 415, in check_output\n",
      "    return run(*popenargs, stdout=PIPE, timeout=timeout, check=True,\n",
      "  File \"/gstore/home/goetza6/.conda/envs/test_env/lib/python3.8/subprocess.py\", line 415, in check_output\n",
      "    return run(*popenargs, stdout=PIPE, timeout=timeout, check=True,\n",
      "  File \"/gstore/home/goetza6/.conda/envs/test_env/lib/python3.8/site-packages/sympy/utilities/autowrap.py\", line 182, in _process_files\n",
      "    retoutput = check_output(command, stderr=STDOUT)\n",
      "  File \"/gstore/home/goetza6/.conda/envs/test_env/lib/python3.8/subprocess.py\", line 415, in check_output\n",
      "    return run(*popenargs, stdout=PIPE, timeout=timeout, check=True,\n",
      "  File \"/gstore/home/goetza6/.conda/envs/test_env/lib/python3.8/subprocess.py\", line 415, in check_output\n",
      "    return run(*popenargs, stdout=PIPE, timeout=timeout, check=True,\n",
      "  File \"/gstore/home/goetza6/.conda/envs/test_env/lib/python3.8/subprocess.py\", line 415, in check_output\n",
      "    return run(*popenargs, stdout=PIPE, timeout=timeout, check=True,\n",
      "  File \"/gstore/home/goetza6/.conda/envs/test_env/lib/python3.8/subprocess.py\", line 415, in check_output\n",
      "    return run(*popenargs, stdout=PIPE, timeout=timeout, check=True,\n",
      "  File \"/gstore/home/goetza6/.conda/envs/test_env/lib/python3.8/subprocess.py\", line 415, in check_output\n",
      "    return run(*popenargs, stdout=PIPE, timeout=timeout, check=True,\n",
      "  File \"/gstore/home/goetza6/.conda/envs/test_env/lib/python3.8/subprocess.py\", line 415, in check_output\n",
      "    return run(*popenargs, stdout=PIPE, timeout=timeout, check=True,\n",
      "  File \"/gstore/home/goetza6/.conda/envs/test_env/lib/python3.8/subprocess.py\", line 495, in run\n",
      "    stdout, stderr = process.communicate(input, timeout=timeout)\n",
      "  File \"/gstore/home/goetza6/.conda/envs/test_env/lib/python3.8/subprocess.py\", line 495, in run\n",
      "    stdout, stderr = process.communicate(input, timeout=timeout)\n",
      "  File \"/gstore/home/goetza6/.conda/envs/test_env/lib/python3.8/subprocess.py\", line 415, in check_output\n",
      "    return run(*popenargs, stdout=PIPE, timeout=timeout, check=True,\n",
      "  File \"/gstore/home/goetza6/.conda/envs/test_env/lib/python3.8/subprocess.py\", line 495, in run\n",
      "    stdout, stderr = process.communicate(input, timeout=timeout)\n",
      "  File \"/gstore/home/goetza6/.conda/envs/test_env/lib/python3.8/subprocess.py\", line 495, in run\n",
      "    stdout, stderr = process.communicate(input, timeout=timeout)\n",
      "  File \"/gstore/home/goetza6/.conda/envs/test_env/lib/python3.8/subprocess.py\", line 495, in run\n",
      "    stdout, stderr = process.communicate(input, timeout=timeout)\n",
      "  File \"/gstore/home/goetza6/.conda/envs/test_env/lib/python3.8/subprocess.py\", line 415, in check_output\n",
      "    return run(*popenargs, stdout=PIPE, timeout=timeout, check=True,\n",
      "  File \"/gstore/home/goetza6/.conda/envs/test_env/lib/python3.8/subprocess.py\", line 495, in run\n",
      "    stdout, stderr = process.communicate(input, timeout=timeout)\n",
      "  File \"/gstore/home/goetza6/.conda/envs/test_env/lib/python3.8/subprocess.py\", line 495, in run\n",
      "    stdout, stderr = process.communicate(input, timeout=timeout)\n",
      "  File \"/gstore/home/goetza6/.conda/envs/test_env/lib/python3.8/subprocess.py\", line 495, in run\n",
      "    stdout, stderr = process.communicate(input, timeout=timeout)\n",
      "  File \"/gstore/home/goetza6/.conda/envs/test_env/lib/python3.8/subprocess.py\", line 495, in run\n",
      "    stdout, stderr = process.communicate(input, timeout=timeout)\n",
      "  File \"/gstore/home/goetza6/.conda/envs/test_env/lib/python3.8/subprocess.py\", line 495, in run\n",
      "    stdout, stderr = process.communicate(input, timeout=timeout)\n",
      "  File \"/gstore/home/goetza6/.conda/envs/test_env/lib/python3.8/subprocess.py\", line 1015, in communicate\n",
      "    stdout = self.stdout.read()\n",
      "  File \"/gstore/home/goetza6/.conda/envs/test_env/lib/python3.8/subprocess.py\", line 1015, in communicate\n",
      "    stdout = self.stdout.read()\n",
      "  File \"/gstore/home/goetza6/.conda/envs/test_env/lib/python3.8/subprocess.py\", line 495, in run\n",
      "    stdout, stderr = process.communicate(input, timeout=timeout)\n",
      "  File \"/gstore/home/goetza6/.conda/envs/test_env/lib/python3.8/subprocess.py\", line 1015, in communicate\n",
      "    stdout = self.stdout.read()\n",
      "  File \"/gstore/home/goetza6/.conda/envs/test_env/lib/python3.8/subprocess.py\", line 1015, in communicate\n",
      "    stdout = self.stdout.read()\n",
      "  File \"/gstore/home/goetza6/.conda/envs/test_env/lib/python3.8/subprocess.py\", line 1015, in communicate\n",
      "    stdout = self.stdout.read()\n",
      "  File \"/gstore/home/goetza6/.conda/envs/test_env/lib/python3.8/subprocess.py\", line 495, in run\n",
      "    stdout, stderr = process.communicate(input, timeout=timeout)\n",
      "  File \"/gstore/home/goetza6/.conda/envs/test_env/lib/python3.8/subprocess.py\", line 1015, in communicate\n",
      "    stdout = self.stdout.read()\n",
      "  File \"/gstore/home/goetza6/.conda/envs/test_env/lib/python3.8/subprocess.py\", line 1015, in communicate\n",
      "    stdout = self.stdout.read()\n",
      "  File \"/gstore/home/goetza6/.conda/envs/test_env/lib/python3.8/subprocess.py\", line 1015, in communicate\n",
      "    stdout = self.stdout.read()\n",
      "  File \"/gstore/home/goetza6/.conda/envs/test_env/lib/python3.8/subprocess.py\", line 1015, in communicate\n",
      "    stdout = self.stdout.read()\n",
      "KeyboardInterrupt\n",
      "KeyboardInterrupt\n",
      "  File \"/gstore/home/goetza6/.conda/envs/test_env/lib/python3.8/subprocess.py\", line 1015, in communicate\n",
      "    stdout = self.stdout.read()\n",
      "  File \"/gstore/home/goetza6/.conda/envs/test_env/lib/python3.8/subprocess.py\", line 1015, in communicate\n",
      "    stdout = self.stdout.read()\n",
      "KeyboardInterrupt\n",
      "KeyboardInterrupt\n",
      "KeyboardInterrupt\n",
      "  File \"/gstore/home/goetza6/.conda/envs/test_env/lib/python3.8/subprocess.py\", line 1015, in communicate\n",
      "    stdout = self.stdout.read()\n",
      "KeyboardInterrupt\n",
      "KeyboardInterrupt\n",
      "KeyboardInterrupt\n",
      "KeyboardInterrupt\n",
      "KeyboardInterrupt\n",
      "KeyboardInterrupt\n",
      "KeyboardInterrupt\n"
     ]
    },
    {
     "ename": "KeyboardInterrupt",
     "evalue": "",
     "output_type": "error",
     "traceback": [
      "\u001b[0;31m---------------------------------------------------------------------------\u001b[0m",
      "\u001b[0;31mKeyboardInterrupt\u001b[0m                         Traceback (most recent call last)",
      "Cell \u001b[0;32mIn[22], line 15\u001b[0m\n\u001b[1;32m     13\u001b[0m \u001b[38;5;66;03m# only 14 cpu's are availible \u001b[39;00m\n\u001b[1;32m     14\u001b[0m pol \u001b[38;5;241m=\u001b[39m Pool(processes\u001b[38;5;241m=\u001b[39m\u001b[38;5;241m12\u001b[39m)\n\u001b[0;32m---> 15\u001b[0m results \u001b[38;5;241m=\u001b[39m \u001b[43mpol\u001b[49m\u001b[38;5;241;43m.\u001b[39;49m\u001b[43mmap\u001b[49m\u001b[43m(\u001b[49m\u001b[43msimulate_inhib_dose\u001b[49m\u001b[43m,\u001b[49m\u001b[43m \u001b[49m\u001b[43m[\u001b[49m\u001b[43mi\u001b[49m\u001b[43m \u001b[49m\u001b[38;5;28;43;01mfor\u001b[39;49;00m\u001b[43m \u001b[49m\u001b[43mi\u001b[49m\u001b[43m \u001b[49m\u001b[38;5;129;43;01min\u001b[39;49;00m\u001b[43m \u001b[49m\u001b[43mdose_ind\u001b[49m\u001b[43m]\u001b[49m\u001b[43m)\u001b[49m\n\u001b[1;32m     16\u001b[0m \u001b[38;5;28;01mfor\u001b[39;00m i \u001b[38;5;129;01min\u001b[39;00m \u001b[38;5;28mrange\u001b[39m(\u001b[38;5;28mlen\u001b[39m(results)):\n\u001b[1;32m     17\u001b[0m     dr_df\u001b[38;5;241m.\u001b[39mloc[results[i][\u001b[38;5;241m0\u001b[39m]] \u001b[38;5;241m=\u001b[39m results[i][\u001b[38;5;241m1\u001b[39m][plt_obs]\n",
      "File \u001b[0;32m~/.conda/envs/test_env/lib/python3.8/multiprocessing/pool.py:364\u001b[0m, in \u001b[0;36mPool.map\u001b[0;34m(self, func, iterable, chunksize)\u001b[0m\n\u001b[1;32m    359\u001b[0m \u001b[38;5;28;01mdef\u001b[39;00m \u001b[38;5;21mmap\u001b[39m(\u001b[38;5;28mself\u001b[39m, func, iterable, chunksize\u001b[38;5;241m=\u001b[39m\u001b[38;5;28;01mNone\u001b[39;00m):\n\u001b[1;32m    360\u001b[0m \u001b[38;5;250m    \u001b[39m\u001b[38;5;124;03m'''\u001b[39;00m\n\u001b[1;32m    361\u001b[0m \u001b[38;5;124;03m    Apply `func` to each element in `iterable`, collecting the results\u001b[39;00m\n\u001b[1;32m    362\u001b[0m \u001b[38;5;124;03m    in a list that is returned.\u001b[39;00m\n\u001b[1;32m    363\u001b[0m \u001b[38;5;124;03m    '''\u001b[39;00m\n\u001b[0;32m--> 364\u001b[0m     \u001b[38;5;28;01mreturn\u001b[39;00m \u001b[38;5;28;43mself\u001b[39;49m\u001b[38;5;241;43m.\u001b[39;49m\u001b[43m_map_async\u001b[49m\u001b[43m(\u001b[49m\u001b[43mfunc\u001b[49m\u001b[43m,\u001b[49m\u001b[43m \u001b[49m\u001b[43miterable\u001b[49m\u001b[43m,\u001b[49m\u001b[43m \u001b[49m\u001b[43mmapstar\u001b[49m\u001b[43m,\u001b[49m\u001b[43m \u001b[49m\u001b[43mchunksize\u001b[49m\u001b[43m)\u001b[49m\u001b[38;5;241;43m.\u001b[39;49m\u001b[43mget\u001b[49m\u001b[43m(\u001b[49m\u001b[43m)\u001b[49m\n",
      "File \u001b[0;32m~/.conda/envs/test_env/lib/python3.8/multiprocessing/pool.py:765\u001b[0m, in \u001b[0;36mApplyResult.get\u001b[0;34m(self, timeout)\u001b[0m\n\u001b[1;32m    764\u001b[0m \u001b[38;5;28;01mdef\u001b[39;00m \u001b[38;5;21mget\u001b[39m(\u001b[38;5;28mself\u001b[39m, timeout\u001b[38;5;241m=\u001b[39m\u001b[38;5;28;01mNone\u001b[39;00m):\n\u001b[0;32m--> 765\u001b[0m     \u001b[38;5;28;43mself\u001b[39;49m\u001b[38;5;241;43m.\u001b[39;49m\u001b[43mwait\u001b[49m\u001b[43m(\u001b[49m\u001b[43mtimeout\u001b[49m\u001b[43m)\u001b[49m\n\u001b[1;32m    766\u001b[0m     \u001b[38;5;28;01mif\u001b[39;00m \u001b[38;5;129;01mnot\u001b[39;00m \u001b[38;5;28mself\u001b[39m\u001b[38;5;241m.\u001b[39mready():\n\u001b[1;32m    767\u001b[0m         \u001b[38;5;28;01mraise\u001b[39;00m \u001b[38;5;167;01mTimeoutError\u001b[39;00m\n",
      "File \u001b[0;32m~/.conda/envs/test_env/lib/python3.8/multiprocessing/pool.py:762\u001b[0m, in \u001b[0;36mApplyResult.wait\u001b[0;34m(self, timeout)\u001b[0m\n\u001b[1;32m    761\u001b[0m \u001b[38;5;28;01mdef\u001b[39;00m \u001b[38;5;21mwait\u001b[39m(\u001b[38;5;28mself\u001b[39m, timeout\u001b[38;5;241m=\u001b[39m\u001b[38;5;28;01mNone\u001b[39;00m):\n\u001b[0;32m--> 762\u001b[0m     \u001b[38;5;28;43mself\u001b[39;49m\u001b[38;5;241;43m.\u001b[39;49m\u001b[43m_event\u001b[49m\u001b[38;5;241;43m.\u001b[39;49m\u001b[43mwait\u001b[49m\u001b[43m(\u001b[49m\u001b[43mtimeout\u001b[49m\u001b[43m)\u001b[49m\n",
      "File \u001b[0;32m~/.conda/envs/test_env/lib/python3.8/threading.py:558\u001b[0m, in \u001b[0;36mEvent.wait\u001b[0;34m(self, timeout)\u001b[0m\n\u001b[1;32m    556\u001b[0m signaled \u001b[38;5;241m=\u001b[39m \u001b[38;5;28mself\u001b[39m\u001b[38;5;241m.\u001b[39m_flag\n\u001b[1;32m    557\u001b[0m \u001b[38;5;28;01mif\u001b[39;00m \u001b[38;5;129;01mnot\u001b[39;00m signaled:\n\u001b[0;32m--> 558\u001b[0m     signaled \u001b[38;5;241m=\u001b[39m \u001b[38;5;28;43mself\u001b[39;49m\u001b[38;5;241;43m.\u001b[39;49m\u001b[43m_cond\u001b[49m\u001b[38;5;241;43m.\u001b[39;49m\u001b[43mwait\u001b[49m\u001b[43m(\u001b[49m\u001b[43mtimeout\u001b[49m\u001b[43m)\u001b[49m\n\u001b[1;32m    559\u001b[0m \u001b[38;5;28;01mreturn\u001b[39;00m signaled\n",
      "File \u001b[0;32m~/.conda/envs/test_env/lib/python3.8/threading.py:302\u001b[0m, in \u001b[0;36mCondition.wait\u001b[0;34m(self, timeout)\u001b[0m\n\u001b[1;32m    300\u001b[0m \u001b[38;5;28;01mtry\u001b[39;00m:    \u001b[38;5;66;03m# restore state no matter what (e.g., KeyboardInterrupt)\u001b[39;00m\n\u001b[1;32m    301\u001b[0m     \u001b[38;5;28;01mif\u001b[39;00m timeout \u001b[38;5;129;01mis\u001b[39;00m \u001b[38;5;28;01mNone\u001b[39;00m:\n\u001b[0;32m--> 302\u001b[0m         \u001b[43mwaiter\u001b[49m\u001b[38;5;241;43m.\u001b[39;49m\u001b[43macquire\u001b[49m\u001b[43m(\u001b[49m\u001b[43m)\u001b[49m\n\u001b[1;32m    303\u001b[0m         gotit \u001b[38;5;241m=\u001b[39m \u001b[38;5;28;01mTrue\u001b[39;00m\n\u001b[1;32m    304\u001b[0m     \u001b[38;5;28;01melse\u001b[39;00m:\n",
      "\u001b[0;31mKeyboardInterrupt\u001b[0m: "
     ]
    },
    {
     "name": "stdout",
     "output_type": "stream",
     "text": [
      "11111111111111111111111111111111111"
     ]
    }
   ],
   "source": [
    "if __name__ == '__main__':\n",
    "    #create a bar to keep track of simulation progress\n",
    "    #define observables to plot, handle plotting alias with dict\n",
    "    plt_obs=['pMEK', 'pMEK_obs', 'pERK', 'pERK_obs','gdpRAS','gtpRAS','bound_CRAF','unbound_CRAF','uS1134SOS1','pS1134SOS1','pS1134SOS1_obs','gtpRAS_obs','bound_CRAF_obs'];\n",
    "    #plot_obs_names=['pMEK', 'pMEK/tMEK', 'pERK', 'pERK/tERK'];\n",
    "    #plot_name_dict = dict(zip(plt_obs,plot_obs_names))\n",
    "    dr_df = pd.DataFrame(columns = [\"RAFi_0_uM\",\"MEKi_0_uM\"]+plt_obs)\n",
    "    dose_ind = list(itertools.product(*[RAFi_dil,MEKi_dil]))\n",
    "    #print(dose_ind)\n",
    "    dr_df[\"RAFi_0_uM\"] = [i[0] for i in dose_ind]\n",
    "    dr_df[\"MEKi_0_uM\"] = [i[1] for i in dose_ind]\n",
    "    dr_df = dr_df.set_index([\"RAFi_0_uM\",\"MEKi_0_uM\"])\n",
    "    # only 14 cpu's are availible \n",
    "    pol = Pool(processes=12)\n",
    "    results = pol.map(simulate_inhib_dose, [i for i in dose_ind])\n",
    "    for i in range(len(results)):\n",
    "        dr_df.loc[results[i][0]] = results[i][1][plt_obs]\n",
    "    dr_df.to_csv(\"dose_response_df/brange_RAFi_MEKi_BRAFV600E\")\n",
    "    pol.close()\n",
    "    pol.join()\n",
    "    "
   ]
  },
  {
   "cell_type": "code",
   "execution_count": null,
   "metadata": {},
   "outputs": [],
   "source": [
    "!conda env export --name test_env"
   ]
  },
  {
   "cell_type": "code",
   "execution_count": null,
   "metadata": {},
   "outputs": [],
   "source": []
  }
 ],
 "metadata": {
  "kernelspec": {
   "display_name": "test_env",
   "language": "python",
   "name": "test_env"
  },
  "language_info": {
   "codemirror_mode": {
    "name": "ipython",
    "version": 3
   },
   "file_extension": ".py",
   "mimetype": "text/x-python",
   "name": "python",
   "nbconvert_exporter": "python",
   "pygments_lexer": "ipython3",
   "version": "3.8.13"
  }
 },
 "nbformat": 4,
 "nbformat_minor": 4
}
