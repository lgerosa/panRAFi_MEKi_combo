{
 "cells": [
  {
   "cell_type": "markdown",
   "metadata": {},
   "source": [
    "# Simulation of EGF stimulation in drug-adapted BRAF<sup>V600E</sup> melanoma cells using the MARM1 model\n",
    "\n",
    "Here you can simulate the time-course respose of drug-adapted BRAF<sup>V600E</sup> melanoma cells to addition of exogenous EGF. This code simulates the time-course response of A375 melanoma cells adapted to a dose of RAF (vemurafenib) and/or MEK inhibitors (cobimetinib) and then stimulated with EGF.\n",
    "\n",
    "**Note**: this code performs the simulation for a single condition and visualizes the time-course response. Use the Jupyter Notebook *MARM1_simulation_multiple_conditions.ipynb* to generate simulation results for multiple conditions (e.g. multiple dose combinations). \n",
    "\n"
   ]
  },
  {
   "cell_type": "markdown",
   "metadata": {},
   "source": [
    "## Import of libraries\n",
    "Importing libraries necessary to run MARM1 model simulations."
   ]
  },
  {
   "cell_type": "code",
   "execution_count": 1,
   "metadata": {},
   "outputs": [],
   "source": [
    "%matplotlib inline\n",
    "import numpy as np\n",
    "import pandas as pd\n",
    "import seaborn as sns\n",
    "import matplotlib.pyplot as plt"
   ]
  },
  {
   "cell_type": "markdown",
   "metadata": {},
   "source": [
    "Importing the MARM1 PySB model and the simulator.  "
   ]
  },
  {
   "cell_type": "code",
   "execution_count": 2,
   "metadata": {},
   "outputs": [],
   "source": [
    "from pysb.simulator import ScipyOdeSimulator\n",
    "from pysb.core import as_complex_pattern\n",
    "from pysb.bng import generate_equations\n",
    "\n",
    "from MARM2_no_EGFR_no_BRAF import model"
   ]
  },
  {
   "cell_type": "markdown",
   "metadata": {},
   "source": [
    "## User-defined experimental setup\n",
    "In this section you can alter the setup of the experiment simulated by MARM1. First, you need to define the experimental setup of the pre-treatment phase and of the subsequent ligand stimulation phase. The variables needed for the pre-treatment phase are:\n",
    "\n",
    "<b>RAFi_concentration ($\\mu$M)</b>: defines the concentration of the RAF inhibitor (vemurafenib) during the pre-treatment and treatment phase. \n",
    "\n",
    "<b>MEKi_concentration ($\\mu$M)</b>: defines the concentration of the RAF inhibitor (vemurafenib) during the pre-treatment and treatment phase. \n",
    "\n",
    "<b>Pretreatment_time (h)</b>: defines the duration of the pre-treatment phase.\n",
    "    \n",
    "For the treatment phase, you need to set the concentration of the EGF ligand and the running time of simulation after ligand stimulation. This is done with the following variables:\n",
    "\n",
    "<b>EGF_concentration (ng/mL)</b>: defines the EGF concentrations used to stimulate cells. We have calibrated the model only using data from 100 ng/mL, which is thus the default value.\n",
    "\n",
    "<b>Simulation_time (h)</b>: define the simulation time after ligand stimulation. For the stimulation of cells expressing normal levels of EGFR, 2 hours is enough to visualize the pulsatile reactivation of MAPK signaling.\n",
    "\n",
    "<b>N_time_points</b>: define the number of time points returned by each model simulation. \n",
    "\n",
    "Choose the experiment to simulate by setting the following variables and re-running the notebook:"
   ]
  },
  {
   "cell_type": "markdown",
   "metadata": {},
   "source": [
    "1. **PRAF inhibitor** pre-treatment concentration in μM."
   ]
  },
  {
   "cell_type": "code",
   "execution_count": 3,
   "metadata": {},
   "outputs": [],
   "source": [
    "PRAFi_concentration = 1"
   ]
  },
  {
   "cell_type": "markdown",
   "metadata": {},
   "source": [
    "2. **MEK inhibitor** pre-treatment concentration in μM."
   ]
  },
  {
   "cell_type": "code",
   "execution_count": 4,
   "metadata": {},
   "outputs": [],
   "source": [
    "MEKi_concentration = 1"
   ]
  },
  {
   "cell_type": "markdown",
   "metadata": {},
   "source": [
    "3. **Pretreatment duration** in hours."
   ]
  },
  {
   "cell_type": "code",
   "execution_count": 5,
   "metadata": {},
   "outputs": [],
   "source": [
    "t_pretrt = 24"
   ]
  },
  {
   "cell_type": "markdown",
   "metadata": {},
   "source": [
    "4. **EGF** treatment concentration in ng/mL."
   ]
  },
  {
   "cell_type": "code",
   "execution_count": 6,
   "metadata": {},
   "outputs": [],
   "source": [
    "EGF_concentration = 0"
   ]
  },
  {
   "cell_type": "markdown",
   "metadata": {},
   "source": [
    "5. **Simulation time** in hours."
   ]
  },
  {
   "cell_type": "code",
   "execution_count": 7,
   "metadata": {},
   "outputs": [],
   "source": [
    "t_trt = 2"
   ]
  },
  {
   "cell_type": "markdown",
   "metadata": {},
   "source": [
    "6. **Parameter set** selects which of the 50 best-fit parameter sets to use for the simulation. Set 0 is the best fit and 49 the worst."
   ]
  },
  {
   "cell_type": "code",
   "execution_count": 8,
   "metadata": {},
   "outputs": [],
   "source": [
    "param_set_index = 0"
   ]
  },
  {
   "cell_type": "markdown",
   "metadata": {},
   "source": [
    "7. **N_time_points** defineds the number of time points returned by each individual model simulation"
   ]
  },
  {
   "cell_type": "code",
   "execution_count": 9,
   "metadata": {},
   "outputs": [],
   "source": [
    "N_time_points = 97"
   ]
  },
  {
   "cell_type": "markdown",
   "metadata": {},
   "source": [
    "## Generate model equations\n",
    "PySB runs BioNetGen to generate the reaction network"
   ]
  },
  {
   "cell_type": "code",
   "execution_count": null,
   "metadata": {},
   "outputs": [],
   "source": [
    "generate_equations(model)\n",
    "#[i.name for i in model.parameters]"
   ]
  },
  {
   "cell_type": "code",
   "execution_count": null,
   "metadata": {},
   "outputs": [],
   "source": [
    "model.parameters.NRAS_Q61mut.value"
   ]
  },
  {
   "cell_type": "markdown",
   "metadata": {},
   "source": [
    "## Parameter set preparation"
   ]
  },
  {
   "cell_type": "markdown",
   "metadata": {},
   "source": [
    "Override the `EGFR_crispr` parameter with the user-specified value for EGFR under/over-expression and set naive-treatment conditions for concentrations of RAF and MEK inhibitors and EGF."
   ]
  },
  {
   "cell_type": "code",
   "execution_count": null,
   "metadata": {},
   "outputs": [],
   "source": [
    "param_sets = pd.read_csv('RTKERK_pRAF_EGF_EGFR_MEKi_PRAFi_RAFi.csv', index_col=0)\n",
    "print(param_sets.columns)\n",
    "# finds the parameters which are stored but not in the model and removes them\n",
    "model_parameters = set(param_sets.columns).difference(set([i.name for i in model.parameters]).intersection(set(param_sets.columns)))\n",
    "param_sets = param_sets.drop(model_parameters, axis=1)"
   ]
  },
  {
   "cell_type": "code",
   "execution_count": null,
   "metadata": {},
   "outputs": [],
   "source": [
    "params = param_sets.iloc[param_set_index].to_dict()"
   ]
  },
  {
   "cell_type": "code",
   "execution_count": null,
   "metadata": {},
   "outputs": [],
   "source": [
    "#params['EGF_0'] = 0.0\n",
    "params['PRAFi_0'] = 0.0\n",
    "params['MEKi_0'] = 0.0"
   ]
  },
  {
   "cell_type": "markdown",
   "metadata": {},
   "source": [
    "## Simulations"
   ]
  },
  {
   "cell_type": "markdown",
   "metadata": {},
   "source": [
    "First we define some utility functions that will be used below.\n",
    "*Equilibrate* runs a model simulation till steady state for that parameter set.\n",
    "*Get_species_index* find and retunrs the index of speies in the model given input specie patterns. "
   ]
  },
  {
   "cell_type": "code",
   "execution_count": null,
   "metadata": {},
   "outputs": [],
   "source": [
    "def equilibrate(simulator, initials):\n",
    "    \"\"\"Simulate a model from given initial conditions until it reaches steady state\"\"\"\n",
    "    scale = 10\n",
    "    t_start = 1e-4\n",
    "    df = None\n",
    "    tspan = np.geomspace(t_start, t_start * scale)\n",
    "    while True:\n",
    "        print(f\"    at t={tspan[-1]:<5.3g} ... \", end='', flush=True)\n",
    "        res = simulator.run(tspan=tspan, initials=initials)\n",
    "        df = pd.concat([df, res.dataframe.iloc[1:]])\n",
    "        initials = res.species[-1]\n",
    "        close = np.isclose(\n",
    "            *res.species[[-1,-2]].view(float).reshape(2,-1),\n",
    "            rtol=1e-3\n",
    "        )\n",
    "        cs = np.sum(close)\n",
    "        n = len(simulator.model.species)\n",
    "        print(f\"{cs}/{n} species converged\")\n",
    "        if np.all(close):\n",
    "            break\n",
    "        tspan *= scale\n",
    "    return df"
   ]
  },
  {
   "cell_type": "code",
   "execution_count": null,
   "metadata": {},
   "outputs": [],
   "source": [
    "def get_species_index(model, pattern):\n",
    "    \"\"\"Return the integer species number for a given species in the model\"\"\"\n",
    "    pattern = as_complex_pattern(pattern)\n",
    "    matches = [\n",
    "        i for i, s in enumerate(model.species)\n",
    "        if s.is_equivalent_to(pattern)\n",
    "    ]\n",
    "    n = len(matches)\n",
    "    assert n == 1, f\"Expected exactly one match, got {n}\"\n",
    "    return matches[0]"
   ]
  },
  {
   "cell_type": "markdown",
   "metadata": {},
   "source": [
    "## Initial equilibrium\n",
    "First we run the model from its baseline initial conditions until equilibrium is reached. For example protein synthesis/degradation, phosphorylation/dephosphorylation, and drug binding/unbinding all need to reach steady state to match the state of the cells in the experimental setup. There may be some time without visible progress as behind the scenes PySB runs BioNetGen to generate the reaction network and Cython to compile the resulting differential equations into efficient executable code."
   ]
  },
  {
   "cell_type": "code",
   "execution_count": null,
   "metadata": {},
   "outputs": [],
   "source": [
    "sim = ScipyOdeSimulator(model,param_values=params) \n",
    "df_eq = equilibrate(sim, None)"
   ]
  },
  {
   "cell_type": "markdown",
   "metadata": {},
   "source": [
    "Now that the model has been simulated once and the actual molecular species have been enumerated, we can find the exact species numbers for the inhibitors and EGF. These are needed so that their concentrations can be overridden in the model state for subsequent simulations."
   ]
  },
  {
   "cell_type": "code",
   "execution_count": null,
   "metadata": {},
   "outputs": [],
   "source": [
    "PRAFi_index = get_species_index(model, model.monomers.PRAFi(raf=None)**model.compartments.CP)\n",
    "MEKi_index = get_species_index(model, model.monomers.MEKi(mek=None)**model.compartments.CP)\n",
    "EGF_index = get_species_index(model, model.monomers.EGF(rtk=None)**model.compartments.CP)"
   ]
  },
  {
   "cell_type": "markdown",
   "metadata": {},
   "source": [
    "## Inhibitor pre-treatment"
   ]
  },
  {
   "cell_type": "markdown",
   "metadata": {},
   "source": [
    "We take the final state of the equilibration simulation and use it as the initial state of this new simulation, overriding the RAFi and MEKi concentrations with the user-selected values."
   ]
  },
  {
   "cell_type": "code",
   "execution_count": null,
   "metadata": {},
   "outputs": [],
   "source": [
    "initials_pre = df_eq.iloc[-1, :len(model.species)].copy()\n",
    "initials_pre[PRAFi_index] = 0.0\n",
    "initials_pre[MEKi_index] = 0.0\n",
    "#initials_pre[EGF_index] = 0.0\n",
    "\n",
    "#fixed time pre-treatment simulation\n",
    "tspan_pretrt = np.linspace(0, t_pretrt, N_time_points)\n",
    "df_pre=sim.run(tspan=tspan_pretrt, initials=initials_pre.to_list()).dataframe\n",
    "\n",
    "#run pre-tretment to steady state instead of using specified time  \n",
    "#df_pre = equilibrate(sim, initials_pre)"
   ]
  },
  {
   "cell_type": "markdown",
   "metadata": {},
   "source": [
    "In case the previous simulation was run to steady state, we want to retain only the first t_pretrt hours of pre-treatment plus the state at final equilibrium. So we cut the time series down using a Pandas slice operation and adjust the remaining time values to begin at -pre_time_max."
   ]
  },
  {
   "cell_type": "code",
   "execution_count": null,
   "metadata": {},
   "outputs": [],
   "source": [
    "if (len(df_pre.loc[:t_pretrt])<len(df_pre)):\n",
    "   df_pre_tmp = df_pre.loc[:t_pretrt]\n",
    "   df_pre_tmp.iloc[-1] = df_pre.iloc[-1]\n",
    "   df_pre= df_pre_tmp\n",
    "df_pre['time'] = df_pre.index\n",
    "df_pre['time'] = df_pre['time']-t_pretrt\n",
    "df_pre['time'].iloc[-1] = 0\n",
    "df_pre.reset_index(drop=True, inplace=True)\n",
    "df_pre.set_index('time', inplace=True)"
   ]
  },
  {
   "cell_type": "markdown",
   "metadata": {},
   "source": [
    "## EGF treatment"
   ]
  },
  {
   "cell_type": "markdown",
   "metadata": {},
   "source": [
    "We run another simulation starting from the final state of the pre-treatment simulation, overriding the EGF concentration with the user-selected value. This is a fixed-time simulation rather than the steady-state equilibration used in the previous simulations."
   ]
  },
  {
   "cell_type": "code",
   "execution_count": null,
   "metadata": {},
   "outputs": [],
   "source": [
    "tspan_trt = np.linspace(0, t_trt, N_time_points)\n",
    "initials_trt = df_pre.iloc[-1, :len(model.species)].copy()\n",
    "initials_trt[PRAFi_index] = PRAFi_concentration\n",
    "initials_trt[MEKi_index] = MEKi_concentration\n",
    "#initials_trt[EGF_index] = EGF_concentration / model.parameters['m_Da_EGF'].get_value()\n",
    "df_trt = sim.run(tspan=tspan_trt, initials=initials_trt.to_list()).dataframe"
   ]
  },
  {
   "cell_type": "markdown",
   "metadata": {},
   "source": [
    "Concatenate the dataframes holding the pre-treatment and treatment simulation trajectories, keeping only the columns corresponding to model observables. Also filter out \"noise\" (insignificant concentration fluctuations caused by numerical integration tolerance issues)."
   ]
  },
  {
   "cell_type": "code",
   "execution_count": null,
   "metadata": {},
   "outputs": [],
   "source": [
    "obs = pd.concat([df_pre, df_trt.iloc[1:]])[df_pre.keys()[len(model.species):]]\n",
    "obs.loc[:, (obs < 1e-10).all()] = 0"
   ]
  },
  {
   "cell_type": "markdown",
   "metadata": {},
   "source": [
    "## Write time courses to CSV file"
   ]
  },
  {
   "cell_type": "markdown",
   "metadata": {},
   "source": [
    "Append information on parameter sets used in this simulation and save the time course trajectories to file."
   ]
  },
  {
   "cell_type": "code",
   "execution_count": null,
   "metadata": {},
   "outputs": [],
   "source": [
    "settings = {\n",
    "    'Cell_line': 'A375_sim',\n",
    "    'Parameter_set': param_set_index,\n",
    "    'Drug A': 'Vemurafenib',\n",
    "    'Drug B': 'Cobimetinib',\n",
    "    'Concentration A (uM)': PRAFi_concentration,\n",
    "    'Concentration B (uM)': MEKi_concentration,\n",
    "    'Time A (h)': t_pretrt,\n",
    "    'Time B (h)': t_pretrt,\n",
    "    'EGF (ng/mL)': EGF_concentration,\n",
    "    'EGF total duration (h)': t_trt,\n",
    "}\n",
    "obs_out = obs.copy()\n",
    "for column, value in settings.items():\n",
    "     obs_out[column] = value\n",
    "obs_out.to_csv('trajectories_single_run.csv')"
   ]
  },
  {
   "cell_type": "markdown",
   "metadata": {},
   "source": [
    "## Plot time courses"
   ]
  },
  {
   "cell_type": "markdown",
   "metadata": {},
   "source": [
    "Plot time-course trajectories of meaninfgul model species. The pre-treatment timescale is collapsed on a smallar interval for display purposes."
   ]
  },
  {
   "cell_type": "code",
   "execution_count": null,
   "metadata": {},
   "outputs": [],
   "source": [
    "pre_time_scale = 0.5\n",
    "obs_plot = obs.reset_index()\n",
    "time_scale_factor = pre_time_scale / -obs_plot['time'].iloc[0]\n",
    "obs_plot.loc[obs_plot['time'] < 0, 'time'] *= time_scale_factor"
   ]
  },
  {
   "cell_type": "code",
   "execution_count": null,
   "metadata": {},
   "outputs": [],
   "source": [
    "obs_melted = obs_plot.melt(id_vars='time')\n",
    "g = sns.FacetGrid(\n",
    "    obs_melted, col='variable', hue='variable', col_wrap=4,\n",
    "    sharex=False, sharey=False, height=1.9, aspect=1.25\n",
    ")\n",
    "g.map(plt.plot, 'time', 'value')\n",
    "for ax in g.axes:\n",
    "    _, ymax = ax.get_ylim()\n",
    "    ax.set_ylim(ymin=0, ymax=ymax * 1.03)\n",
    "    ax.set_xticks([-pre_time_scale, 0, 1, t_trt])\n",
    "    ax.set_xticklabels(['-'+str(t_pretrt), '0', '1', str(t_trt)])\n",
    "    ax.axvline(0, color='k', linewidth=0.5, linestyle='--')\n",
    "g.set_titles('{col_name}')\n",
    "g.set_xlabels('time (hours)')\n",
    "g.set_ylabels('amount (\\u03bcM)')\n",
    "plt.tight_layout()"
   ]
  },
  {
   "cell_type": "markdown",
   "metadata": {},
   "source": [
    "# Session Info"
   ]
  },
  {
   "cell_type": "code",
   "execution_count": null,
   "metadata": {},
   "outputs": [],
   "source": [
    "!conda env export --name test_env"
   ]
  },
  {
   "cell_type": "code",
   "execution_count": null,
   "metadata": {},
   "outputs": [],
   "source": []
  }
 ],
 "metadata": {
  "kernelspec": {
   "display_name": "test_env",
   "language": "python",
   "name": "test_env"
  },
  "language_info": {
   "codemirror_mode": {
    "name": "ipython",
    "version": 3
   },
   "file_extension": ".py",
   "mimetype": "text/x-python",
   "name": "python",
   "nbconvert_exporter": "python",
   "pygments_lexer": "ipython3",
   "version": "3.8.13"
  }
 },
 "nbformat": 4,
 "nbformat_minor": 4
}
