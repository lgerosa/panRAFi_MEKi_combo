{
 "cells": [
  {
   "cell_type": "markdown",
   "metadata": {},
   "source": [
    "# Simulation of Belvarafenib and Cobimetinib inhibition in BRAF<sup>V600E</sup> melanoma cells using the MARM2 model\n",
    "\n",
    "Here you can simulate the respose of BRAF<sup>V600E</sup> cells under different doses of RAF (belvarafenib) and MEK inhibitors (cobimetinib). \n",
    "\n",
    "**Note**: this code performs the simulation for steady state responses under different inhibitor conditions. Use the Jupyter Notebook *Simulate_Belva_Cobi_Traj_MARM2_BRAF_V600E.ipynb* to generate simulation results for time course trajectories. "
   ]
  },
  {
   "cell_type": "markdown",
   "metadata": {},
   "source": [
    "## Import of libraries\n",
    "Importing libraries necessary to run MARM2 model simulations."
   ]
  },
  {
   "cell_type": "code",
   "execution_count": 1,
   "metadata": {},
   "outputs": [],
   "source": [
    "import numpy as np\n",
    "import pandas as pd\n",
    "import seaborn as sns\n",
    "import matplotlib.pyplot as plt\n",
    "import copy as cp\n",
    "import itertools\n",
    "import os\n",
    "from pathlib import Path"
   ]
  },
  {
   "cell_type": "markdown",
   "metadata": {},
   "source": [
    "Changes to main file directory. This works provided the \"main_dir\" has the correct directory name and the cwd starts within the main file directory. This might require tweaking under some high performance computing setups."
   ]
  },
  {
   "cell_type": "code",
   "execution_count": 2,
   "metadata": {},
   "outputs": [],
   "source": [
    "main_dir = \"MARM2_Andrew_8_24\"\n",
    "for i in Path().resolve().parents:\n",
    "    if i.parts[-1] == main_dir:\n",
    "        os.chdir(i)"
   ]
  },
  {
   "cell_type": "markdown",
   "metadata": {},
   "source": [
    "Importing the MARM2 PySB model and the simulator.  "
   ]
  },
  {
   "cell_type": "code",
   "execution_count": 3,
   "metadata": {},
   "outputs": [],
   "source": [
    "from pysb.simulator import ScipyOdeSimulator\n",
    "from pysb.core import as_complex_pattern\n",
    "from pysb.bng import generate_equations\n",
    "\n",
    "from scripts.models.PRAFi_vs_RAFi import model"
   ]
  },
  {
   "cell_type": "markdown",
   "metadata": {},
   "source": [
    "## User-defined experimental setup\n",
    "In this section you can alter the setup of the experiment simulated by MARM2. First, you need to define the experimental setup of the pre-treatment phase and of the subsequent inhibitor dose phase. The variables needed for the pre-treatment phase are:\n",
    "\n",
    "<b>Pretreatment_time (h)</b>: defines the duration of the pre-treatment phase.\n",
    "    \n",
    "For the treatment phase, you need to set the running time of simulation after inhibitor dose. This is done with the following variables:\n",
    "\n",
    "<b>Simulation_time (h)</b>: define the simulation time after inhibitor dose. \n",
    "\n",
    "<b>N_time_points</b>: define the number of time points returned by each model simulation. "
   ]
  },
  {
   "cell_type": "markdown",
   "metadata": {},
   "source": [
    "1. **Pretreatment duration** in hours."
   ]
  },
  {
   "cell_type": "code",
   "execution_count": 4,
   "metadata": {},
   "outputs": [],
   "source": [
    "t_pretrt = 24"
   ]
  },
  {
   "cell_type": "markdown",
   "metadata": {},
   "source": [
    "2. **Simulation time** in hours."
   ]
  },
  {
   "cell_type": "code",
   "execution_count": 5,
   "metadata": {},
   "outputs": [],
   "source": [
    "t_trt = 24"
   ]
  },
  {
   "cell_type": "markdown",
   "metadata": {},
   "source": [
    "3. **Parameter set** selects which of the 50 best-fit parameter sets to use for the simulation. Set 0 is the best fit and 49 the worst."
   ]
  },
  {
   "cell_type": "code",
   "execution_count": 6,
   "metadata": {},
   "outputs": [],
   "source": [
    "param_set_index = 13"
   ]
  },
  {
   "cell_type": "markdown",
   "metadata": {},
   "source": [
    "4. **N_time_points** defineds the number of time points returned by each individual model simulation"
   ]
  },
  {
   "cell_type": "code",
   "execution_count": 7,
   "metadata": {},
   "outputs": [],
   "source": [
    "N_time_points = 97"
   ]
  },
  {
   "cell_type": "markdown",
   "metadata": {},
   "source": [
    "## Generate model equations\n",
    "PySB runs BioNetGen to generate the reaction network"
   ]
  },
  {
   "cell_type": "code",
   "execution_count": 8,
   "metadata": {},
   "outputs": [],
   "source": [
    "generate_equations(model)"
   ]
  },
  {
   "cell_type": "markdown",
   "metadata": {},
   "source": [
    "## Parameter set preparation"
   ]
  },
  {
   "cell_type": "markdown",
   "metadata": {},
   "source": [
    "Loads and prepares the parameter sets described in Fr&ouml;hlich et al https://www.embopress.org/doi/full/10.15252/msb.202210988. While the RAF inhibitor for that paper was Vemurafenib the parameters of the inhibitor are altered to align it with Belvarafenib."
   ]
  },
  {
   "cell_type": "code",
   "execution_count": 87,
   "metadata": {},
   "outputs": [
    {
     "name": "stdout",
     "output_type": "stream",
     "text": [
      "{'CRAF_0': 11330.48931, 'bind_PRAFi_RAF_dG': -4.29844662, 'bind_PRAFi_RAF_kf': 3.07021176, 'bind_PRAFi_RAF_phi': 0.0, 'bind_RAF_RAF_dG': -2.376557048, 'bind_RAF_RAF_kf': 9085.129703, 'bind_RAF_RAF_phi': 0.0, 'bind_RAFi_RAF_dG': -4.298446618, 'bind_RAFi_RAF_kf': 3.07021176, 'bind_RAFi_RAF_phi': 0.0, 'ep_RAF_RAF_mod_RAFi_double_ddG': 0.0, 'ep_RAF_RAF_mod_RAFi_single_ddG': -5.697253636, 'ep_RAF_RAF_mod_pRAF_ddG': 9.137382107, 'RAFi_0': 0.0, 'PRAFi_0': 0.0}\n"
     ]
    }
   ],
   "source": [
    "param_sets = pd.read_csv(Path('data/parameter_data/RTKERK_pRAF_EGF_EGFR_MEKi_PRAFi_RAFi.csv'), index_col=0)\n",
    "# finds the parameters of the .csv file that correspond to Cobimetinib and Vemurafenib and maps them to MEKi and RAFi (respectively)\n",
    "rename_dict = {}\n",
    "for i in param_sets.columns:\n",
    "    if \"Cobimetinib\" in i or \"LY3009120\" in i or \"Vemurafenib\" in i:\n",
    "        rename_dict[i] = i.replace(\"Cobimetinib\",\"MEKi\").replace(\"LY3009120\",\"PRAFi\").replace(\"Vemurafenib\",\"RAFi\")\n",
    "param_sets = param_sets.rename(columns = rename_dict)\n",
    "\n",
    "# finds the parameters which are stored in .csv file but not in the model and removes them\n",
    "csv_spec_params = set(param_sets.columns)-(set(param_sets.columns)&set([i.name for i in model.parameters]))\n",
    "param_sets = param_sets.drop(csv_spec_params, axis=1)\n",
    "\n",
    "# Removes preference against second inhibitor binding to model type 2 pan RAF inhibitor (Belvarafenib)\n",
    "param_sets[\"ep_RAF_RAF_mod_RAFi_double_ddG\"] = 0\n",
    "\n",
    "params = param_sets.iloc[param_set_index].to_dict()\n",
    "\n",
    "params['RAFi_0'] = 0.0\n",
    "params['PRAFi_0'] = 0.0\n",
    "#params['MEKi_0'] = 0.0\n",
    "\n",
    "# These might give identical values to Vemurafenib\n",
    "params['bind_PRAFi_RAF_dG'] = -4.29844662\n",
    "params['bind_PRAFi_RAF_kf'] = 3.07021176\n",
    "\n",
    "print(params)"
   ]
  },
  {
   "cell_type": "markdown",
   "metadata": {},
   "source": [
    "## Simulations"
   ]
  },
  {
   "cell_type": "markdown",
   "metadata": {},
   "source": [
    "First we define some utility functions that will be used below.\n",
    "*Equilibrate* runs a model simulation till steady state for that parameter set.\n",
    "*Get_species_index* find and retunrs the index of speies in the model given input specie patterns. "
   ]
  },
  {
   "cell_type": "code",
   "execution_count": 88,
   "metadata": {},
   "outputs": [],
   "source": [
    "def equilibrate(simulator, initials,verbose = True):\n",
    "    \"\"\"Simulate a model from given initial conditions until it reaches steady state\"\"\"\n",
    "    scale = 10\n",
    "    t_start = 10\n",
    "    df = None\n",
    "    tspan = np.geomspace(t_start, t_start * scale)\n",
    "    while True:\n",
    "        if verbose:\n",
    "            print(f\"    at t={tspan[-1]:<5.3g} ... \", end='', flush=True)\n",
    "        res = simulator.run(tspan=tspan, initials=initials)\n",
    "        df = pd.concat([df, res.dataframe.iloc[1:]])\n",
    "        initials = res.species[-1]\n",
    "        close = np.isclose(\n",
    "            *res.species[[-1,-2]].view(float).reshape(2,-1),\n",
    "            rtol=1e-3\n",
    "        )\n",
    "        cs = np.sum(close)\n",
    "        n = len(simulator.model.species)\n",
    "        if verbose:\n",
    "            print(f\"{cs}/{n} species converged\")\n",
    "        if np.all(close):\n",
    "            break\n",
    "        tspan *= scale\n",
    "    return df"
   ]
  },
  {
   "cell_type": "code",
   "execution_count": 89,
   "metadata": {},
   "outputs": [],
   "source": [
    "def get_species_index(model, pattern):\n",
    "    \"\"\"Return the integer species number for a given species in the model\"\"\"\n",
    "    pattern = as_complex_pattern(pattern)\n",
    "    matches = [\n",
    "        i for i, s in enumerate(model.species)\n",
    "        if s.is_equivalent_to(pattern)\n",
    "    ]\n",
    "    n = len(matches)\n",
    "    assert n == 1, f\"Expected exactly one match, got {n}\"\n",
    "    return matches[0]"
   ]
  },
  {
   "cell_type": "markdown",
   "metadata": {},
   "source": [
    "## Initial equilibrium\n",
    "First we run the model from its baseline initial conditions until equilibrium is reached. For example protein synthesis/degradation, phosphorylation/dephosphorylation, and drug binding/unbinding all need to reach steady state to match the state of the cells in the experimental setup. There may be some time without visible progress as behind the scenes PySB runs BioNetGen to generate the reaction network and Cython to compile the resulting differential equations into efficient executable code."
   ]
  },
  {
   "cell_type": "code",
   "execution_count": 90,
   "metadata": {},
   "outputs": [
    {
     "name": "stdout",
     "output_type": "stream",
     "text": [
      "    at t=100   ... 11/11 species converged\n"
     ]
    }
   ],
   "source": [
    "sim = ScipyOdeSimulator(model,param_values=params) \n",
    "df_eq = equilibrate(sim, None)"
   ]
  },
  {
   "cell_type": "markdown",
   "metadata": {},
   "source": [
    "Now that the model has been simulated once and the actual molecular species have been enumerated, we can find the exact species numbers for the inhibitors. These are needed so that their concentrations can be overridden in the model state for subsequent simulations."
   ]
  },
  {
   "cell_type": "code",
   "execution_count": 91,
   "metadata": {},
   "outputs": [],
   "source": [
    "PRAFi_index = get_species_index(model, model.monomers.PRAFi(raf=None)**model.compartments.CP)\n",
    "RAFi_index = get_species_index(model, model.monomers.RAFi(raf=None)**model.compartments.CP)"
   ]
  },
  {
   "cell_type": "markdown",
   "metadata": {},
   "source": [
    "## Inhibitor pre-treatment"
   ]
  },
  {
   "cell_type": "markdown",
   "metadata": {},
   "source": [
    "We take the final state of the equilibration simulation and use it as the initial state of this new simulation, overriding the RAFi and MEKi concentrations with pre-specified values."
   ]
  },
  {
   "cell_type": "code",
   "execution_count": 92,
   "metadata": {},
   "outputs": [],
   "source": [
    "initials_pre = df_eq.iloc[-1, :len(model.species)].copy()\n",
    "initials_pre[PRAFi_index] = 0.0\n",
    "initials_pre[RAFi_index] = 0.0\n",
    "\n",
    "#fixed time pre-treatment simulation\n",
    "tspan_pretrt = np.linspace(0, t_pretrt, N_time_points)\n",
    "df_pre=sim.run(tspan=tspan_pretrt, initials=initials_pre.to_list()).dataframe\n",
    "\n",
    "#run pre-tretment to steady state instead of using specified time  \n",
    "#df_pre = equilibrate(sim, initials_pre)"
   ]
  },
  {
   "cell_type": "markdown",
   "metadata": {},
   "source": [
    "In case the previous simulation was run to steady state, we want to retain only the first t_pretrt hours of pre-treatment plus the state at final equilibrium. So we cut the time series down using a Pandas slice operation and adjust the remaining time values to begin at -pre_time_max."
   ]
  },
  {
   "cell_type": "code",
   "execution_count": 93,
   "metadata": {},
   "outputs": [],
   "source": [
    "if (len(df_pre.loc[:t_pretrt])<len(df_pre)):\n",
    "   df_pre_tmp = df_pre.loc[:t_pretrt]\n",
    "   df_pre_tmp.iloc[-1] = df_pre.iloc[-1]\n",
    "   df_pre= df_pre_tmp\n",
    "df_pre['time'] = df_pre.index\n",
    "df_pre['time'] = df_pre['time']-t_pretrt\n",
    "df_pre['time'].iloc[-1] = 0\n",
    "df_pre.reset_index(drop=True, inplace=True)\n",
    "df_pre.set_index('time', inplace=True)"
   ]
  },
  {
   "cell_type": "markdown",
   "metadata": {},
   "source": [
    "## Inhibitor treatment"
   ]
  },
  {
   "cell_type": "markdown",
   "metadata": {},
   "source": [
    "We run another simulation starting from the final state of the pre-treatment simulation, overriding the MEKi and \n",
    "RAFi concentrations with a range of inhibitor values. Each condition is run to equilibrium."
   ]
  },
  {
   "cell_type": "code",
   "execution_count": 94,
   "metadata": {},
   "outputs": [],
   "source": [
    "#set the dilution range for the RAF inhibitor, which is x axis\n",
    "PRAFi_dil=np.logspace(-2.25,.5, 9); #uM\n",
    "PRAFi_dil = np.concatenate(([0],PRAFi_dil))\n",
    "#set the dilution range for the MEK inhibitor, which is y axis\n",
    "RAFi_dil=np.logspace(-2.25,.5, 9); #uM\n",
    "RAFi_dil = np.concatenate(([0],RAFi_dil))"
   ]
  },
  {
   "cell_type": "code",
   "execution_count": 95,
   "metadata": {},
   "outputs": [],
   "source": [
    "def simulate_inhib_dose(dose_info):\n",
    "    params.update({'PRAFi_0': dose_info[0],'RAFi_0': dose_info[1],'kbind_RAF_RAF':dose_info[2]});\n",
    "    #run this to assure model is run to steady_ state, \n",
    "    res = equilibrate(ScipyOdeSimulator(model,param_values=cp.deepcopy(params)) , None,verbose=False)\n",
    "    print(1,end=\"\")\n",
    "    return [dose_info, res.iloc[-1]]"
   ]
  },
  {
   "cell_type": "code",
   "execution_count": 99,
   "metadata": {},
   "outputs": [
    {
     "name": "stdout",
     "output_type": "stream",
     "text": [
      "[0.00562341 0.00639915 0.0072819  0.00828643 0.00942952 0.01073031\n",
      " 0.01221054 0.01389495 0.01581174 0.01799294 0.02047503 0.02329952\n",
      " 0.02651364 0.03017115 0.0343332  0.0390694  0.04445895 0.05059197\n",
      " 0.05757104 0.06551286 0.07455023 0.08483429 0.09653702 0.10985411\n",
      " 0.12500828 0.14225293 0.16187645 0.184207   0.209618   0.2385344\n",
      " 0.27143976 0.30888436 0.35149437 0.39998234 0.45515914 0.51794747\n",
      " 0.58939733 0.67070356 0.76322583 0.86851137 0.98832085 1.12465782\n",
      " 1.27980221 1.45634848 1.65724896 1.88586328 2.14601451 2.44205309\n",
      " 2.77892964 3.16227766]\n",
      "111111111111111111111111111111111111111111111111111111111111111111111111111111111111111111111111111111111111111111111111111111111111111111111111111111111111111111111111111111111111111111111111111111111111111111111111111111111111111111111111111111111111111111111111111111111111111111111111111111111111-1.0875799483223147e-08\n",
      "-1.1012042833158375e-08\n",
      "[0.7945057644609699, 0.0, 0.7945057642637329, 0.0, 0.7945057629645897, 0.0, 0.7945057641191221, 0.0, 0.7945057640337028, 0.0, 0.7945057640306497, 0.0, 0.7945057640297526, 0.0, 0.7945057639152856, 0.0, 0.7945057639105836, 0.0, 0.7945057645093145, 0.0, 0.7945057634064394, 0.0, 0.7945057635964476, 0.0, 0.7945057632449772, 0.0, 0.7945057629875883, 0.0, 0.7945057618067256, 0.0, 0.7945057633870763, 0.0, 0.7945057630108449, 0.0, 0.7945057625769117, 0.0, 0.7945057619912167, 0.0, 0.7945057661818614, 0.0, 0.7945057649921677, 0.0, 0.7945057647816366, 0.0, 0.7945057562662815, 0.0, 0.7945057564339301, 0.0, 0.794505763228151, 0.0, 0.7945057596409515, 0.0, 0.794505759140455, 0.0, 0.7945057585552324, 0.0, 0.7945057578721625, 0.0, 0.7945057589809905, 0.0, 0.7945057591043038, 0.0, 0.7945057594407575, 0.0, 0.7945057555012168, 0.0, 0.7945057591109541, 0.0, 0.7945057630488526, 0.0, 0.7945057625957693, 0.0, 0.7945057695117488, 0.0, 0.7945057457379969, 0.0, 0.7945057580681829, 0.0, 0.7945057544130883, 0.0, 0.7945057628729848, 0.0, 0.7945057629012443, 0.0, 0.79450576310454, 0.0, 0.7945057573980253, 0.0, 0.7945057557355802, 0.0, 0.7945057630714457, 0.0, 0.7945057630611828, 0.0, 0.7945057630498624, 0.0, 0.7945057630704287, 0.0, 0.794505762949682, 0.0]\n"
     ]
    }
   ],
   "source": [
    "#define observables to plot\n",
    "plt_obs=['bound_RAFi', 'free_RAFi', 'bound_PRAFi', 'free_PRAFi','bound_CRAF_obs'];\n",
    "bound_RAFi_rat = []\n",
    "bound_fakePRAFi_rat = []\n",
    "bound_PRAFi_rat = []\n",
    "bound_CRAF_r = []\n",
    "bound_CRAF_p = []\n",
    "bound_CRAF_pp = []\n",
    "RAFis = np.logspace(-2.25,.5)\n",
    "print(RAFis)\n",
    "for i in RAFis:\n",
    "    result_low = simulate_inhib_dose([0,i,0])[1][plt_obs]\n",
    "    result_high = simulate_inhib_dose([0,i,1000])[1][plt_obs]\n",
    "    bound_RAFi_rat.append(result_high['bound_RAFi']/result_low['bound_RAFi'])\n",
    "    bound_CRAF_r.append(result_high['bound_CRAF_obs'])\n",
    "    bound_CRAF_r.append(result_low['bound_CRAF_obs'])\n",
    "\n",
    "for i in RAFis:\n",
    "    result_low = simulate_inhib_dose([i,0,0])[1][plt_obs]\n",
    "    result_high = simulate_inhib_dose([i,0,1000])[1][plt_obs]\n",
    "    bound_PRAFi_rat.append(result_high['bound_PRAFi']/result_low['bound_PRAFi'])\n",
    "    bound_CRAF_p.append(result_high['bound_CRAF_obs'])\n",
    "    bound_CRAF_p.append(result_low['bound_CRAF_obs'])\n",
    "save = params['ep_RAF_RAF_mod_RAFi_single_ddG']\n",
    "params.update({'ep_RAF_RAF_mod_RAFi_single_ddG': 0})\n",
    "for i in RAFis:\n",
    "    result_low = simulate_inhib_dose([0,i,0])[1][plt_obs]\n",
    "    result_high = simulate_inhib_dose([0,i,1000])[1][plt_obs]\n",
    "    bound_fakePRAFi_rat.append(result_high['bound_RAFi']/result_low['bound_RAFi'])\n",
    "    bound_CRAF_pp.append(result_high['bound_CRAF_obs'])\n",
    "    bound_CRAF_pp.append(result_low['bound_CRAF_obs'])\n",
    "params.update({'ep_RAF_RAF_mod_RAFi_single_ddG': save})\n",
    "print(np.sum(np.array(bound_CRAF_r) - np.array(bound_CRAF_p)))\n",
    "print(np.sum(np.array(bound_CRAF_r) - np.array(bound_CRAF_pp)))\n",
    "print(bound_CRAF_p)\n",
    "\n",
    "#for i in range(len(results)):\n",
    "#    dr_df.loc[results[i][0]] = results[i][1][plt_obs]"
   ]
  },
  {
   "cell_type": "code",
   "execution_count": null,
   "metadata": {},
   "outputs": [],
   "source": [
    "!conda env export --name quant_bio"
   ]
  },
  {
   "cell_type": "code",
   "execution_count": 106,
   "metadata": {},
   "outputs": [
    {
     "name": "stdout",
     "output_type": "stream",
     "text": [
      "[1.4861518836198166, 1.4322576057655585, 1.3826141787512578, 1.3402931209443651, 1.2978689688488572, 1.2595101693569497, 1.2241884418589197, 1.1937420413230135, 1.1665323743507416, 1.1423862637905216, 1.1211007234060748, 1.1024596157578572, 1.0862330948477432, 1.072197237085266, 1.060134350552883, 1.0498269161642815, 1.0410753541534727, 1.0336959671307475, 1.0275076546103998, 1.0223518991669867, 1.018081798902153, 1.0145652598893735, 1.011685366359561, 1.0093396164720496, 1.0074384361779916, 1.0059049558510362, 1.0046733174582516, 1.0036884785017928, 1.0029037991967573, 1.002280914836314, 1.0017879442090767, 1.0013989662146463, 1.0010927873973137, 1.000852454309272, 1.0006641461724703, 1.0005168251459973, 1.0004017323371992, 1.0003119067103747, 1.000242185917422, 1.0001878047265824, 1.00014566257094, 1.0001128658643594, 1.0000874164033415, 1.0000676160737787, 1.000052299410718, 1.0000405276591644, 1.0000313489997683, 1.0000242432724045, 1.0000187441266986, 1.000014489961371]\n",
      "[1.0000000066185637, 1.0000000321763238, 0.9999999898312026, 1.0023772498266614, 1.0017327777606055, 1.0000003214190005, 1.0000007661503687, 1.0000005610631935, 1.0000002491964715, 1.0000006792293201, 0.9999998088851797, 1.0000013275933852, 1.0000003775905164, 1.0000000722767453, 1.0000020953074205, 1.0000010933209285, 0.9999987182015266, 1.0000002160203942, 0.9999996874951282, 0.9999997955680717, 1.0000000468876415, 0.9999999939441542, 0.9999999158103542, 0.9999999231513759, 0.999999969677293, 1.0000000640111293, 0.9999999373768372, 0.9999999825418079, 0.9999999357893101, 0.9999999651417814, 0.9999999453567987, 0.9999999477444679, 0.9999999053146787, 0.9999999467179461, 0.9999999894662509, 0.999999984650754, 1.000000060810568, 0.9999997994749246, 0.9999999350097691, 0.9999998946128068, 0.9999999875294303, 0.9999999885349694, 0.999999990088591, 0.9999999273126291, 0.9999999091323172, 0.9999999897078885, 0.9999999894844473, 0.9999999894697729, 0.9999999894107424, 0.9999999897777399]\n",
      "[1.000000006618374, 1.0000000321771265, 0.9999999898318976, 1.002377249860456, 1.0017327777452014, 1.000000321420411, 1.0000007661536958, 1.0000005610661333, 1.0000002491971536, 1.0000006792288165, 0.9999998020872922, 1.0000013276008675, 1.000000377590848, 1.0000000722754485, 1.0000020953013977, 1.0000010933203216, 0.9999987182007918, 1.000000216020661, 0.9999996874946703, 0.9999997955695413, 1.0000000468881662, 0.999999993954174, 0.9999999158125159, 0.9999999231509282, 0.9999999696754152, 1.0000000643124498, 0.9999999405456808, 0.9999999825244674, 0.9999999357892915, 0.9999999651426807, 0.999999945357176, 0.9999999477439292, 0.9999999053146077, 0.9999999467178367, 0.9999999894659746, 0.999999984650723, 1.000000060810316, 0.999999799610942, 0.9999999350098384, 0.999999894612774, 0.9999999875295752, 0.999999988534602, 0.9999999900939609, 0.9999999273129304, 0.9999999091325572, 0.999999989707941, 0.9999999895932095, 0.9999999894697311, 0.9999999894103359, 0.999999989793081]\n"
     ]
    },
    {
     "data": {
      "image/png": "[encoded data removed]",
      "text/plain": [
       "<Figure size 640x480 with 1 Axes>"
      ]
     },
     "metadata": {},
     "output_type": "display_data"
    }
   ],
   "source": [
    "plt.plot(RAFis,bound_RAFi_rat,label = \"Our RAFi\")\n",
    "plt.plot(RAFis,bound_PRAFi_rat,label = \"MARM2 PRAF\")\n",
    "plt.plot(RAFis,bound_fakePRAFi_rat,label = \"Our RAFi, single ddG to 0\")\n",
    "plt.xscale('log')\n",
    "plt.xlabel(\"RAF inhibitor $\\mu$M\")\n",
    "plt.ylabel(\"bound RAFi high dimer/bound RAFi low dime\")\n",
    "plt.legend()\n",
    "print(bound_RAFi_rat)\n",
    "print(bound_PRAFi_rat)\n",
    "print(bound_fakePRAFi_rat)"
   ]
  },
  {
   "cell_type": "code",
   "execution_count": null,
   "metadata": {},
   "outputs": [],
   "source": []
  }
 ],
 "metadata": {
  "kernelspec": {
   "display_name": "Python 3 (ipykernel)",
   "language": "python",
   "name": "python3"
  },
  "language_info": {
   "codemirror_mode": {
    "name": "ipython",
    "version": 3
   },
   "file_extension": ".py",
   "mimetype": "text/x-python",
   "name": "python",
   "nbconvert_exporter": "python",
   "pygments_lexer": "ipython3",
   "version": "3.11.8"
  }
 },
 "nbformat": 4,
 "nbformat_minor": 4
}
