{
 "cells": [
  {
   "cell_type": "markdown",
   "metadata": {},
   "source": [
    "# Simulation of Belvarafenib and Cobimetinib inhibition in NRAS<sup>Q61</sup> melanoma cells without CRAF feedback using the MARM2 model\n",
    "\n",
    "Here you can simulate the time-course respose of NRAS<sup>Q61</sup> cells under different doses of RAF (belvarafenib) and MEK inhibitors (cobimetinib) without CRAF feedback. \n",
    "\n",
    "\n",
    "**Note**: this code performs the simulation for two conditions and visualizes the time-course response. Use the Jupyter Notebook *Simulate_Belva_Cobi_SS_NRAS_Q61_no_CRAF_feedback.ipynb* to generate simulation results for multiple conditions (e.g. multiple dose combinations). \n",
    "\n"
   ]
  },
  {
   "cell_type": "markdown",
   "metadata": {},
   "source": [
    "## Import of libraries\n",
    "Importing libraries necessary to run MARM2 model simulations."
   ]
  },
  {
   "cell_type": "code",
   "execution_count": 1,
   "metadata": {},
   "outputs": [],
   "source": [
    "%matplotlib inline\n",
    "import numpy as np\n",
    "import pandas as pd\n",
    "import seaborn as sns\n",
    "import matplotlib.pyplot as plt\n",
    "import os\n",
    "from pathlib import Path\n",
    "import time\n",
    "# starts time to seee total computational costs\n",
    "start_time = time.time()"
   ]
  },
  {
   "cell_type": "markdown",
   "metadata": {},
   "source": [
    "Changes to main file directory. This works provided the \"main_dir\" has the correct directory name and the cwd starts within the main file directory. This might require tweaking under some high performance computing setups."
   ]
  },
  {
   "cell_type": "code",
   "execution_count": 2,
   "metadata": {},
   "outputs": [],
   "source": [
    "main_dir = \"panRAFi_MEKi_combo\"\n",
    "for i in Path().resolve().parents:\n",
    "    if i.parts[-1] == main_dir:\n",
    "        os.chdir(i)"
   ]
  },
  {
   "cell_type": "markdown",
   "metadata": {},
   "source": [
    "Importing the MARM2 PySB model and the simulator.  "
   ]
  },
  {
   "cell_type": "code",
   "execution_count": 3,
   "metadata": {},
   "outputs": [],
   "source": [
    "from pysb.simulator import ScipyOdeSimulator\n",
    "from pysb.core import as_complex_pattern\n",
    "from pysb.bng import generate_equations\n",
    "\n",
    "from scripts.MARM2_models.MARM2_NRAS_Q61_No_RTK import model\n",
    "from scripts.custom_functions.pysb_helper_functions import equilibrate, get_species_index"
   ]
  },
  {
   "cell_type": "markdown",
   "metadata": {},
   "source": [
    "## User-defined experimental setup\n",
    "In this section you can alter the setup of the experiment simulated by MARM2. First, you need to define the experimental setup of the pre-treatment phase and of the subsequent inhibitor dose phase. The variables needed for the pre-treatment phase are:\n",
    "\n",
    "<b>Pretreatment_time (h)</b>: defines the duration of the pre-treatment phase.\n",
    "    \n",
    "For the treatment phase, you need to set the running time of simulation after inhibitor dose. This is done with the following variables:\n",
    "\n",
    "<b>Simulation_time (h)</b>: define the simulation time after inhibitor dose. \n",
    "\n",
    "<b>N_time_points</b>: define the number of time points returned by each model simulation. "
   ]
  },
  {
   "cell_type": "markdown",
   "metadata": {},
   "source": [
    "1. **Pretreatment duration** in hours."
   ]
  },
  {
   "cell_type": "code",
   "execution_count": 4,
   "metadata": {},
   "outputs": [],
   "source": [
    "t_pretrt = 24"
   ]
  },
  {
   "cell_type": "markdown",
   "metadata": {},
   "source": [
    "2. **Simulation time** in hours."
   ]
  },
  {
   "cell_type": "code",
   "execution_count": 5,
   "metadata": {},
   "outputs": [],
   "source": [
    "t_trt = 8"
   ]
  },
  {
   "cell_type": "markdown",
   "metadata": {},
   "source": [
    "3. **Parameter set** selects which of the 50 best-fit parameter sets to use for the simulation. Set 0 is the best fit and 49 the worst."
   ]
  },
  {
   "cell_type": "code",
   "execution_count": 6,
   "metadata": {},
   "outputs": [],
   "source": [
    "param_set_index = 13"
   ]
  },
  {
   "cell_type": "markdown",
   "metadata": {},
   "source": [
    "4. **N_time_points** defineds the number of time points returned by each individual model simulation"
   ]
  },
  {
   "cell_type": "code",
   "execution_count": 7,
   "metadata": {},
   "outputs": [],
   "source": [
    "N_time_points = 97"
   ]
  },
  {
   "cell_type": "markdown",
   "metadata": {},
   "source": [
    "## Generate model equations\n",
    "PySB runs BioNetGen to generate the reaction network"
   ]
  },
  {
   "cell_type": "code",
   "execution_count": 8,
   "metadata": {},
   "outputs": [],
   "source": [
    "generate_equations(model)"
   ]
  },
  {
   "cell_type": "markdown",
   "metadata": {},
   "source": [
    "## Parameter set preparation"
   ]
  },
  {
   "cell_type": "markdown",
   "metadata": {},
   "source": [
    "Loads and prepares the parameter sets described in Fr&ouml;hlich et al [1].   "
   ]
  },
  {
   "cell_type": "code",
   "execution_count": 9,
   "metadata": {},
   "outputs": [],
   "source": [
    "param_sets = pd.read_csv(Path('data/Model_parameters/RTKERK_pRAF_EGF_EGFR_MEKi_PRAFi_RAFi.csv'), index_col=0)\n",
    "# finds the parameters of the .csv file that correspond to Cobimetinib and Belvarafenib and maps them to MEKi and RAFi (respectively)\n",
    "rename_dict = {}\n",
    "for i in param_sets.columns:\n",
    "    if \"Cobimetinib\" in i or \"Belvarafenib\" in i:\n",
    "        rename_dict[i] = i.replace(\"Cobimetinib\",\"MEKi\").replace(\"Belvarafenib\",\"RAFi\")\n",
    "param_sets = param_sets.rename(columns = rename_dict)\n",
    "\n",
    "# finds the parameters which are stored in .csv file but not in the model and removes them\n",
    "csv_spec_params = set(param_sets.columns)-(set(param_sets.columns)&set([i.name for i in model.parameters]))\n",
    "param_sets = param_sets.drop(csv_spec_params, axis=1)\n",
    "\n",
    "# Reduces GTP hydrolysis to align with expected GTPase activity of NRASQ61mut\n",
    "param_sets[\"catalyze_NF1_RAS_gdp_kcatr\"] = param_sets[\"catalyze_NF1_RAS_gdp_kcatr\"] / 10\n",
    "# Makes dimers less favorable\n",
    "param_sets[\"ep_RAF_RAF_mod_RASgtp_double_ddG\"] = param_sets[\"ep_RAF_RAF_mod_RASgtp_double_ddG\"]/5\n",
    "# Removes preference against second inhibitor binding to model type 2 pan RAF inhibitor (Belvarafenib)\n",
    "param_sets[\"ep_RAF_RAF_mod_RAFi_double_ddG\"] = 0\n",
    "# Remove negative feedback CRAF\n",
    "param_sets['ep_RAF_RAF_mod_pRAF_ddG'] = 0 \n",
    "param_sets['ep_RAF_RAS_mod_pRAF_ddG'] = 0 \n",
    "\n",
    "\n",
    "params = param_sets.iloc[param_set_index].to_dict()"
   ]
  },
  {
   "cell_type": "code",
   "execution_count": 10,
   "metadata": {},
   "outputs": [],
   "source": [
    "params['RAFi_0'] = 0.0\n",
    "params['MEKi_0'] = 0.0"
   ]
  },
  {
   "cell_type": "markdown",
   "metadata": {},
   "source": [
    "## Initial equilibrium\n",
    "First we run the model from its baseline initial conditions until equilibrium is reached. For example protein synthesis/degradation, phosphorylation/dephosphorylation, and drug binding/unbinding all need to reach steady state to match the state of the cells in the experimental setup. There may be some time without visible progress as behind the scenes PySB runs BioNetGen to generate the reaction network and Cython to compile the resulting differential equations into efficient executable code."
   ]
  },
  {
   "cell_type": "code",
   "execution_count": 11,
   "metadata": {},
   "outputs": [
    {
     "name": "stdout",
     "output_type": "stream",
     "text": [
      "    at t=100   ... 881/881 species converged\n"
     ]
    }
   ],
   "source": [
    "sim = ScipyOdeSimulator(model,param_values=params) \n",
    "df_eq = equilibrate(sim, None)"
   ]
  },
  {
   "cell_type": "markdown",
   "metadata": {},
   "source": [
    "Now that the model has been simulated once and the actual molecular species have been enumerated, we can find the exact species numbers for the inhibitors. These are needed so that their concentrations can be overridden in the model state for subsequent simulations."
   ]
  },
  {
   "cell_type": "code",
   "execution_count": 12,
   "metadata": {},
   "outputs": [],
   "source": [
    "RAFi_index = get_species_index(model, model.monomers.RAFi(raf=None)**model.compartments.CP)\n",
    "MEKi_index = get_species_index(model, model.monomers.MEKi(mek=None)**model.compartments.CP)"
   ]
  },
  {
   "cell_type": "markdown",
   "metadata": {},
   "source": [
    "## Inhibitor pre-treatment"
   ]
  },
  {
   "cell_type": "markdown",
   "metadata": {},
   "source": [
    "We take the final state of the equilibration simulation and use it as the initial state of this new simulation, overriding the RAFi and MEKi concentrations with the user-selected values."
   ]
  },
  {
   "cell_type": "code",
   "execution_count": 13,
   "metadata": {},
   "outputs": [],
   "source": [
    "initials_pre = df_eq.iloc[-1, :len(model.species)].copy()\n",
    "initials_pre[RAFi_index] = 0.0\n",
    "initials_pre[MEKi_index] = 0.0\n",
    "\n",
    "#fixed time pre-treatment simulation\n",
    "tspan_pretrt = np.linspace(0, t_pretrt, N_time_points)\n",
    "df_pre=sim.run(tspan=tspan_pretrt, initials=initials_pre.to_list()).dataframe"
   ]
  },
  {
   "cell_type": "markdown",
   "metadata": {},
   "source": [
    "In case the previous simulation was run to steady state, we want to retain only the first t_pretrt hours of pre-treatment plus the state at final equilibrium. So we cut the time series down using a Pandas slice operation and adjust the remaining time values to begin at -pre_time_max."
   ]
  },
  {
   "cell_type": "code",
   "execution_count": 14,
   "metadata": {},
   "outputs": [],
   "source": [
    "if (len(df_pre.loc[:t_pretrt])<len(df_pre)):\n",
    "   df_pre_tmp = df_pre.loc[:t_pretrt]\n",
    "   df_pre_tmp.iloc[-1] = df_pre.iloc[-1]\n",
    "   df_pre= df_pre_tmp\n",
    "df_pre['time'] = df_pre.index\n",
    "df_pre['time'] = df_pre['time']-t_pretrt\n",
    "df_pre['time'].iloc[-1] = 0\n",
    "df_pre.reset_index(drop=True, inplace=True)\n",
    "df_pre.set_index('time', inplace=True)"
   ]
  },
  {
   "cell_type": "markdown",
   "metadata": {},
   "source": [
    "## Inhibitor treatment"
   ]
  },
  {
   "cell_type": "markdown",
   "metadata": {},
   "source": [
    "We run another simulation starting from the final state of the pre-treatment simulation, overriding the MEKi and PRAFi concentrations with the user-selected values. This is a fixed-time simulation rather than the steady-state equilibration used in the previous simulations."
   ]
  },
  {
   "cell_type": "code",
   "execution_count": 15,
   "metadata": {},
   "outputs": [],
   "source": [
    "RAFi_concentration = 0\n",
    "MEKi_concentration = 0.5"
   ]
  },
  {
   "cell_type": "code",
   "execution_count": 16,
   "metadata": {},
   "outputs": [],
   "source": [
    "tspan_trt = np.linspace(0, t_trt, N_time_points)\n",
    "initials_trt = df_pre.iloc[-1, :len(model.species)].copy()\n",
    "initials_trt[RAFi_index] = RAFi_concentration\n",
    "initials_trt[MEKi_index] = MEKi_concentration\n",
    "#initials_trt[EGF_index] = EGF_concentration / model.parameters['m_Da_EGF'].get_value()\n",
    "df_trt = sim.run(tspan=tspan_trt, initials=initials_trt.to_list()).dataframe"
   ]
  },
  {
   "cell_type": "code",
   "execution_count": 17,
   "metadata": {},
   "outputs": [],
   "source": [
    "RAFi_concentration = 10**-0.875\n",
    "MEKi_concentration = 0.5\n",
    "tspan_trt = np.linspace(0, t_trt)\n",
    "initials_trt = df_pre.iloc[-1, :len(model.species)].copy()\n",
    "initials_trt[RAFi_index] = RAFi_concentration\n",
    "initials_trt[MEKi_index] = MEKi_concentration\n",
    "df_trt = pd.concat((df_trt,sim.run(tspan=tspan_trt, initials=initials_trt.to_list()).dataframe))"
   ]
  },
  {
   "cell_type": "markdown",
   "metadata": {},
   "source": [
    "Concatenate the dataframes holding the pre-treatment and treatment simulation trajectories, keeping only the columns corresponding to model observables. Also filter out \"noise\" (insignificant concentration fluctuations caused by numerical integration tolerance issues)."
   ]
  },
  {
   "cell_type": "code",
   "execution_count": 18,
   "metadata": {},
   "outputs": [],
   "source": [
    "obs = pd.concat([df_pre, df_trt.iloc[1:]])[df_pre.keys()[len(model.species):]]\n",
    "obs.loc[:, (obs < 1e-10).all()] = 0\n",
    "obs.loc[:,\"free_RAFi\"] = np.round(obs.loc[:,\"free_RAFi\"],5)"
   ]
  },
  {
   "cell_type": "markdown",
   "metadata": {},
   "source": [
    "## Write time courses to CSV file"
   ]
  },
  {
   "cell_type": "markdown",
   "metadata": {},
   "source": [
    "Append information on parameter sets used in this simulation and save the time course trajectories to file."
   ]
  },
  {
   "cell_type": "code",
   "execution_count": 19,
   "metadata": {},
   "outputs": [],
   "source": [
    "settings = {\n",
    "    'Cell_line': 'A375_sim',\n",
    "    'Parameter_set': param_set_index,\n",
    "    'Drug A': 'Belvarafenib',\n",
    "    'Drug B': 'Cobimetinib',\n",
    "    'Concentration A (uM)': RAFi_concentration,\n",
    "    'Concentration B (uM)': MEKi_concentration,\n",
    "    'Time A (h)': t_pretrt,\n",
    "    'Time B (h)': t_pretrt,\n",
    "}\n",
    "obs_out = obs.copy()\n",
    "for column, value in settings.items():\n",
    "     obs_out[column] = value\n",
    "obs_out.to_csv(Path('data/Model_temporal_response_trajectories/trajectories_double_run_Q61_no_CRAF.csv'))"
   ]
  },
  {
   "cell_type": "markdown",
   "metadata": {},
   "source": [
    "## Plot time courses"
   ]
  },
  {
   "cell_type": "markdown",
   "metadata": {},
   "source": [
    "Plot time-course trajectories of meaninfgul model species. The pre-treatment timescale is collapsed on a smallar interval for display purposes."
   ]
  },
  {
   "cell_type": "code",
   "execution_count": 20,
   "metadata": {},
   "outputs": [],
   "source": [
    "pre_time_scale = 0.5\n",
    "obs_plot = obs.reset_index()\n",
    "time_scale_factor = pre_time_scale / -obs_plot['time'].iloc[0]\n",
    "obs_plot.loc[obs_plot['time'] < 0, 'time'] *= time_scale_factor\n",
    "obs_plot = obs_plot.reindex(sorted(obs_plot.columns), axis=1)"
   ]
  },
  {
   "cell_type": "code",
   "execution_count": 21,
   "metadata": {},
   "outputs": [],
   "source": [
    "obs_melted = obs_plot.melt(id_vars=['time','free_RAFi'])"
   ]
  },
  {
   "cell_type": "code",
   "execution_count": 22,
   "metadata": {},
   "outputs": [
    {
     "data": {
      "image/png": "[encoded data removed]",
      "text/plain": [
       "<Figure size 982.625x1050 with 6 Axes>"
      ]
     },
     "metadata": {},
     "output_type": "display_data"
    }
   ],
   "source": [
    "obs_array = np.array([\"Active_CRAF_percent\",\"Active_BRAF_percent\",\"Active_RAF_percent\",\"Bound_BRAF_V600E_percent\",\"Bound_CRAF_percent\",\"Bound_BRAF_percent\",\"Bound_RAF_percent\",\"Active\",\"pERK_percent\",\"pMEK_percent\"])\n",
    "upper_bound = {\"Active_CRAF_percent\":100,\"Active_BRAF_percent\":100,\"Active_RAF_percent\":100,\"Bound_BRAF_V600E_percent\":100,\"Bound_CRAF_percent\":100,\"Bound_BRAF_percent\":100,\"Bound_RAF_percent\":100,\"pERK_percent\":100,\"pMEK_percent\":100}\n",
    "selected_obs_melted = obs_melted[np.isin(obs_melted[\"variable\"],obs_array)]\n",
    "g = sns.FacetGrid(\n",
    "    selected_obs_melted, col='variable', hue='free_RAFi', col_wrap=2,\n",
    "    sharex=False, sharey=False, height=3.5, aspect=1.25\n",
    ")\n",
    "g.map(plt.plot, 'time', 'value')\n",
    "for ax_ind in range(len(g.axes)):\n",
    "    _, ymax = g.axes[ax_ind].get_ylim()\n",
    "    #upper_bound_val = upper_bound[g.axes[ax_ind].get_title().replace(\"variable = \",'')]\n",
    "    g.axes[ax_ind].set_ylim(ymin=0, ymax=100)\n",
    "    g.axes[ax_ind].set_xticks([-pre_time_scale, 0, 1, t_trt])\n",
    "    g.axes[ax_ind].set_xticklabels(['-'+str(t_pretrt), '0', '1', str(t_trt)])\n",
    "    g.axes[ax_ind].axvline(0, color='k', linewidth=0.5, linestyle='--')\n",
    "    g.axes[ax_ind].set_ylabel(g.axes[ax_ind].get_title().replace(\"variable = \",'').replace(\"_\",\" \").replace(\"percent\",\"%\"))\n",
    "    g.axes[ax_ind].set_title(\"\")\n",
    "    \n",
    "g.set_xlabels('time (hours)')\n",
    "g.add_legend()\n",
    "#g.set_ylabels('%')\n",
    "g.savefig(Path('figures/Model_predicted_temporal_response/NRAS_Q61/NRAS_Q61_no_CRAF_double_dose.svg'),format = 'svg')"
   ]
  },
  {
   "cell_type": "markdown",
   "metadata": {},
   "source": [
    "## References\n",
    "\n",
    "[1] Fröhlich, F., Gerosa, L., Muhlich, J., & Sorger, P. K. (2023). Mechanistic model of MAPK signaling reveals how allostery and rewiring contribute to drug resistance. Molecular Systems Biology, 19(2), e10988. doi:10.15252/msb.202210988"
   ]
  },
  {
   "cell_type": "markdown",
   "metadata": {},
   "source": [
    "# Session Info and Runtime"
   ]
  },
  {
   "cell_type": "code",
   "execution_count": 23,
   "metadata": {},
   "outputs": [
    {
     "name": "stdout",
     "output_type": "stream",
     "text": [
      "Elapsed Time = 31.9891300201416 seconds\n",
      "name: quant_bio\n",
      "channels:\n",
      "  - conda-forge\n",
      "  - alubbock\n",
      "  - defaults\n",
      "dependencies:\n",
      "  - anyio=4.2.0=py311hca03da5_0\n",
      "  - appnope=0.1.2=py311hca03da5_1001\n",
      "  - argon2-cffi=21.3.0=pyhd3eb1b0_0\n",
      "  - argon2-cffi-bindings=21.2.0=py311h80987f9_0\n",
      "  - asttokens=2.0.5=pyhd3eb1b0_0\n",
      "  - async-lru=2.0.4=py311hca03da5_0\n",
      "  - attrs=23.1.0=py311hca03da5_0\n",
      "  - babel=2.11.0=py311hca03da5_0\n",
      "  - beautifulsoup4=4.12.2=py311hca03da5_0\n",
      "  - bionetgen=2.9.1=0\n",
      "  - blas=1.0=openblas\n",
      "  - bleach=4.1.0=pyhd3eb1b0_0\n",
      "  - bottleneck=1.3.7=py311hb9f6ed7_0\n",
      "  - brotli=1.0.9=h1a28f6b_7\n",
      "  - brotli-bin=1.0.9=h1a28f6b_7\n",
      "  - brotli-python=1.0.9=py311h313beb8_7\n",
      "  - bzip2=1.0.8=h80987f9_5\n",
      "  - ca-certificates=2024.2.2=hf0a4a13_0\n",
      "  - certifi=2024.2.2=py311hca03da5_0\n",
      "  - cffi=1.16.0=py311h80987f9_0\n",
      "  - charset-normalizer=2.0.4=pyhd3eb1b0_0\n",
      "  - comm=0.2.1=py311hca03da5_0\n",
      "  - contourpy=1.2.0=py311h48ca7d4_0\n",
      "  - cycler=0.11.0=pyhd3eb1b0_0\n",
      "  - cython=3.0.8=py311h80987f9_0\n",
      "  - debugpy=1.6.7=py311h313beb8_0\n",
      "  - decorator=5.1.1=pyhd3eb1b0_0\n",
      "  - defusedxml=0.7.1=pyhd3eb1b0_0\n",
      "  - executing=0.8.3=pyhd3eb1b0_0\n",
      "  - fonttools=4.25.0=pyhd3eb1b0_0\n",
      "  - freetype=2.12.1=h1192e45_0\n",
      "  - gdbm=1.18=h8fe7016_4\n",
      "  - gmp=6.2.1=hc377ac9_3\n",
      "  - gmpy2=2.1.2=py311h40f64dc_0\n",
      "  - idna=3.4=py311hca03da5_0\n",
      "  - ipykernel=6.28.0=py311hca03da5_0\n",
      "  - ipython=8.20.0=py311hca03da5_0\n",
      "  - jedi=0.18.1=py311hca03da5_1\n",
      "  - jinja2=3.1.3=py311hca03da5_0\n",
      "  - jpeg=9e=h80987f9_1\n",
      "  - json5=0.9.6=pyhd3eb1b0_0\n",
      "  - jsonschema=4.19.2=py311hca03da5_0\n",
      "  - jsonschema-specifications=2023.7.1=py311hca03da5_0\n",
      "  - jupyter-lsp=2.2.0=py311hca03da5_0\n",
      "  - jupyter_client=8.6.0=py311hca03da5_0\n",
      "  - jupyter_core=5.5.0=py311hca03da5_0\n",
      "  - jupyter_events=0.8.0=py311hca03da5_0\n",
      "  - jupyter_server=2.10.0=py311hca03da5_0\n",
      "  - jupyter_server_terminals=0.4.4=py311hca03da5_1\n",
      "  - jupyterlab=4.0.11=py311hca03da5_0\n",
      "  - jupyterlab_pygments=0.1.2=py_0\n",
      "  - jupyterlab_server=2.25.1=py311hca03da5_0\n",
      "  - kiwisolver=1.4.4=py311h313beb8_0\n",
      "  - lcms2=2.12=hba8e193_0\n",
      "  - lerc=3.0=hc377ac9_0\n",
      "  - libbrotlicommon=1.0.9=h1a28f6b_7\n",
      "  - libbrotlidec=1.0.9=h1a28f6b_7\n",
      "  - libbrotlienc=1.0.9=h1a28f6b_7\n",
      "  - libcxx=14.0.6=h848a8c0_0\n",
      "  - libdeflate=1.17=h80987f9_1\n",
      "  - libffi=3.4.4=hca03da5_0\n",
      "  - libgfortran=5.0.0=11_3_0_hca03da5_28\n",
      "  - libgfortran5=11.3.0=h009349e_28\n",
      "  - libopenblas=0.3.21=h269037a_0\n",
      "  - libpng=1.6.39=h80987f9_0\n",
      "  - libsodium=1.0.18=h1a28f6b_0\n",
      "  - libtiff=4.5.1=h313beb8_0\n",
      "  - libwebp-base=1.3.2=h80987f9_0\n",
      "  - llvm-openmp=14.0.6=hc6e5704_0\n",
      "  - lz4-c=1.9.4=h313beb8_0\n",
      "  - markupsafe=2.1.3=py311h80987f9_0\n",
      "  - matplotlib=3.8.0=py311hca03da5_0\n",
      "  - matplotlib-base=3.8.0=py311h7aedaa7_0\n",
      "  - matplotlib-inline=0.1.6=py311hca03da5_0\n",
      "  - mistune=2.0.4=py311hca03da5_0\n",
      "  - mpc=1.1.0=h8c48613_1\n",
      "  - mpfr=4.0.2=h695f6f0_1\n",
      "  - mpmath=1.3.0=py311hca03da5_0\n",
      "  - munkres=1.1.4=py_0\n",
      "  - nbclient=0.8.0=py311hca03da5_0\n",
      "  - nbconvert=7.10.0=py311hca03da5_0\n",
      "  - nbformat=5.9.2=py311hca03da5_0\n",
      "  - ncurses=6.4=h313beb8_0\n",
      "  - nest-asyncio=1.6.0=py311hca03da5_0\n",
      "  - nfsim=1.14.1=0\n",
      "  - notebook=7.0.8=py311hca03da5_0\n",
      "  - notebook-shim=0.2.3=py311hca03da5_0\n",
      "  - numexpr=2.8.7=py311h6dc990b_0\n",
      "  - numpy=1.26.4=py311he598dae_0\n",
      "  - numpy-base=1.26.4=py311hfbfe69c_0\n",
      "  - openjpeg=2.3.0=h7a6adac_2\n",
      "  - openssl=3.2.1=h0d3ecfb_0\n",
      "  - overrides=7.4.0=py311hca03da5_0\n",
      "  - packaging=23.1=py311hca03da5_0\n",
      "  - pandas=2.2.1=py311h7aedaa7_0\n",
      "  - pandocfilters=1.5.0=pyhd3eb1b0_0\n",
      "  - parso=0.8.3=pyhd3eb1b0_0\n",
      "  - perl=5.34.0=h1a28f6b_2\n",
      "  - pexpect=4.8.0=pyhd3eb1b0_3\n",
      "  - pillow=10.2.0=py311h80987f9_0\n",
      "  - pip=23.3.1=py311hca03da5_0\n",
      "  - platformdirs=3.10.0=py311hca03da5_0\n",
      "  - prometheus_client=0.14.1=py311hca03da5_0\n",
      "  - prompt-toolkit=3.0.43=py311hca03da5_0\n",
      "  - prompt_toolkit=3.0.43=hd3eb1b0_0\n",
      "  - psutil=5.9.0=py311h80987f9_0\n",
      "  - ptyprocess=0.7.0=pyhd3eb1b0_2\n",
      "  - pure_eval=0.2.2=pyhd3eb1b0_0\n",
      "  - pycparser=2.21=pyhd3eb1b0_0\n",
      "  - pygments=2.15.1=py311hca03da5_1\n",
      "  - pyparsing=3.0.9=py311hca03da5_0\n",
      "  - pysocks=1.7.1=py311hca03da5_0\n",
      "  - python=3.11.8=hb885b13_0\n",
      "  - python-dateutil=2.8.2=pyhd3eb1b0_0\n",
      "  - python-fastjsonschema=2.16.2=py311hca03da5_0\n",
      "  - python-json-logger=2.0.7=py311hca03da5_0\n",
      "  - python-tzdata=2023.3=pyhd3eb1b0_0\n",
      "  - pytz=2023.3.post1=py311hca03da5_0\n",
      "  - pyyaml=6.0.1=py311h80987f9_0\n",
      "  - pyzmq=25.1.2=py311h313beb8_0\n",
      "  - readline=8.2=h1a28f6b_0\n",
      "  - referencing=0.30.2=py311hca03da5_0\n",
      "  - requests=2.31.0=py311hca03da5_1\n",
      "  - rfc3339-validator=0.1.4=py311hca03da5_0\n",
      "  - rfc3986-validator=0.1.1=py311hca03da5_0\n",
      "  - rpds-py=0.10.6=py311hf0e4da2_0\n",
      "  - seaborn=0.12.2=py311hca03da5_0\n",
      "  - send2trash=1.8.2=py311hca03da5_0\n",
      "  - setuptools=68.2.2=py311hca03da5_0\n",
      "  - six=1.16.0=pyhd3eb1b0_1\n",
      "  - sniffio=1.3.0=py311hca03da5_0\n",
      "  - soupsieve=2.5=py311hca03da5_0\n",
      "  - sqlite=3.41.2=h80987f9_0\n",
      "  - stack_data=0.2.0=pyhd3eb1b0_0\n",
      "  - terminado=0.17.1=py311hca03da5_0\n",
      "  - timer=0.2.2=pyhd8ed1ab_0\n",
      "  - tinycss2=1.2.1=py311hca03da5_0\n",
      "  - tk=8.6.12=hb8d0fd4_0\n",
      "  - tornado=6.3.3=py311h80987f9_0\n",
      "  - tqdm=4.65.0=py311hb6e6a13_0\n",
      "  - traitlets=5.7.1=py311hca03da5_0\n",
      "  - typing-extensions=4.9.0=py311hca03da5_1\n",
      "  - typing_extensions=4.9.0=py311hca03da5_1\n",
      "  - tzdata=2024a=h04d1e81_0\n",
      "  - urllib3=2.1.0=py311hca03da5_1\n",
      "  - wcwidth=0.2.5=pyhd3eb1b0_0\n",
      "  - webencodings=0.5.1=py311hca03da5_1\n",
      "  - websocket-client=0.58.0=py311hca03da5_4\n",
      "  - wheel=0.41.2=py311hca03da5_0\n",
      "  - xz=5.4.6=h80987f9_0\n",
      "  - yaml=0.2.5=h1a28f6b_0\n",
      "  - zeromq=4.3.5=h313beb8_0\n",
      "  - zlib=1.2.13=h5a0b063_0\n",
      "  - zstd=1.5.5=hd90d995_0\n",
      "  - pip:\n",
      "      - networkx==3.2.1\n",
      "      - pysb==1.16.0\n",
      "      - scipy==1.12.0\n",
      "      - sympy==1.11.1\n",
      "      - synergy==0.5.1\n",
      "prefix: /opt/anaconda3/envs/quant_bio\n"
     ]
    }
   ],
   "source": [
    "print(\"Elapsed Time = \"+str(time.time() - start_time) + \" seconds\")\n",
    "!conda env export --name quant_bio"
   ]
  },
  {
   "cell_type": "code",
   "execution_count": null,
   "metadata": {},
   "outputs": [],
   "source": []
  }
 ],
 "metadata": {
  "kernelspec": {
   "display_name": "Python 3 (ipykernel)",
   "language": "python",
   "name": "python3"
  },
  "language_info": {
   "codemirror_mode": {
    "name": "ipython",
    "version": 3
   },
   "file_extension": ".py",
   "mimetype": "text/x-python",
   "name": "python",
   "nbconvert_exporter": "python",
   "pygments_lexer": "ipython3",
   "version": "3.11.8"
  }
 },
 "nbformat": 4,
 "nbformat_minor": 4
}
