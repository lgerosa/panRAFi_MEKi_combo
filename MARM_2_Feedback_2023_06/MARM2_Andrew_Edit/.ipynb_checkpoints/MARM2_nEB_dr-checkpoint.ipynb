{
 "cells": [
  {
   "cell_type": "markdown",
   "metadata": {},
   "source": [
    "# Simulation of EGF stimulation in drug-adapted BRAF<sup>V600E</sup> melanoma cells using the MARM1 model\n",
    "\n",
    "Here you can simulate the time-course respose of drug-adapted BRAF<sup>V600E</sup> melanoma cells to addition of exogenous EGF. This code simulates the time-course response of A375 melanoma cells adapted to a dose of RAF (vemurafenib) and/or MEK inhibitors (cobimetinib) and then stimulated with EGF.\n",
    "\n",
    "**Note**: this code performs the simulation for a single condition and visualizes the time-course response. Use the Jupyter Notebook *MARM1_simulation_multiple_conditions.ipynb* to generate simulation results for multiple conditions (e.g. multiple dose combinations). \n",
    "\n"
   ]
  },
  {
   "cell_type": "markdown",
   "metadata": {},
   "source": [
    "## Import of libraries\n",
    "Importing libraries necessary to run MARM1 model simulations."
   ]
  },
  {
   "cell_type": "code",
   "execution_count": 1,
   "metadata": {},
   "outputs": [],
   "source": [
    "%matplotlib inline\n",
    "import numpy as np\n",
    "import pandas as pd\n",
    "import seaborn as sns\n",
    "import matplotlib.pyplot as plt\n",
    "import multiprocessing"
   ]
  },
  {
   "cell_type": "code",
   "execution_count": 2,
   "metadata": {},
   "outputs": [
    {
     "data": {
      "text/plain": [
       "28"
      ]
     },
     "execution_count": 2,
     "metadata": {},
     "output_type": "execute_result"
    }
   ],
   "source": [
    "multiprocessing.cpu_count()"
   ]
  },
  {
   "cell_type": "markdown",
   "metadata": {},
   "source": [
    "Importing the MARM1 PySB model and the simulator.  "
   ]
  },
  {
   "cell_type": "code",
   "execution_count": 3,
   "metadata": {},
   "outputs": [],
   "source": [
    "from pysb.simulator import ScipyOdeSimulator\n",
    "from pysb.core import as_complex_pattern\n",
    "from pysb.bng import generate_equations\n",
    "\n",
    "from MARM2_no_EGFR_no_BRAF import model"
   ]
  },
  {
   "cell_type": "markdown",
   "metadata": {},
   "source": [
    "## User-defined experimental setup\n",
    "In this section you can alter the setup of the experiment simulated by MARM1. First, you need to define the experimental setup of the pre-treatment phase and of the subsequent ligand stimulation phase. The variables needed for the pre-treatment phase are:\n",
    "\n",
    "<b>RAFi_concentration ($\\mu$M)</b>: defines the concentration of the RAF inhibitor (vemurafenib) during the pre-treatment and treatment phase. \n",
    "\n",
    "<b>MEKi_concentration ($\\mu$M)</b>: defines the concentration of the RAF inhibitor (vemurafenib) during the pre-treatment and treatment phase. \n",
    "\n",
    "<b>Pretreatment_time (h)</b>: defines the duration of the pre-treatment phase.\n",
    "    \n",
    "For the treatment phase, you need to set the concentration of the EGF ligand and the running time of simulation after ligand stimulation. This is done with the following variables:\n",
    "\n",
    "<b>EGF_concentration (ng/mL)</b>: defines the EGF concentrations used to stimulate cells. We have calibrated the model only using data from 100 ng/mL, which is thus the default value.\n",
    "\n",
    "<b>Simulation_time (h)</b>: define the simulation time after ligand stimulation. For the stimulation of cells expressing normal levels of EGFR, 2 hours is enough to visualize the pulsatile reactivation of MAPK signaling.\n",
    "\n",
    "<b>N_time_points</b>: define the number of time points returned by each model simulation. \n",
    "\n",
    "Choose the experiment to simulate by setting the following variables and re-running the notebook:"
   ]
  },
  {
   "cell_type": "markdown",
   "metadata": {},
   "source": [
    "1. **PRAF inhibitor** pre-treatment concentration in μM."
   ]
  },
  {
   "cell_type": "code",
   "execution_count": null,
   "metadata": {},
   "outputs": [],
   "source": []
  },
  {
   "cell_type": "markdown",
   "metadata": {},
   "source": [
    "2. **MEK inhibitor** pre-treatment concentration in μM."
   ]
  },
  {
   "cell_type": "code",
   "execution_count": null,
   "metadata": {},
   "outputs": [],
   "source": []
  },
  {
   "cell_type": "markdown",
   "metadata": {},
   "source": [
    "3. **Pretreatment duration** in hours."
   ]
  },
  {
   "cell_type": "code",
   "execution_count": 4,
   "metadata": {},
   "outputs": [],
   "source": [
    "t_pretrt = 24"
   ]
  },
  {
   "cell_type": "markdown",
   "metadata": {},
   "source": []
  },
  {
   "cell_type": "code",
   "execution_count": null,
   "metadata": {},
   "outputs": [],
   "source": []
  },
  {
   "cell_type": "markdown",
   "metadata": {},
   "source": [
    "5. **Simulation time** in hours."
   ]
  },
  {
   "cell_type": "code",
   "execution_count": 5,
   "metadata": {},
   "outputs": [],
   "source": [
    "t_trt = 24"
   ]
  },
  {
   "cell_type": "markdown",
   "metadata": {},
   "source": [
    "6. **Parameter set** selects which of the 50 best-fit parameter sets to use for the simulation. Set 0 is the best fit and 49 the worst."
   ]
  },
  {
   "cell_type": "code",
   "execution_count": 6,
   "metadata": {},
   "outputs": [],
   "source": [
    "param_set_index = 13\n",
    "# param_set_index = 0"
   ]
  },
  {
   "cell_type": "markdown",
   "metadata": {},
   "source": [
    "7. **N_time_points** defineds the number of time points returned by each individual model simulation"
   ]
  },
  {
   "cell_type": "code",
   "execution_count": 7,
   "metadata": {},
   "outputs": [],
   "source": [
    "N_time_points = 97"
   ]
  },
  {
   "cell_type": "markdown",
   "metadata": {},
   "source": [
    "## Generate model equations\n",
    "PySB runs BioNetGen to generate the reaction network"
   ]
  },
  {
   "cell_type": "code",
   "execution_count": 8,
   "metadata": {},
   "outputs": [],
   "source": [
    "generate_equations(model)\n",
    "#[i.name for i in model.parameters]"
   ]
  },
  {
   "cell_type": "markdown",
   "metadata": {},
   "source": [
    "## Parameter set preparation"
   ]
  },
  {
   "cell_type": "markdown",
   "metadata": {},
   "source": [
    "Override the `EGFR_crispr` parameter with the user-specified value for EGFR under/over-expression and set naive-treatment conditions for concentrations of RAF and MEK inhibitors and EGF."
   ]
  },
  {
   "cell_type": "code",
   "execution_count": 9,
   "metadata": {},
   "outputs": [],
   "source": [
    "param_sets = pd.read_csv('RTKERK_pRAF_EGF_EGFR_MEKi_PRAFi_RAFi.csv', index_col=0)\n",
    "# finds the parameters of the .csv file that correspond to Cobimetinib and Vemurafenib and maps them to MEKi and RAFi (respectively)\n",
    "rename_dict = {}\n",
    "for i in param_sets.columns:\n",
    "    if \"Cobimetinib\" in i or \"Vemurafenib\" in i:\n",
    "        rename_dict[i] = i.replace(\"Cobimetinib\",\"MEKi\").replace(\"Vemurafenib\",\"RAFi\")\n",
    "param_sets = param_sets.rename(columns = rename_dict)\n",
    "\n",
    "# finds the parameters which are stored in .csv file but not in the model and removes them\n",
    "csv_spec_params = set(param_sets.columns)-(set(param_sets.columns)&set([i.name for i in model.parameters]))\n",
    "param_sets = param_sets.drop(csv_spec_params, axis=1)\n",
    "\n",
    "# Reduces GTP hydrolysis to align with expected GTPase activity of NRASQ61mut\n",
    "param_sets[\"catalyze_NF1_RAS_gdp_kcatr\"] = param_sets[\"catalyze_NF1_RAS_gdp_kcatr\"] / 100\n",
    "# Reduces removes preference against second inhibitor binding to model pan RAF inhibitor\n",
    "param_sets[\"ep_RAF_RAF_mod_RAFi_double_ddG\"] = 0\n",
    "params = param_sets.iloc[param_set_index].to_dict()"
   ]
  },
  {
   "cell_type": "markdown",
   "metadata": {},
   "source": []
  },
  {
   "cell_type": "code",
   "execution_count": 10,
   "metadata": {},
   "outputs": [],
   "source": [
    "#params['EGF_0'] = 0.0\n",
    "params['RAFi_0'] = 0.0\n",
    "params['MEKi_0'] = 0.0"
   ]
  },
  {
   "cell_type": "code",
   "execution_count": 11,
   "metadata": {},
   "outputs": [
    {
     "name": "stdout",
     "output_type": "stream",
     "text": [
      "1.0\n",
      "0.0020668423117604\n",
      "0.01\n",
      "0.0\n",
      "0.0\n"
     ]
    }
   ],
   "source": [
    "print(model.parameters.NRAS_Q61mut.value)\n",
    "print(model.parameters.catalyze_NF1_RAS_gdp_kcatr.value)\n",
    "print(model.parameters.q61_RAS_gtp_kcat.value)\n",
    "print(model.parameters.ep_RAF_RAF_mod_RAFi_single_ddG.value)\n",
    "print(model.parameters.ep_RAF_RAF_mod_RAFi_double_ddG.value)\n",
    "#print(model.parameters.bind_PRAFi_RAF_kf.value)"
   ]
  },
  {
   "cell_type": "markdown",
   "metadata": {},
   "source": [
    "## Simulations"
   ]
  },
  {
   "cell_type": "markdown",
   "metadata": {},
   "source": [
    "First we define some utility functions that will be used below.\n",
    "*Equilibrate* runs a model simulation till steady state for that parameter set.\n",
    "*Get_species_index* find and retunrs the index of speies in the model given input specie patterns. "
   ]
  },
  {
   "cell_type": "code",
   "execution_count": 12,
   "metadata": {},
   "outputs": [],
   "source": [
    "def equilibrate(simulator, initials):\n",
    "    \"\"\"Simulate a model from given initial conditions until it reaches steady state\"\"\"\n",
    "    scale = 10\n",
    "    t_start = 1e-4\n",
    "    df = None\n",
    "    tspan = np.geomspace(t_start, t_start * scale)\n",
    "    while True:\n",
    "        print(f\"    at t={tspan[-1]:<5.3g} ... \", end='', flush=True)\n",
    "        res = simulator.run(tspan=tspan, initials=initials)\n",
    "        df = pd.concat([df, res.dataframe.iloc[1:]])\n",
    "        initials = res.species[-1]\n",
    "        close = np.isclose(\n",
    "            *res.species[[-1,-2]].view(float).reshape(2,-1),\n",
    "            rtol=1e-3\n",
    "        )\n",
    "        cs = np.sum(close)\n",
    "        n = len(simulator.model.species)\n",
    "        print(f\"{cs}/{n} species converged\")\n",
    "        if np.all(close):\n",
    "            break\n",
    "        tspan *= scale\n",
    "    return df"
   ]
  },
  {
   "cell_type": "code",
   "execution_count": 13,
   "metadata": {},
   "outputs": [],
   "source": [
    "def get_species_index(model, pattern):\n",
    "    \"\"\"Return the integer species number for a given species in the model\"\"\"\n",
    "    pattern = as_complex_pattern(pattern)\n",
    "    matches = [\n",
    "        i for i, s in enumerate(model.species)\n",
    "        if s.is_equivalent_to(pattern)\n",
    "    ]\n",
    "    n = len(matches)\n",
    "    assert n == 1, f\"Expected exactly one match, got {n}\"\n",
    "    return matches[0]"
   ]
  },
  {
   "cell_type": "markdown",
   "metadata": {},
   "source": [
    "## Initial equilibrium\n",
    "First we run the model from its baseline initial conditions until equilibrium is reached. For example protein synthesis/degradation, phosphorylation/dephosphorylation, and drug binding/unbinding all need to reach steady state to match the state of the cells in the experimental setup. There may be some time without visible progress as behind the scenes PySB runs BioNetGen to generate the reaction network and Cython to compile the resulting differential equations into efficient executable code."
   ]
  },
  {
   "cell_type": "code",
   "execution_count": 14,
   "metadata": {},
   "outputs": [
    {
     "name": "stdout",
     "output_type": "stream",
     "text": [
      "    at t=0.001 ... 865/877 species converged\n",
      "    at t=0.01  ... 859/877 species converged\n",
      "    at t=0.1   ... 849/877 species converged\n",
      "    at t=1     ... 843/877 species converged\n",
      "    at t=10    ... 872/877 species converged\n",
      "    at t=100   ... 877/877 species converged\n"
     ]
    }
   ],
   "source": [
    "sim = ScipyOdeSimulator(model,param_values=params) \n",
    "df_eq = equilibrate(sim, None)"
   ]
  },
  {
   "cell_type": "markdown",
   "metadata": {},
   "source": [
    "Now that the model has been simulated once and the actual molecular species have been enumerated, we can find the exact species numbers for the inhibitors and EGF. These are needed so that their concentrations can be overridden in the model state for subsequent simulations."
   ]
  },
  {
   "cell_type": "code",
   "execution_count": 15,
   "metadata": {},
   "outputs": [],
   "source": [
    "RAFi_index = get_species_index(model, model.monomers.RAFi(raf=None)**model.compartments.CP)\n",
    "MEKi_index = get_species_index(model, model.monomers.MEKi(mek=None)**model.compartments.CP)\n",
    "#EGF_index = get_species_index(model, model.monomers.EGF(rtk=None)**model.compartments.CP)"
   ]
  },
  {
   "cell_type": "markdown",
   "metadata": {},
   "source": [
    "## Inhibitor pre-treatment"
   ]
  },
  {
   "cell_type": "markdown",
   "metadata": {},
   "source": [
    "We take the final state of the equilibration simulation and use it as the initial state of this new simulation, overriding the RAFi and MEKi concentrations with the user-selected values."
   ]
  },
  {
   "cell_type": "code",
   "execution_count": 16,
   "metadata": {},
   "outputs": [],
   "source": [
    "initials_pre = df_eq.iloc[-1, :len(model.species)].copy()\n",
    "initials_pre[RAFi_index] = 0.0\n",
    "initials_pre[MEKi_index] = 0.0\n",
    "#initials_pre[EGF_index] = 0.0\n",
    "\n",
    "#fixed time pre-treatment simulation\n",
    "tspan_pretrt = np.linspace(0, t_pretrt, N_time_points)\n",
    "df_pre=sim.run(tspan=tspan_pretrt, initials=initials_pre.to_list()).dataframe\n",
    "\n",
    "#run pre-tretment to steady state instead of using specified time  \n",
    "#df_pre = equilibrate(sim, initials_pre)"
   ]
  },
  {
   "cell_type": "markdown",
   "metadata": {},
   "source": [
    "In case the previous simulation was run to steady state, we want to retain only the first t_pretrt hours of pre-treatment plus the state at final equilibrium. So we cut the time series down using a Pandas slice operation and adjust the remaining time values to begin at -pre_time_max."
   ]
  },
  {
   "cell_type": "code",
   "execution_count": 17,
   "metadata": {},
   "outputs": [],
   "source": [
    "if (len(df_pre.loc[:t_pretrt])<len(df_pre)):\n",
    "   df_pre_tmp = df_pre.loc[:t_pretrt]\n",
    "   df_pre_tmp.iloc[-1] = df_pre.iloc[-1]\n",
    "   df_pre= df_pre_tmp\n",
    "df_pre['time'] = df_pre.index\n",
    "df_pre['time'] = df_pre['time']-t_pretrt\n",
    "df_pre['time'].iloc[-1] = 0\n",
    "df_pre.reset_index(drop=True, inplace=True)\n",
    "df_pre.set_index('time', inplace=True)"
   ]
  },
  {
   "cell_type": "markdown",
   "metadata": {},
   "source": [
    "## Inhibitor treatment"
   ]
  },
  {
   "cell_type": "markdown",
   "metadata": {},
   "source": [
    "We run another simulation starting from the final state of the pre-treatment simulation, overriding the MEKi and PRAFi concentrations with the user-selected values. This is a fixed-time simulation rather than the steady-state equilibration used in the previous simulations."
   ]
  },
  {
   "cell_type": "code",
   "execution_count": 18,
   "metadata": {},
   "outputs": [],
   "source": [
    "RAFi_concentration = 0.01\n",
    "MEKi_concentration = 0"
   ]
  },
  {
   "cell_type": "code",
   "execution_count": 19,
   "metadata": {},
   "outputs": [],
   "source": [
    "tspan_trt = np.linspace(0, t_trt, N_time_points)\n",
    "initials_trt = df_pre.iloc[-1, :len(model.species)].copy()\n",
    "initials_trt[RAFi_index] = RAFi_concentration\n",
    "initials_trt[MEKi_index] = MEKi_concentration\n",
    "#initials_trt[EGF_index] = EGF_concentration / model.parameters['m_Da_EGF'].get_value()\n",
    "df_trt = sim.run(tspan=tspan_trt, initials=initials_trt.to_list()).dataframe"
   ]
  },
  {
   "cell_type": "markdown",
   "metadata": {},
   "source": [
    "Concatenate the dataframes holding the pre-treatment and treatment simulation trajectories, keeping only the columns corresponding to model observables. Also filter out \"noise\" (insignificant concentration fluctuations caused by numerical integration tolerance issues)."
   ]
  },
  {
   "cell_type": "code",
   "execution_count": 20,
   "metadata": {},
   "outputs": [],
   "source": [
    "obs = pd.concat([df_pre, df_trt.iloc[1:]])[df_pre.keys()[len(model.species):]]\n",
    "obs.loc[:, (obs < 1e-10).all()] = 0"
   ]
  },
  {
   "cell_type": "markdown",
   "metadata": {},
   "source": [
    "## Write time courses to CSV file"
   ]
  },
  {
   "cell_type": "markdown",
   "metadata": {},
   "source": [
    "Append information on parameter sets used in this simulation and save the time course trajectories to file."
   ]
  },
  {
   "cell_type": "code",
   "execution_count": 21,
   "metadata": {},
   "outputs": [],
   "source": [
    "settings = {\n",
    "    'Cell_line': 'A375_sim',\n",
    "    'Parameter_set': param_set_index,\n",
    "    'Drug A': 'Vemurafenib',\n",
    "    'Drug B': 'Cobimetinib',\n",
    "    'Concentration A (uM)': RAFi_concentration,\n",
    "    'Concentration B (uM)': MEKi_concentration,\n",
    "    'Time A (h)': t_pretrt,\n",
    "    'Time B (h)': t_pretrt,\n",
    "}\n",
    "obs_out = obs.copy()\n",
    "for column, value in settings.items():\n",
    "     obs_out[column] = value\n",
    "obs_out.to_csv('trajectories_single_run.csv')"
   ]
  },
  {
   "cell_type": "code",
   "execution_count": 22,
   "metadata": {},
   "outputs": [
    {
     "data": {
      "text/html": [
       "<div>\n",
       "<style scoped>\n",
       "    .dataframe tbody tr th:only-of-type {\n",
       "        vertical-align: middle;\n",
       "    }\n",
       "\n",
       "    .dataframe tbody tr th {\n",
       "        vertical-align: top;\n",
       "    }\n",
       "\n",
       "    .dataframe thead th {\n",
       "        text-align: right;\n",
       "    }\n",
       "</style>\n",
       "<table border=\"1\" class=\"dataframe\">\n",
       "  <thead>\n",
       "    <tr style=\"text-align: right;\">\n",
       "      <th></th>\n",
       "      <th>modulation_synthesize_pERK_DUSP_ERK</th>\n",
       "      <th>tCRAF</th>\n",
       "      <th>tRAS</th>\n",
       "      <th>gdpRAS</th>\n",
       "      <th>gtpRAS</th>\n",
       "      <th>tRAFi</th>\n",
       "      <th>bound_RAFi</th>\n",
       "      <th>free_RAFi</th>\n",
       "      <th>tMEK</th>\n",
       "      <th>pMEK</th>\n",
       "      <th>...</th>\n",
       "      <th>tDUSP_obs</th>\n",
       "      <th>tmDUSP_obs</th>\n",
       "      <th>Cell_line</th>\n",
       "      <th>Parameter_set</th>\n",
       "      <th>Drug A</th>\n",
       "      <th>Drug B</th>\n",
       "      <th>Concentration A (uM)</th>\n",
       "      <th>Concentration B (uM)</th>\n",
       "      <th>Time A (h)</th>\n",
       "      <th>Time B (h)</th>\n",
       "    </tr>\n",
       "    <tr>\n",
       "      <th>time</th>\n",
       "      <th></th>\n",
       "      <th></th>\n",
       "      <th></th>\n",
       "      <th></th>\n",
       "      <th></th>\n",
       "      <th></th>\n",
       "      <th></th>\n",
       "      <th></th>\n",
       "      <th></th>\n",
       "      <th></th>\n",
       "      <th></th>\n",
       "      <th></th>\n",
       "      <th></th>\n",
       "      <th></th>\n",
       "      <th></th>\n",
       "      <th></th>\n",
       "      <th></th>\n",
       "      <th></th>\n",
       "      <th></th>\n",
       "      <th></th>\n",
       "      <th></th>\n",
       "    </tr>\n",
       "  </thead>\n",
       "  <tbody>\n",
       "    <tr>\n",
       "      <th>-24.00</th>\n",
       "      <td>0.196006</td>\n",
       "      <td>0.018815</td>\n",
       "      <td>0.526765</td>\n",
       "      <td>0.517434</td>\n",
       "      <td>0.009332</td>\n",
       "      <td>-1.044844e-20</td>\n",
       "      <td>-1.044844e-20</td>\n",
       "      <td>0.00</td>\n",
       "      <td>0.199099</td>\n",
       "      <td>0.127675</td>\n",
       "      <td>...</td>\n",
       "      <td>10.450365</td>\n",
       "      <td>6.761275</td>\n",
       "      <td>A375_sim</td>\n",
       "      <td>13</td>\n",
       "      <td>Vemurafenib</td>\n",
       "      <td>Cobimetinib</td>\n",
       "      <td>0.01</td>\n",
       "      <td>0</td>\n",
       "      <td>24</td>\n",
       "      <td>24</td>\n",
       "    </tr>\n",
       "    <tr>\n",
       "      <th>-23.75</th>\n",
       "      <td>0.196006</td>\n",
       "      <td>0.018815</td>\n",
       "      <td>0.526765</td>\n",
       "      <td>0.517434</td>\n",
       "      <td>0.009332</td>\n",
       "      <td>-1.044760e-20</td>\n",
       "      <td>-1.044760e-20</td>\n",
       "      <td>0.00</td>\n",
       "      <td>0.199099</td>\n",
       "      <td>0.127675</td>\n",
       "      <td>...</td>\n",
       "      <td>10.450365</td>\n",
       "      <td>6.761275</td>\n",
       "      <td>A375_sim</td>\n",
       "      <td>13</td>\n",
       "      <td>Vemurafenib</td>\n",
       "      <td>Cobimetinib</td>\n",
       "      <td>0.01</td>\n",
       "      <td>0</td>\n",
       "      <td>24</td>\n",
       "      <td>24</td>\n",
       "    </tr>\n",
       "    <tr>\n",
       "      <th>-23.50</th>\n",
       "      <td>0.196006</td>\n",
       "      <td>0.018815</td>\n",
       "      <td>0.526765</td>\n",
       "      <td>0.517434</td>\n",
       "      <td>0.009332</td>\n",
       "      <td>-1.044680e-20</td>\n",
       "      <td>-1.044680e-20</td>\n",
       "      <td>0.00</td>\n",
       "      <td>0.199099</td>\n",
       "      <td>0.127675</td>\n",
       "      <td>...</td>\n",
       "      <td>10.450365</td>\n",
       "      <td>6.761275</td>\n",
       "      <td>A375_sim</td>\n",
       "      <td>13</td>\n",
       "      <td>Vemurafenib</td>\n",
       "      <td>Cobimetinib</td>\n",
       "      <td>0.01</td>\n",
       "      <td>0</td>\n",
       "      <td>24</td>\n",
       "      <td>24</td>\n",
       "    </tr>\n",
       "    <tr>\n",
       "      <th>-23.25</th>\n",
       "      <td>0.196006</td>\n",
       "      <td>0.018815</td>\n",
       "      <td>0.526765</td>\n",
       "      <td>0.517434</td>\n",
       "      <td>0.009332</td>\n",
       "      <td>-1.044617e-20</td>\n",
       "      <td>-1.044617e-20</td>\n",
       "      <td>0.00</td>\n",
       "      <td>0.199099</td>\n",
       "      <td>0.127675</td>\n",
       "      <td>...</td>\n",
       "      <td>10.450365</td>\n",
       "      <td>6.761275</td>\n",
       "      <td>A375_sim</td>\n",
       "      <td>13</td>\n",
       "      <td>Vemurafenib</td>\n",
       "      <td>Cobimetinib</td>\n",
       "      <td>0.01</td>\n",
       "      <td>0</td>\n",
       "      <td>24</td>\n",
       "      <td>24</td>\n",
       "    </tr>\n",
       "    <tr>\n",
       "      <th>-23.00</th>\n",
       "      <td>0.196006</td>\n",
       "      <td>0.018815</td>\n",
       "      <td>0.526765</td>\n",
       "      <td>0.517434</td>\n",
       "      <td>0.009332</td>\n",
       "      <td>-1.044571e-20</td>\n",
       "      <td>-1.044571e-20</td>\n",
       "      <td>0.00</td>\n",
       "      <td>0.199099</td>\n",
       "      <td>0.127675</td>\n",
       "      <td>...</td>\n",
       "      <td>10.450365</td>\n",
       "      <td>6.761275</td>\n",
       "      <td>A375_sim</td>\n",
       "      <td>13</td>\n",
       "      <td>Vemurafenib</td>\n",
       "      <td>Cobimetinib</td>\n",
       "      <td>0.01</td>\n",
       "      <td>0</td>\n",
       "      <td>24</td>\n",
       "      <td>24</td>\n",
       "    </tr>\n",
       "    <tr>\n",
       "      <th>...</th>\n",
       "      <td>...</td>\n",
       "      <td>...</td>\n",
       "      <td>...</td>\n",
       "      <td>...</td>\n",
       "      <td>...</td>\n",
       "      <td>...</td>\n",
       "      <td>...</td>\n",
       "      <td>...</td>\n",
       "      <td>...</td>\n",
       "      <td>...</td>\n",
       "      <td>...</td>\n",
       "      <td>...</td>\n",
       "      <td>...</td>\n",
       "      <td>...</td>\n",
       "      <td>...</td>\n",
       "      <td>...</td>\n",
       "      <td>...</td>\n",
       "      <td>...</td>\n",
       "      <td>...</td>\n",
       "      <td>...</td>\n",
       "      <td>...</td>\n",
       "    </tr>\n",
       "    <tr>\n",
       "      <th>23.00</th>\n",
       "      <td>0.164862</td>\n",
       "      <td>0.018815</td>\n",
       "      <td>0.526765</td>\n",
       "      <td>0.517434</td>\n",
       "      <td>0.009332</td>\n",
       "      <td>1.816652e-02</td>\n",
       "      <td>8.166524e-03</td>\n",
       "      <td>0.01</td>\n",
       "      <td>0.199099</td>\n",
       "      <td>0.087242</td>\n",
       "      <td>...</td>\n",
       "      <td>10.320578</td>\n",
       "      <td>6.630304</td>\n",
       "      <td>A375_sim</td>\n",
       "      <td>13</td>\n",
       "      <td>Vemurafenib</td>\n",
       "      <td>Cobimetinib</td>\n",
       "      <td>0.01</td>\n",
       "      <td>0</td>\n",
       "      <td>24</td>\n",
       "      <td>24</td>\n",
       "    </tr>\n",
       "    <tr>\n",
       "      <th>23.25</th>\n",
       "      <td>0.164784</td>\n",
       "      <td>0.018815</td>\n",
       "      <td>0.526765</td>\n",
       "      <td>0.517434</td>\n",
       "      <td>0.009332</td>\n",
       "      <td>1.820749e-02</td>\n",
       "      <td>8.207494e-03</td>\n",
       "      <td>0.01</td>\n",
       "      <td>0.199099</td>\n",
       "      <td>0.087154</td>\n",
       "      <td>...</td>\n",
       "      <td>10.320229</td>\n",
       "      <td>6.629946</td>\n",
       "      <td>A375_sim</td>\n",
       "      <td>13</td>\n",
       "      <td>Vemurafenib</td>\n",
       "      <td>Cobimetinib</td>\n",
       "      <td>0.01</td>\n",
       "      <td>0</td>\n",
       "      <td>24</td>\n",
       "      <td>24</td>\n",
       "    </tr>\n",
       "    <tr>\n",
       "      <th>23.50</th>\n",
       "      <td>0.164706</td>\n",
       "      <td>0.018815</td>\n",
       "      <td>0.526765</td>\n",
       "      <td>0.517434</td>\n",
       "      <td>0.009332</td>\n",
       "      <td>1.824771e-02</td>\n",
       "      <td>8.247709e-03</td>\n",
       "      <td>0.01</td>\n",
       "      <td>0.199099</td>\n",
       "      <td>0.087066</td>\n",
       "      <td>...</td>\n",
       "      <td>10.319877</td>\n",
       "      <td>6.629586</td>\n",
       "      <td>A375_sim</td>\n",
       "      <td>13</td>\n",
       "      <td>Vemurafenib</td>\n",
       "      <td>Cobimetinib</td>\n",
       "      <td>0.01</td>\n",
       "      <td>0</td>\n",
       "      <td>24</td>\n",
       "      <td>24</td>\n",
       "    </tr>\n",
       "    <tr>\n",
       "      <th>23.75</th>\n",
       "      <td>0.164628</td>\n",
       "      <td>0.018815</td>\n",
       "      <td>0.526765</td>\n",
       "      <td>0.517434</td>\n",
       "      <td>0.009332</td>\n",
       "      <td>1.828718e-02</td>\n",
       "      <td>8.287180e-03</td>\n",
       "      <td>0.01</td>\n",
       "      <td>0.199099</td>\n",
       "      <td>0.086978</td>\n",
       "      <td>...</td>\n",
       "      <td>10.319523</td>\n",
       "      <td>6.629224</td>\n",
       "      <td>A375_sim</td>\n",
       "      <td>13</td>\n",
       "      <td>Vemurafenib</td>\n",
       "      <td>Cobimetinib</td>\n",
       "      <td>0.01</td>\n",
       "      <td>0</td>\n",
       "      <td>24</td>\n",
       "      <td>24</td>\n",
       "    </tr>\n",
       "    <tr>\n",
       "      <th>24.00</th>\n",
       "      <td>0.164550</td>\n",
       "      <td>0.018815</td>\n",
       "      <td>0.526765</td>\n",
       "      <td>0.517434</td>\n",
       "      <td>0.009332</td>\n",
       "      <td>1.832592e-02</td>\n",
       "      <td>8.325919e-03</td>\n",
       "      <td>0.01</td>\n",
       "      <td>0.199099</td>\n",
       "      <td>0.086889</td>\n",
       "      <td>...</td>\n",
       "      <td>10.319167</td>\n",
       "      <td>6.628862</td>\n",
       "      <td>A375_sim</td>\n",
       "      <td>13</td>\n",
       "      <td>Vemurafenib</td>\n",
       "      <td>Cobimetinib</td>\n",
       "      <td>0.01</td>\n",
       "      <td>0</td>\n",
       "      <td>24</td>\n",
       "      <td>24</td>\n",
       "    </tr>\n",
       "  </tbody>\n",
       "</table>\n",
       "<p>193 rows × 35 columns</p>\n",
       "</div>"
      ],
      "text/plain": [
       "        modulation_synthesize_pERK_DUSP_ERK     tCRAF      tRAS    gdpRAS  \\\n",
       "time                                                                        \n",
       "-24.00                             0.196006  0.018815  0.526765  0.517434   \n",
       "-23.75                             0.196006  0.018815  0.526765  0.517434   \n",
       "-23.50                             0.196006  0.018815  0.526765  0.517434   \n",
       "-23.25                             0.196006  0.018815  0.526765  0.517434   \n",
       "-23.00                             0.196006  0.018815  0.526765  0.517434   \n",
       "...                                     ...       ...       ...       ...   \n",
       " 23.00                             0.164862  0.018815  0.526765  0.517434   \n",
       " 23.25                             0.164784  0.018815  0.526765  0.517434   \n",
       " 23.50                             0.164706  0.018815  0.526765  0.517434   \n",
       " 23.75                             0.164628  0.018815  0.526765  0.517434   \n",
       " 24.00                             0.164550  0.018815  0.526765  0.517434   \n",
       "\n",
       "          gtpRAS         tRAFi    bound_RAFi  free_RAFi      tMEK      pMEK  \\\n",
       "time                                                                          \n",
       "-24.00  0.009332 -1.044844e-20 -1.044844e-20       0.00  0.199099  0.127675   \n",
       "-23.75  0.009332 -1.044760e-20 -1.044760e-20       0.00  0.199099  0.127675   \n",
       "-23.50  0.009332 -1.044680e-20 -1.044680e-20       0.00  0.199099  0.127675   \n",
       "-23.25  0.009332 -1.044617e-20 -1.044617e-20       0.00  0.199099  0.127675   \n",
       "-23.00  0.009332 -1.044571e-20 -1.044571e-20       0.00  0.199099  0.127675   \n",
       "...          ...           ...           ...        ...       ...       ...   \n",
       " 23.00  0.009332  1.816652e-02  8.166524e-03       0.01  0.199099  0.087242   \n",
       " 23.25  0.009332  1.820749e-02  8.207494e-03       0.01  0.199099  0.087154   \n",
       " 23.50  0.009332  1.824771e-02  8.247709e-03       0.01  0.199099  0.087066   \n",
       " 23.75  0.009332  1.828718e-02  8.287180e-03       0.01  0.199099  0.086978   \n",
       " 24.00  0.009332  1.832592e-02  8.325919e-03       0.01  0.199099  0.086889   \n",
       "\n",
       "        ...  tDUSP_obs  tmDUSP_obs  Cell_line  Parameter_set       Drug A  \\\n",
       "time    ...                                                                 \n",
       "-24.00  ...  10.450365    6.761275   A375_sim             13  Vemurafenib   \n",
       "-23.75  ...  10.450365    6.761275   A375_sim             13  Vemurafenib   \n",
       "-23.50  ...  10.450365    6.761275   A375_sim             13  Vemurafenib   \n",
       "-23.25  ...  10.450365    6.761275   A375_sim             13  Vemurafenib   \n",
       "-23.00  ...  10.450365    6.761275   A375_sim             13  Vemurafenib   \n",
       "...     ...        ...         ...        ...            ...          ...   \n",
       " 23.00  ...  10.320578    6.630304   A375_sim             13  Vemurafenib   \n",
       " 23.25  ...  10.320229    6.629946   A375_sim             13  Vemurafenib   \n",
       " 23.50  ...  10.319877    6.629586   A375_sim             13  Vemurafenib   \n",
       " 23.75  ...  10.319523    6.629224   A375_sim             13  Vemurafenib   \n",
       " 24.00  ...  10.319167    6.628862   A375_sim             13  Vemurafenib   \n",
       "\n",
       "             Drug B  Concentration A (uM)  Concentration B (uM)  Time A (h)  \\\n",
       "time                                                                          \n",
       "-24.00  Cobimetinib                  0.01                     0          24   \n",
       "-23.75  Cobimetinib                  0.01                     0          24   \n",
       "-23.50  Cobimetinib                  0.01                     0          24   \n",
       "-23.25  Cobimetinib                  0.01                     0          24   \n",
       "-23.00  Cobimetinib                  0.01                     0          24   \n",
       "...             ...                   ...                   ...         ...   \n",
       " 23.00  Cobimetinib                  0.01                     0          24   \n",
       " 23.25  Cobimetinib                  0.01                     0          24   \n",
       " 23.50  Cobimetinib                  0.01                     0          24   \n",
       " 23.75  Cobimetinib                  0.01                     0          24   \n",
       " 24.00  Cobimetinib                  0.01                     0          24   \n",
       "\n",
       "        Time B (h)  \n",
       "time                \n",
       "-24.00          24  \n",
       "-23.75          24  \n",
       "-23.50          24  \n",
       "-23.25          24  \n",
       "-23.00          24  \n",
       "...            ...  \n",
       " 23.00          24  \n",
       " 23.25          24  \n",
       " 23.50          24  \n",
       " 23.75          24  \n",
       " 24.00          24  \n",
       "\n",
       "[193 rows x 35 columns]"
      ]
     },
     "execution_count": 22,
     "metadata": {},
     "output_type": "execute_result"
    }
   ],
   "source": [
    "obs_out"
   ]
  },
  {
   "cell_type": "markdown",
   "metadata": {},
   "source": [
    "## Plot time courses"
   ]
  },
  {
   "cell_type": "markdown",
   "metadata": {},
   "source": [
    "Plot time-course trajectories of meaninfgul model species. The pre-treatment timescale is collapsed on a smallar interval for display purposes."
   ]
  },
  {
   "cell_type": "code",
   "execution_count": 23,
   "metadata": {},
   "outputs": [],
   "source": [
    "pre_time_scale = 0.5\n",
    "obs_plot = obs.reset_index()\n",
    "time_scale_factor = pre_time_scale / -obs_plot['time'].iloc[0]\n",
    "obs_plot.loc[obs_plot['time'] < 0, 'time'] *= time_scale_factor"
   ]
  },
  {
   "cell_type": "code",
   "execution_count": 24,
   "metadata": {},
   "outputs": [
    {
     "data": {
      "image/png": "[encoded data removed]",
      "text/plain": [
       "<Figure size 950x1330 with 27 Axes>"
      ]
     },
     "metadata": {},
     "output_type": "display_data"
    }
   ],
   "source": [
    "obs_melted = obs_plot.melt(id_vars='time')\n",
    "g = sns.FacetGrid(\n",
    "    obs_melted, col='variable', hue='variable', col_wrap=4,\n",
    "    sharex=False, sharey=False, height=1.9, aspect=1.25\n",
    ")\n",
    "g.map(plt.plot, 'time', 'value')\n",
    "for ax in g.axes:\n",
    "    _, ymax = ax.get_ylim()\n",
    "    ax.set_ylim(ymin=0, ymax=ymax * 1.03)\n",
    "    ax.set_xticks([-pre_time_scale, 0, 1, t_trt])\n",
    "    ax.set_xticklabels(['-'+str(t_pretrt), '0', '1', str(t_trt)])\n",
    "    ax.axvline(0, color='k', linewidth=0.5, linestyle='--')\n",
    "g.set_titles('{col_name}')\n",
    "g.set_xlabels('time (hours)')\n",
    "g.set_ylabels('amount (\\u03bcM)')\n",
    "plt.tight_layout()"
   ]
  },
  {
   "cell_type": "markdown",
   "metadata": {},
   "source": [
    "# Session Info"
   ]
  },
  {
   "cell_type": "code",
   "execution_count": 25,
   "metadata": {},
   "outputs": [
    {
     "name": "stdout",
     "output_type": "stream",
     "text": [
      "name: test_env\n",
      "channels:\n",
      "- alubbock\n",
      "- conda-forge\n",
      "- defaults\n",
      "dependencies:\n",
      "- bionetgen=2.5.1=hc8acba8_1\n",
      "- nfsim=1.12.1=h809d1ad_0\n",
      "- pysb=1.15.0=py_0\n",
      "- attrs=22.1.0=pyh71513ae_1\n",
      "- importlib-metadata=5.0.0=pyha770c72_1\n",
      "- importlib_resources=5.10.0=pyhd8ed1ab_0\n",
      "- ipywidgets=8.0.2=pyhd8ed1ab_1\n",
      "- jsonschema=4.17.0=pyhd8ed1ab_0\n",
      "- jupyterlab_widgets=3.0.3=pyhd8ed1ab_0\n",
      "- nbformat=5.7.0=pyhd8ed1ab_0\n",
      "- pkgutil-resolve-name=1.3.10=pyhd8ed1ab_0\n",
      "- pyrsistent=0.17.3=py38h25fe258_1\n",
      "- python-fastjsonschema=2.16.2=pyhd8ed1ab_0\n",
      "- python_abi=3.8=2_cp38\n",
      "- widgetsnbextension=4.0.3=pyhd8ed1ab_0\n",
      "- zipp=3.10.0=pyhd8ed1ab_0\n",
      "- _libgcc_mutex=0.1=main\n",
      "- asttokens=2.0.5=pyhd3eb1b0_0\n",
      "- backcall=0.2.0=pyhd3eb1b0_0\n",
      "- blas=1.0=mkl\n",
      "- bottleneck=1.3.4=py38hce1f21e_0\n",
      "- brotli=1.0.9=he6710b0_2\n",
      "- ca-certificates=2023.01.10=h06a4308_0\n",
      "- comm=0.1.2=py38h06a4308_0\n",
      "- cycler=0.11.0=pyhd3eb1b0_0\n",
      "- cython=0.29.28=py38h295c915_0\n",
      "- dbus=1.13.18=hb2f20db_0\n",
      "- debugpy=1.5.1=py38h295c915_0\n",
      "- decorator=5.1.1=pyhd3eb1b0_0\n",
      "- entrypoints=0.4=py38h06a4308_0\n",
      "- executing=0.8.3=pyhd3eb1b0_0\n",
      "- expat=2.4.4=h295c915_0\n",
      "- fontconfig=2.13.1=h6c09931_0\n",
      "- fonttools=4.25.0=pyhd3eb1b0_0\n",
      "- freetype=2.11.0=h70c0345_0\n",
      "- giflib=5.2.1=h7b6447c_0\n",
      "- glib=2.69.1=h4ff587b_1\n",
      "- gmp=6.2.1=h295c915_3\n",
      "- gmpy2=2.1.2=py38heeb90bb_0\n",
      "- gst-plugins-base=1.14.0=h8213a91_2\n",
      "- gstreamer=1.14.0=h28cd5cc_2\n",
      "- icu=58.2=he6710b0_3\n",
      "- intel-openmp=2021.4.0=h06a4308_3561\n",
      "- ipykernel=6.19.2=py38hb070fc8_0\n",
      "- ipython=8.12.0=py38h06a4308_0\n",
      "- jedi=0.18.1=py38h06a4308_1\n",
      "- jinja2=3.1.2=py38h06a4308_0\n",
      "- jpeg=9e=h7f8727e_0\n",
      "- jupyter_client=7.2.2=py38h06a4308_0\n",
      "- jupyter_core=5.3.0=py38h06a4308_0\n",
      "- kiwisolver=1.4.2=py38h295c915_0\n",
      "- lcms2=2.12=h3be6417_0\n",
      "- ld_impl_linux-64=2.38=h1181459_1\n",
      "- libffi=3.3=he6710b0_2\n",
      "- libgcc-ng=9.1.0=hdf63c60_0\n",
      "- libgfortran-ng=8.2.0=hdf63c60_1\n",
      "- libgfortran4=7.5.0=ha8ba4b0_17\n",
      "- libpng=1.6.37=hbc83047_0\n",
      "- libsodium=1.0.18=h7b6447c_0\n",
      "- libstdcxx-ng=9.1.0=hdf63c60_0\n",
      "- libtiff=4.2.0=h2818925_1\n",
      "- libuuid=1.0.3=h7f8727e_2\n",
      "- libwebp=1.2.2=h55f646e_0\n",
      "- libwebp-base=1.2.2=h7f8727e_0\n",
      "- libxcb=1.15=h7f8727e_0\n",
      "- libxml2=2.9.14=h74e7548_0\n",
      "- lz4-c=1.9.3=h295c915_1\n",
      "- markupsafe=2.1.1=py38h7f8727e_0\n",
      "- matplotlib=3.5.1=py38h06a4308_1\n",
      "- matplotlib-base=3.5.1=py38ha18d171_1\n",
      "- matplotlib-inline=0.1.6=py38h06a4308_0\n",
      "- mkl=2021.4.0=h06a4308_640\n",
      "- mkl-service=2.4.0=py38h7f8727e_0\n",
      "- mkl_fft=1.3.1=py38hd3c417c_0\n",
      "- mkl_random=1.2.2=py38h51133e4_0\n",
      "- mpc=1.1.0=h10f8cd9_1\n",
      "- mpfr=4.0.2=hb69a4c5_1\n",
      "- mpmath=1.2.1=py38h06a4308_0\n",
      "- munkres=1.1.4=py_0\n",
      "- ncurses=6.3=h7f8727e_2\n",
      "- nest-asyncio=1.5.6=py38h06a4308_0\n",
      "- networkx=2.8.4=py38h06a4308_1\n",
      "- numexpr=2.8.1=py38h6abb31d_0\n",
      "- numpy=1.22.3=py38he7a7128_0\n",
      "- numpy-base=1.22.3=py38hf524024_0\n",
      "- openssl=1.1.1t=h7f8727e_0\n",
      "- packaging=23.0=py38h06a4308_0\n",
      "- pandas=1.4.2=py38h295c915_0\n",
      "- parso=0.8.3=pyhd3eb1b0_0\n",
      "- pcre=8.45=h295c915_0\n",
      "- pexpect=4.8.0=pyhd3eb1b0_3\n",
      "- pickleshare=0.7.5=pyhd3eb1b0_1003\n",
      "- pillow=9.0.1=py38h22f2fdc_0\n",
      "- pip=23.0.1=py38h06a4308_0\n",
      "- platformdirs=2.5.2=py38h06a4308_0\n",
      "- prompt-toolkit=3.0.36=py38h06a4308_0\n",
      "- psutil=5.8.0=py38h27cfd23_1\n",
      "- ptyprocess=0.7.0=pyhd3eb1b0_2\n",
      "- pure_eval=0.2.2=pyhd3eb1b0_0\n",
      "- pygments=2.15.1=py38h06a4308_1\n",
      "- pyparsing=3.0.9=py38h06a4308_0\n",
      "- pyqt=5.9.2=py38h05f1152_4\n",
      "- python=3.8.13=h12debd9_0\n",
      "- python-dateutil=2.8.2=pyhd3eb1b0_0\n",
      "- pytz=2022.7=py38h06a4308_0\n",
      "- pyzmq=22.3.0=py38h295c915_2\n",
      "- qt=5.9.7=h5867ecd_1\n",
      "- readline=8.1.2=h7f8727e_1\n",
      "- scipy=1.7.3=py38hc147768_0\n",
      "- seaborn=0.12.2=py38h06a4308_0\n",
      "- setuptools=66.0.0=py38h06a4308_0\n",
      "- sip=4.19.13=py38h295c915_0\n",
      "- six=1.16.0=pyhd3eb1b0_1\n",
      "- sqlite=3.38.5=hc218d9a_0\n",
      "- stack_data=0.2.0=pyhd3eb1b0_0\n",
      "- sympy=1.11.1=py38h06a4308_0\n",
      "- tk=8.6.12=h1ccaba5_0\n",
      "- tornado=6.1=py38h27cfd23_0\n",
      "- tqdm=4.65.0=py38hb070fc8_0\n",
      "- traitlets=5.7.1=py38h06a4308_0\n",
      "- typing_extensions=4.5.0=py38h06a4308_0\n",
      "- wcwidth=0.2.5=pyhd3eb1b0_0\n",
      "- wheel=0.38.4=py38h06a4308_0\n",
      "- xz=5.2.5=h7f8727e_1\n",
      "- zeromq=4.3.4=h2531618_0\n",
      "- zlib=1.2.12=h7f8727e_2\n",
      "- zstd=1.5.2=ha4553b6_0\n",
      "prefix: /gstore/home/goetza6/.conda/envs/test_env\n",
      "\n"
     ]
    }
   ],
   "source": [
    "!conda env export --name test_env"
   ]
  },
  {
   "cell_type": "code",
   "execution_count": null,
   "metadata": {},
   "outputs": [],
   "source": []
  }
 ],
 "metadata": {
  "kernelspec": {
   "display_name": "test_env",
   "language": "python",
   "name": "test_env"
  },
  "language_info": {
   "codemirror_mode": {
    "name": "ipython",
    "version": 3
   },
   "file_extension": ".py",
   "mimetype": "text/x-python",
   "name": "python",
   "nbconvert_exporter": "python",
   "pygments_lexer": "ipython3",
   "version": "3.8.13"
  }
 },
 "nbformat": 4,
 "nbformat_minor": 4
}
