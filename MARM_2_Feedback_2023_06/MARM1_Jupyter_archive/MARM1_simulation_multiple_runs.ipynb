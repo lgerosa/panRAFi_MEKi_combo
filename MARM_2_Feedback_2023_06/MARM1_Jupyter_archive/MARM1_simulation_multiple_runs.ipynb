{
 "cells": [
  {
   "cell_type": "markdown",
   "metadata": {},
   "source": [
    "# Multiple simulations of the MARM1 model"
   ]
  },
  {
   "cell_type": "markdown",
   "metadata": {},
   "source": [
    "This notebook runs multiple sequential simulations of the MARM1 model in order to generate a dataset for multiple conditions. For a detailed description of how a single simulation run is set up and the visulization of time-course trajectories please refer to the companion notebook *MARM1_simulation_single_run.ipynb*. \n",
    "\n",
    "Note: Execution of all ~9000 simulations will take on the order of a full day on a single CPU. (In practice we used a variant of this code that splits the work across many CPUs on an HPC cluster)  This notebook will only run the first 4 simulations by default, but you can run them all by changing the following variable to `True`. "
   ]
  },
  {
   "cell_type": "code",
   "execution_count": 17,
   "metadata": {
    "collapsed": true
   },
   "outputs": [],
   "source": [
    "do_all_simulations = False"
   ]
  },
  {
   "cell_type": "markdown",
   "metadata": {},
   "source": [
    "Import the model and libraries necessary to run MARM1 model simulations. "
   ]
  },
  {
   "cell_type": "code",
   "execution_count": 18,
   "metadata": {
    "collapsed": true
   },
   "outputs": [],
   "source": [
    "%matplotlib notebook\n",
    "import itertools\n",
    "import numpy as np\n",
    "import pandas as pd\n",
    "import seaborn as sns\n",
    "import matplotlib.pyplot as plt\n",
    "from tqdm import tqdm_notebook\n",
    "#load model \n",
    "from pysb.simulator import ScipyOdeSimulator\n",
    "from pysb.core import as_complex_pattern\n",
    "from MARM1 import model"
   ]
  },
  {
   "cell_type": "markdown",
   "metadata": {},
   "source": [
    "Generating the condition settings (e.g. RAFi and MEKi concentrations) for each model simulation to be run."
   ]
  },
  {
   "cell_type": "code",
   "execution_count": 19,
   "metadata": {
    "collapsed": true
   },
   "outputs": [],
   "source": [
    "n_doses = 11\n",
    "lb_RAFi = -4\n",
    "ub_RAFi = 1\n",
    "lb_MEKi = -5\n",
    "ub_MEKi = 0\n",
    "RAFi_concentration = np.append([0], np.logspace(lb_RAFi, ub_RAFi, n_doses))\n",
    "MEKi_concentration = np.append([0], np.logspace(lb_MEKi, ub_MEKi, n_doses))\n",
    "t_pretrt_fixed = [24]\n",
    "t_pretrt = [0.83, 0.25, 0.5, 1, 2, 4, 8]\n",
    "EGF_concentration = [0, 100]\n",
    "t_trt = [2]\n",
    "param_set_index = range(100)\n",
    "\n",
    "settings_list = sorted(itertools.chain(\n",
    "    # ndoses x ndoses matrix of RAFi and MEKi dose combinations with 24h drug treatment followed by 2h of EGF stimulation\n",
    "    itertools.product([0], t_pretrt_fixed, RAFi_concentration, MEKi_concentration, t_trt, EGF_concentration),\n",
    "    # RAFi dose-response \n",
    "    itertools.product(param_set_index, t_pretrt_fixed, RAFi_concentration, [0.0], t_trt, EGF_concentration),\n",
    "    # MEKi dose-response \n",
    "    itertools.product(param_set_index, t_pretrt_fixed, [0.0], MEKi_concentration, t_trt, EGF_concentration),\n",
    "    # fixed RAFi + MEKi dose-response\n",
    "    itertools.product(param_set_index, t_pretrt_fixed, [1.0], MEKi_concentration, t_trt, EGF_concentration),\n",
    "    # different RAFi treatment durations\n",
    "    itertools.product(param_set_index, t_pretrt, [1.0], [0.0], t_trt, EGF_concentration),\n",
    "))"
   ]
  },
  {
   "cell_type": "code",
   "execution_count": 20,
   "metadata": {},
   "outputs": [
    {
     "name": "stdout",
     "output_type": "stream",
     "text": [
      "8888 total simulations\n"
     ]
    }
   ],
   "source": [
    "print(len(settings_list), \"total simulations\")"
   ]
  },
  {
   "cell_type": "markdown",
   "metadata": {},
   "source": [
    "Define support functions to run simulations. "
   ]
  },
  {
   "cell_type": "code",
   "execution_count": 21,
   "metadata": {
    "collapsed": true
   },
   "outputs": [],
   "source": [
    "def equilibrate(simulator, initials):\n",
    "    \"\"\"Simulate a model from given initial conditions until it reaches steady state\"\"\"\n",
    "    scale = 10\n",
    "    t_start = 1e-4\n",
    "    df = None\n",
    "    tspan = np.geomspace(t_start, t_start * scale)\n",
    "    while True:\n",
    "        #print(f\"    at t={tspan[-1]:<5.3g} ... \", end='', flush=True)\n",
    "        res = simulator.run(tspan=tspan, initials=initials)\n",
    "        df = pd.concat([df, res.dataframe.iloc[1:]])\n",
    "        initials = res.species[-1]\n",
    "        close = np.isclose(\n",
    "            *res.species[[-1,-2]].view(float).reshape(2,-1),\n",
    "            rtol=1e-3\n",
    "        )\n",
    "        cs = np.sum(close)\n",
    "        n = len(simulator.model.species)\n",
    "        #print(f\"{cs}/{n} species converged\")\n",
    "        if np.all(close):\n",
    "            break\n",
    "        tspan *= scale\n",
    "    return df"
   ]
  },
  {
   "cell_type": "code",
   "execution_count": 22,
   "metadata": {
    "collapsed": true
   },
   "outputs": [],
   "source": [
    "def get_species_index(model, pattern):\n",
    "    \"\"\"Return the integer species number for a given species in the model\"\"\"\n",
    "    pattern = as_complex_pattern(pattern)\n",
    "    matches = [\n",
    "        i for i, s in enumerate(model.species)\n",
    "        if s.is_equivalent_to(pattern)\n",
    "    ]\n",
    "    n = len(matches)\n",
    "    assert n == 1, f\"Expected exactly one match, got {n}\"\n",
    "    return matches[0]"
   ]
  },
  {
   "cell_type": "markdown",
   "metadata": {},
   "source": [
    "## Simulate the model over multiple conditions"
   ]
  },
  {
   "cell_type": "code",
   "execution_count": 23,
   "metadata": {},
   "outputs": [
    {
     "name": "stdout",
     "output_type": "stream",
     "text": [
      "Only running first 4 simulations\n"
     ]
    }
   ],
   "source": [
    "if not do_all_simulations:\n",
    "    settings_list = settings_list[:4]\n",
    "    print(\"Only running first 4 simulations\")\n",
    "\n",
    "N_time_points = 97\n",
    "out_filename = 'trajectories_multiple_runs.csv'"
   ]
  },
  {
   "cell_type": "markdown",
   "metadata": {},
   "source": [
    "Here we loop over the previously generated list of conditions and run a simulation for each one, saving all the resulting trajectories to a single CSV file."
   ]
  },
  {
   "cell_type": "code",
   "execution_count": 24,
   "metadata": {
    "scrolled": false
   },
   "outputs": [
    {
     "data": {
      "application/vnd.jupyter.widget-view+json": {
       "model_id": "4fcaa5630a364201afb88c65884922bb",
       "version_major": 2,
       "version_minor": 0
      },
      "text/plain": [
       "Simulation progress:   0%|          | 0/4 [00:00<?, ?it/s]"
      ]
     },
     "metadata": {},
     "output_type": "display_data"
    }
   ],
   "source": [
    "param_prev = -1\n",
    "for i, settings in enumerate(tqdm_notebook(settings_list, desc='Simulation progress')):\n",
    "   \n",
    "    [param, pretrt, rafi, meki, trt, egfc] = settings\n",
    "    \n",
    "    # run a simulation of the unperturbed model to obtain initial steady state (if not run before)\n",
    "    if param != param_prev:\n",
    "        param_sets = pd.read_csv('parameter_sets.csv', index_col=0)\n",
    "        param_sets = param_sets.drop('chi2', axis=1)\n",
    "        params = param_sets.iloc[param].to_dict()\n",
    "        sim = ScipyOdeSimulator(model, param_values=params)\n",
    "        df_eq = equilibrate(sim, None)\n",
    "\n",
    "    # run a time-course simulation for the pretreatment phase\n",
    "    RAFi_index = get_species_index(model, model.monomers.RAFi(raf=None))\n",
    "    MEKi_index = get_species_index(model, model.monomers.MEKi(mek=None))\n",
    "    EGF_index = get_species_index(model, model.monomers.EGF(rtk=None))\n",
    "    initials_pre = df_eq.iloc[-1, :len(model.species)].copy()\n",
    "    initials_pre[RAFi_index] = rafi\n",
    "    initials_pre[MEKi_index] = meki\n",
    "    initials_pre[EGF_index] = 0.0\n",
    "    tspan_pretrt = np.linspace(0, pretrt, N_time_points)  \n",
    "    df_pre = sim.run(tspan=tspan_pretrt, initials=initials_pre.to_list()).dataframe\n",
    "    df_pre['time'] = df_pre.index\n",
    "    df_pre['time'] = df_pre['time']-pretrt\n",
    "    df_pre['time'].iloc[-1] = 0\n",
    "    df_pre.reset_index(drop=True, inplace=True)\n",
    "    df_pre.set_index('time', inplace=True)\n",
    "    \n",
    "    # run a time-course simulation for the EGF perturbation phase\n",
    "    tspan_trt = np.linspace(0, trt, N_time_points)\n",
    "    initials_trt = df_pre.iloc[-1, :len(model.species)].copy()\n",
    "    initials_trt[RAFi_index] = rafi\n",
    "    initials_trt[MEKi_index] = meki\n",
    "    initials_trt[EGF_index] = egfc / model.expressions['m_Da_EGF'].get_value()\n",
    "    df_trt = sim.run(tspan=tspan_trt, initials=initials_trt.to_list()).dataframe\n",
    "    \n",
    "    # concatenate pretreatment and EGFR perturbations\n",
    "    obs = pd.concat([df_pre, df_trt.iloc[1:]])[df_pre.keys()[len(model.species):]]\n",
    "    # clamp small fluctuations due to integrator precision issues\n",
    "    obs.loc[:, (obs < 1e-10).all()] = 0\n",
    "    # add columns containing simulation parameters\n",
    "    settings = {\n",
    "        'Cell_line': 'A375_sim',\n",
    "        'Parameter_set': param,\n",
    "        'Drug A': 'Vemurafenib',\n",
    "        'Drug B': 'Cobimetinib',\n",
    "        'Concentration A (uM)': rafi,\n",
    "        'Concentration B (uM)': meki,\n",
    "        'Time A (h)': pretrt,\n",
    "        'Time B (h)': pretrt,\n",
    "        'EGF (ng/mL)': egfc,\n",
    "        'EGF total duration (h)': trt,\n",
    "    }\n",
    "    for column, value in settings.items():\n",
    "         obs[column] = value\n",
    "    # write simulation results to file \n",
    "    if i == 0: \n",
    "       obs.to_csv(out_filename, mode='w', header=True)\n",
    "    else:\n",
    "       obs.to_csv(out_filename, mode='a', header=False)\n",
    "        \n",
    "    # update param set used\n",
    "    param_prev = param"
   ]
  },
  {
   "cell_type": "markdown",
   "metadata": {},
   "source": [
    "# Session Info"
   ]
  },
  {
   "cell_type": "code",
   "execution_count": 25,
   "metadata": {},
   "outputs": [
    {
     "name": "stdout",
     "output_type": "stream",
     "text": [
      "name: pysb\r\n",
      "channels:\r\n",
      "- alubbock\r\n",
      "- anaconda\r\n",
      "- defaults\r\n",
      "dependencies:\r\n",
      "- bionetgen=2.5.1=hc8acba8_1\r\n",
      "- nfsim=1.12.1=h809d1ad_0\r\n",
      "- pysb=1.12.0=pyh39e3cac_0\r\n",
      "- backcall=0.2.0=py_0\r\n",
      "- jupyter_client=5.3.3=py_0\r\n",
      "- jupyter_core=4.5.0=py_0\r\n",
      "- libsodium=1.0.18=h7b6447c_0\r\n",
      "- parso=0.7.0=py_0\r\n",
      "- prompt-toolkit=3.0.8=py_0\r\n",
      "- pygments=2.7.1=py_0\r\n",
      "- traitlets=5.0.5=py_0\r\n",
      "- wcwidth=0.2.5=py_0\r\n",
      "- zeromq=4.3.3=he6710b0_3\r\n",
      "- _libgcc_mutex=0.1=main\r\n",
      "- blas=1.0=mkl\r\n",
      "- ca-certificates=2021.4.13=h06a4308_1\r\n",
      "- certifi=2020.12.5=py39h06a4308_0\r\n",
      "- cython=0.29.23=py39h2531618_0\r\n",
      "- decorator=5.0.6=pyhd3eb1b0_0\r\n",
      "- gmp=6.2.1=h2531618_2\r\n",
      "- gmpy2=2.0.8=py39h8083e48_3\r\n",
      "- intel-openmp=2020.2=254\r\n",
      "- ipykernel=5.3.4=py39hb070fc8_0\r\n",
      "- ipython=7.22.0=py39hb070fc8_0\r\n",
      "- ipython_genutils=0.2.0=pyhd3eb1b0_1\r\n",
      "- jedi=0.17.2=py39h06a4308_1\r\n",
      "- ld_impl_linux-64=2.33.1=h53a641e_7\r\n",
      "- libffi=3.3=he6710b0_2\r\n",
      "- libgcc-ng=9.1.0=hdf63c60_0\r\n",
      "- libgfortran-ng=7.3.0=hdf63c60_0\r\n",
      "- libstdcxx-ng=9.1.0=hdf63c60_0\r\n",
      "- mkl=2020.2=256\r\n",
      "- mkl-service=2.3.0=py39he8ac12f_0\r\n",
      "- mkl_fft=1.3.0=py39h54f3939_0\r\n",
      "- mkl_random=1.0.2=py39h63df603_0\r\n",
      "- mpc=1.1.0=h10f8cd9_1\r\n",
      "- mpfr=4.0.2=hb69a4c5_1\r\n",
      "- mpmath=1.2.1=py39h06a4308_0\r\n",
      "- ncurses=6.2=he6710b0_1\r\n",
      "- networkx=2.5=py_0\r\n",
      "- numpy=1.19.2=py39h89c1606_0\r\n",
      "- numpy-base=1.19.2=py39h2ae0177_0\r\n",
      "- openssl=1.1.1k=h27cfd23_0\r\n",
      "- pexpect=4.8.0=pyhd3eb1b0_3\r\n",
      "- pickleshare=0.7.5=pyhd3eb1b0_1003\r\n",
      "- pip=21.0.1=py39h06a4308_0\r\n",
      "- ptyprocess=0.7.0=pyhd3eb1b0_2\r\n",
      "- python=3.9.4=hdb3f193_0\r\n",
      "- python-dateutil=2.8.1=pyhd3eb1b0_0\r\n",
      "- pyzmq=20.0.0=py39h2531618_1\r\n",
      "- readline=8.1=h27cfd23_0\r\n",
      "- scipy=1.6.2=py39h91f5cce_0\r\n",
      "- setuptools=52.0.0=py39h06a4308_0\r\n",
      "- six=1.15.0=pyhd3eb1b0_0\r\n",
      "- sqlite=3.35.4=hdfb4753_0\r\n",
      "- sympy=1.8=py39h06a4308_0\r\n",
      "- tk=8.6.10=hbc83047_0\r\n",
      "- tornado=6.1=py39h27cfd23_0\r\n",
      "- tzdata=2020f=h52ac0ba_0\r\n",
      "- wheel=0.36.2=pyhd3eb1b0_0\r\n",
      "- xz=5.2.5=h7b6447c_0\r\n",
      "- zlib=1.2.11=h7b6447c_3\r\n",
      "prefix: /gstore/home/gerosal/.conda/envs/pysb\r\n",
      "\r\n"
     ]
    }
   ],
   "source": [
    "!conda env export --name pysb"
   ]
  }
 ],
 "metadata": {
  "kernelspec": {
   "display_name": "pysb",
   "language": "python",
   "name": "pysb"
  },
  "language_info": {
   "codemirror_mode": {
    "name": "ipython",
    "version": 3
   },
   "file_extension": ".py",
   "mimetype": "text/x-python",
   "name": "python",
   "nbconvert_exporter": "python",
   "pygments_lexer": "ipython3",
   "version": "3.9.4"
  }
 },
 "nbformat": 4,
 "nbformat_minor": 4
}
