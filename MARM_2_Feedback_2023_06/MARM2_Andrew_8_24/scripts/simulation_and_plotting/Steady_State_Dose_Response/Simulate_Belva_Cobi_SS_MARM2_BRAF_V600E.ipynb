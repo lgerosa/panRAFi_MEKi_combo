{
 "cells": [
  {
   "cell_type": "markdown",
   "metadata": {},
   "source": [
    "# Simulation of Belvarafenib and Cobimetinib inhibition in BRAF<sup>V600E</sup> melanoma cells using the MARM2 model\n",
    "\n",
    "Here you can simulate the respose of BRAF<sup>V600E</sup> cells under different doses of RAF (belvarafenib) and MEK inhibitors (cobimetinib). \n",
    "\n",
    "**Note**: this code performs the simulation for steady state responses under different inhibitor conditions. Use the Jupyter Notebook *Simulate_Belva_Cobi_Traj_MARM2_BRAF_V600E.ipynb* to generate simulation results for time course trajectories. "
   ]
  },
  {
   "cell_type": "markdown",
   "metadata": {},
   "source": [
    "## Import of libraries\n",
    "Importing libraries necessary to run MARM2 model simulations."
   ]
  },
  {
   "cell_type": "code",
   "execution_count": 1,
   "metadata": {},
   "outputs": [],
   "source": [
    "import numpy as np\n",
    "import pandas as pd\n",
    "import seaborn as sns\n",
    "import matplotlib.pyplot as plt\n",
    "import copy as cp\n",
    "import itertools\n",
    "import os\n",
    "from pathlib import Path\n",
    "import time\n",
    "start_time = time.time()"
   ]
  },
  {
   "cell_type": "markdown",
   "metadata": {},
   "source": [
    "Changes to main file directory. This works provided the \"main_dir\" has the correct directory name and the cwd starts within the main file directory. This might require tweaking under some high performance computing setups."
   ]
  },
  {
   "cell_type": "code",
   "execution_count": 2,
   "metadata": {},
   "outputs": [],
   "source": [
    "main_dir = \"MARM2_Andrew_8_24\"\n",
    "for i in Path().resolve().parents:\n",
    "    if i.parts[-1] == main_dir:\n",
    "        os.chdir(i)"
   ]
  },
  {
   "cell_type": "markdown",
   "metadata": {},
   "source": [
    "Importing the MARM2 PySB model and the simulator.  "
   ]
  },
  {
   "cell_type": "code",
   "execution_count": 3,
   "metadata": {},
   "outputs": [],
   "source": [
    "from pysb.simulator import ScipyOdeSimulator\n",
    "from pysb.core import as_complex_pattern\n",
    "from pysb.bng import generate_equations\n",
    "\n",
    "from scripts.models.MARM2_BRAF_V600E_No_RTK import model\n",
    "from scripts.functions.pysb_helper_functions import equilibrate, get_species_index"
   ]
  },
  {
   "cell_type": "markdown",
   "metadata": {},
   "source": [
    "## Generate model equations\n",
    "PySB runs BioNetGen to generate the reaction network"
   ]
  },
  {
   "cell_type": "code",
   "execution_count": 4,
   "metadata": {},
   "outputs": [],
   "source": [
    "generate_equations(model)"
   ]
  },
  {
   "cell_type": "markdown",
   "metadata": {},
   "source": [
    "## Parameter set preparation"
   ]
  },
  {
   "cell_type": "markdown",
   "metadata": {},
   "source": [
    "Loads and prepares the parameter sets described in Fr&ouml;hlich et al [1]. "
   ]
  },
  {
   "cell_type": "code",
   "execution_count": 5,
   "metadata": {},
   "outputs": [],
   "source": [
    "param_sets = pd.read_csv(Path('data/Model_parameters/RTKERK_pRAF_EGF_EGFR_MEKi_PRAFi_RAFi.csv'), index_col=0)\n",
    "# finds the parameters of the .csv file that correspond to Cobimetinib and Vemurafenib and maps them to MEKi and RAFi (respectively)\n",
    "rename_dict = {}\n",
    "for i in param_sets.columns:\n",
    "    if \"Cobimetinib\" in i or \"Vemurafenib\" in i:\n",
    "        rename_dict[i] = i.replace(\"Cobimetinib\",\"MEKi\").replace(\"Vemurafenib\",\"RAFi\")\n",
    "param_sets = param_sets.rename(columns = rename_dict)\n",
    "\n",
    "# finds the parameters which are stored in .csv file but not in the model and removes them\n",
    "csv_spec_params = set(param_sets.columns)-(set(param_sets.columns)&set([i.name for i in model.parameters]))\n",
    "param_sets = param_sets.drop(csv_spec_params, axis=1)\n",
    "\n",
    "# Removes preference against second inhibitor binding to model type 2 pan RAF inhibitor (Belvarafenib)\n",
    "param_sets[\"ep_RAF_RAF_mod_RAFi_double_ddG\"] = 0\n",
    "\n",
    "# specifies which of the 50 best-fit parameter sets to use for the simulation. Set 0 is the best fit and 49 the worst.\n",
    "param_set_index = 13\n",
    "params = param_sets.iloc[param_set_index].to_dict()\n",
    "\n",
    "params['RAFi_0'] = 0.0\n",
    "params['MEKi_0'] = 0.0"
   ]
  },
  {
   "cell_type": "markdown",
   "metadata": {},
   "source": [
    "## Initial equilibrium\n",
    "First we run the model from its baseline initial conditions until equilibrium is reached. For example protein synthesis/degradation, phosphorylation/dephosphorylation, and drug binding/unbinding all need to reach steady state to match the state of the cells in the experimental setup. There may be some time without visible progress as behind the scenes PySB runs BioNetGen to generate the reaction network and Cython to compile the resulting differential equations into efficient executable code."
   ]
  },
  {
   "cell_type": "code",
   "execution_count": 6,
   "metadata": {},
   "outputs": [
    {
     "name": "stdout",
     "output_type": "stream",
     "text": [
      "    at t=100   ... 875/875 species converged\n"
     ]
    }
   ],
   "source": [
    "sim = ScipyOdeSimulator(model,param_values=params) \n",
    "df_eq = equilibrate(sim, None)"
   ]
  },
  {
   "cell_type": "markdown",
   "metadata": {},
   "source": [
    "Now that the model has been simulated once and the actual molecular species have been enumerated, we can find the exact species numbers for the inhibitors. These are needed so that their concentrations can be overridden in the model state for subsequent simulations."
   ]
  },
  {
   "cell_type": "code",
   "execution_count": 7,
   "metadata": {},
   "outputs": [],
   "source": [
    "RAFi_index = get_species_index(model, model.monomers.RAFi(raf=None)**model.compartments.CP)\n",
    "MEKi_index = get_species_index(model, model.monomers.MEKi(mek=None)**model.compartments.CP)"
   ]
  },
  {
   "cell_type": "markdown",
   "metadata": {},
   "source": [
    "## Inhibitor treatment"
   ]
  },
  {
   "cell_type": "markdown",
   "metadata": {},
   "source": [
    "We take the final state of the equilibration simulation and use it as the initial state of this new simulation, overriding the RAFi and MEKi concentrations with pre-specified values."
   ]
  },
  {
   "cell_type": "code",
   "execution_count": 8,
   "metadata": {},
   "outputs": [
    {
     "name": "stdout",
     "output_type": "stream",
     "text": [
      "[0.         0.00562341 0.01240938 0.0273842  0.06042964 0.13335214\n",
      " 0.29427272 0.64938163 1.43301257 3.16227766]\n",
      "[0.         0.00177828 0.00392419 0.00865964 0.01910953 0.04216965\n",
      " 0.0930572  0.2053525  0.45315836 1.        ]\n"
     ]
    }
   ],
   "source": [
    "#set the dilution range for the RAF inhibitor, which is x axis\n",
    "RAFi_dil=np.logspace(-2.25,.5, 9); #uM\n",
    "RAFi_dil = np.concatenate(([0],RAFi_dil))\n",
    "#set the dilution range for the MEK inhibitor, which is y axis\n",
    "MEKi_dil=np.logspace(-2.75,0, 9); #uM\n",
    "MEKi_dil=np.concatenate(([0],MEKi_dil))\n",
    "print(RAFi_dil)\n",
    "print(MEKi_dil)"
   ]
  },
  {
   "cell_type": "code",
   "execution_count": 9,
   "metadata": {},
   "outputs": [
    {
     "name": "stdout",
     "output_type": "stream",
     "text": [
      "1.0% 2.0% 3.0% 4.0% 5.0% 6.0% 7.0% 8.0% 9.0% 10.0% 11.0% 12.0% 13.0% 14.0% 15.0% 16.0% 17.0% 18.0% 19.0% 20.0% 21.0% 22.0% 23.0% 24.0% 25.0% 26.0% 27.0% 28.0% 29.0% 30.0% 31.0% 32.0% 33.0% 34.0% 35.0% 36.0% 37.0% 38.0% 39.0% 40.0% 41.0% 42.0% 43.0% 44.0% 45.0% 46.0% 47.0% 48.0% 49.0% 50.0% 51.0% 52.0% 53.0% 54.0% 55.0% 56.0% 57.0% 58.0% 59.0% 60.0% 61.0% 62.0% 63.0% 64.0% 65.0% 66.0% 67.0% 68.0% 69.0% 70.0% 71.0% 72.0% 73.0% 74.0% 75.0% 76.0% 77.0% 78.0% 79.0% 80.0% 81.0% 82.0% 83.0% 84.0% 85.0% 86.0% 87.0% 88.0% 89.0% 90.0% 91.0% 92.0% 93.0% 94.0% 95.0% 96.0% 97.0% 98.0% 99.0% 100.0% "
     ]
    }
   ],
   "source": [
    "initials_pre = df_eq.iloc[-1, :len(model.species)].copy()\n",
    "# specify observables to save\n",
    "plt_obs=['Active_RAF_percent','pMEK', 'pMEK_percent', 'pERK', 'pERK_percent','Bound_CRAF_percent','Bound_RAF_percent'];\n",
    "dr_df = pd.DataFrame(columns = [\"RAFi_0_uM\",\"MEKi_0_uM\"]+plt_obs)\n",
    "dose_ind = list(itertools.product(*[RAFi_dil,MEKi_dil]))\n",
    "dr_df[\"RAFi_0_uM\"] = [i[0] for i in dose_ind]\n",
    "dr_df[\"MEKi_0_uM\"] = [i[1] for i in dose_ind]\n",
    "dr_df = dr_df.set_index([\"RAFi_0_uM\",\"MEKi_0_uM\"])\n",
    "\n",
    "# simulate each dose sequentially\n",
    "results = []\n",
    "for i in range(len(dose_ind)):\n",
    "    print(np.round(100*(i+1)/len(dose_ind),1),end=\"% \")\n",
    "    initials_pre[RAFi_index] = dose_ind[i][0]\n",
    "    initials_pre[MEKi_index] = dose_ind[i][1]\n",
    "    res = equilibrate(sim, initials_pre.to_list(),verbose=False).iloc[-1]\n",
    "    dr_df.loc[dose_ind[i]] = res[plt_obs]\n",
    "    \n",
    "dr_df.to_csv(Path(\"data/Steady_state_dose_responses/Belva_Cobi_SS_BRAF_V600E\"))"
   ]
  },
  {
   "cell_type": "markdown",
   "metadata": {},
   "source": [
    "In case the previous simulation was run to steady state, we want to retain only the first t_pretrt hours of pre-treatment plus the state at final equilibrium. So we cut the time series down using a Pandas slice operation and adjust the remaining time values to begin at -pre_time_max."
   ]
  },
  {
   "cell_type": "markdown",
   "metadata": {},
   "source": [
    "## References\n",
    "\n",
    "[1] Fröhlich, F., Gerosa, L., Muhlich, J., & Sorger, P. K. (2023). Mechanistic model of MAPK signaling reveals how allostery and rewiring contribute to drug resistance. Molecular Systems Biology, 19(2), e10988. doi:10.15252/msb.202210988"
   ]
  },
  {
   "cell_type": "markdown",
   "metadata": {},
   "source": [
    "# Session Info and Runtime"
   ]
  },
  {
   "cell_type": "code",
   "execution_count": 10,
   "metadata": {},
   "outputs": [
    {
     "name": "stdout",
     "output_type": "stream",
     "text": [
      "Elapsed Time = 408.47760796546936 seconds\n",
      "name: quant_bio\n",
      "channels:\n",
      "  - conda-forge\n",
      "  - alubbock\n",
      "  - defaults\n",
      "dependencies:\n",
      "  - anyio=4.2.0=py311hca03da5_0\n",
      "  - appnope=0.1.2=py311hca03da5_1001\n",
      "  - argon2-cffi=21.3.0=pyhd3eb1b0_0\n",
      "  - argon2-cffi-bindings=21.2.0=py311h80987f9_0\n",
      "  - asttokens=2.0.5=pyhd3eb1b0_0\n",
      "  - async-lru=2.0.4=py311hca03da5_0\n",
      "  - attrs=23.1.0=py311hca03da5_0\n",
      "  - babel=2.11.0=py311hca03da5_0\n",
      "  - beautifulsoup4=4.12.2=py311hca03da5_0\n",
      "  - bionetgen=2.9.1=0\n",
      "  - blas=1.0=openblas\n",
      "  - bleach=4.1.0=pyhd3eb1b0_0\n",
      "  - bottleneck=1.3.7=py311hb9f6ed7_0\n",
      "  - brotli=1.0.9=h1a28f6b_7\n",
      "  - brotli-bin=1.0.9=h1a28f6b_7\n",
      "  - brotli-python=1.0.9=py311h313beb8_7\n",
      "  - bzip2=1.0.8=h80987f9_5\n",
      "  - ca-certificates=2024.2.2=hf0a4a13_0\n",
      "  - certifi=2024.2.2=py311hca03da5_0\n",
      "  - cffi=1.16.0=py311h80987f9_0\n",
      "  - charset-normalizer=2.0.4=pyhd3eb1b0_0\n",
      "  - comm=0.2.1=py311hca03da5_0\n",
      "  - contourpy=1.2.0=py311h48ca7d4_0\n",
      "  - cycler=0.11.0=pyhd3eb1b0_0\n",
      "  - cython=3.0.8=py311h80987f9_0\n",
      "  - debugpy=1.6.7=py311h313beb8_0\n",
      "  - decorator=5.1.1=pyhd3eb1b0_0\n",
      "  - defusedxml=0.7.1=pyhd3eb1b0_0\n",
      "  - executing=0.8.3=pyhd3eb1b0_0\n",
      "  - fonttools=4.25.0=pyhd3eb1b0_0\n",
      "  - freetype=2.12.1=h1192e45_0\n",
      "  - gdbm=1.18=h8fe7016_4\n",
      "  - gmp=6.2.1=hc377ac9_3\n",
      "  - gmpy2=2.1.2=py311h40f64dc_0\n",
      "  - idna=3.4=py311hca03da5_0\n",
      "  - ipykernel=6.28.0=py311hca03da5_0\n",
      "  - ipython=8.20.0=py311hca03da5_0\n",
      "  - jedi=0.18.1=py311hca03da5_1\n",
      "  - jinja2=3.1.3=py311hca03da5_0\n",
      "  - jpeg=9e=h80987f9_1\n",
      "  - json5=0.9.6=pyhd3eb1b0_0\n",
      "  - jsonschema=4.19.2=py311hca03da5_0\n",
      "  - jsonschema-specifications=2023.7.1=py311hca03da5_0\n",
      "  - jupyter-lsp=2.2.0=py311hca03da5_0\n",
      "  - jupyter_client=8.6.0=py311hca03da5_0\n",
      "  - jupyter_core=5.5.0=py311hca03da5_0\n",
      "  - jupyter_events=0.8.0=py311hca03da5_0\n",
      "  - jupyter_server=2.10.0=py311hca03da5_0\n",
      "  - jupyter_server_terminals=0.4.4=py311hca03da5_1\n",
      "  - jupyterlab=4.0.11=py311hca03da5_0\n",
      "  - jupyterlab_pygments=0.1.2=py_0\n",
      "  - jupyterlab_server=2.25.1=py311hca03da5_0\n",
      "  - kiwisolver=1.4.4=py311h313beb8_0\n",
      "  - lcms2=2.12=hba8e193_0\n",
      "  - lerc=3.0=hc377ac9_0\n",
      "  - libbrotlicommon=1.0.9=h1a28f6b_7\n",
      "  - libbrotlidec=1.0.9=h1a28f6b_7\n",
      "  - libbrotlienc=1.0.9=h1a28f6b_7\n",
      "  - libcxx=14.0.6=h848a8c0_0\n",
      "  - libdeflate=1.17=h80987f9_1\n",
      "  - libffi=3.4.4=hca03da5_0\n",
      "  - libgfortran=5.0.0=11_3_0_hca03da5_28\n",
      "  - libgfortran5=11.3.0=h009349e_28\n",
      "  - libopenblas=0.3.21=h269037a_0\n",
      "  - libpng=1.6.39=h80987f9_0\n",
      "  - libsodium=1.0.18=h1a28f6b_0\n",
      "  - libtiff=4.5.1=h313beb8_0\n",
      "  - libwebp-base=1.3.2=h80987f9_0\n",
      "  - llvm-openmp=14.0.6=hc6e5704_0\n",
      "  - lz4-c=1.9.4=h313beb8_0\n",
      "  - markupsafe=2.1.3=py311h80987f9_0\n",
      "  - matplotlib=3.8.0=py311hca03da5_0\n",
      "  - matplotlib-base=3.8.0=py311h7aedaa7_0\n",
      "  - matplotlib-inline=0.1.6=py311hca03da5_0\n",
      "  - mistune=2.0.4=py311hca03da5_0\n",
      "  - mpc=1.1.0=h8c48613_1\n",
      "  - mpfr=4.0.2=h695f6f0_1\n",
      "  - mpmath=1.3.0=py311hca03da5_0\n",
      "  - munkres=1.1.4=py_0\n",
      "  - nbclient=0.8.0=py311hca03da5_0\n",
      "  - nbconvert=7.10.0=py311hca03da5_0\n",
      "  - nbformat=5.9.2=py311hca03da5_0\n",
      "  - ncurses=6.4=h313beb8_0\n",
      "  - nest-asyncio=1.6.0=py311hca03da5_0\n",
      "  - nfsim=1.14.1=0\n",
      "  - notebook=7.0.8=py311hca03da5_0\n",
      "  - notebook-shim=0.2.3=py311hca03da5_0\n",
      "  - numexpr=2.8.7=py311h6dc990b_0\n",
      "  - numpy=1.26.4=py311he598dae_0\n",
      "  - numpy-base=1.26.4=py311hfbfe69c_0\n",
      "  - openjpeg=2.3.0=h7a6adac_2\n",
      "  - openssl=3.2.1=h0d3ecfb_0\n",
      "  - overrides=7.4.0=py311hca03da5_0\n",
      "  - packaging=23.1=py311hca03da5_0\n",
      "  - pandas=2.2.1=py311h7aedaa7_0\n",
      "  - pandocfilters=1.5.0=pyhd3eb1b0_0\n",
      "  - parso=0.8.3=pyhd3eb1b0_0\n",
      "  - perl=5.34.0=h1a28f6b_2\n",
      "  - pexpect=4.8.0=pyhd3eb1b0_3\n",
      "  - pillow=10.2.0=py311h80987f9_0\n",
      "  - pip=23.3.1=py311hca03da5_0\n",
      "  - platformdirs=3.10.0=py311hca03da5_0\n",
      "  - prometheus_client=0.14.1=py311hca03da5_0\n",
      "  - prompt-toolkit=3.0.43=py311hca03da5_0\n",
      "  - prompt_toolkit=3.0.43=hd3eb1b0_0\n",
      "  - psutil=5.9.0=py311h80987f9_0\n",
      "  - ptyprocess=0.7.0=pyhd3eb1b0_2\n",
      "  - pure_eval=0.2.2=pyhd3eb1b0_0\n",
      "  - pycparser=2.21=pyhd3eb1b0_0\n",
      "  - pygments=2.15.1=py311hca03da5_1\n",
      "  - pyparsing=3.0.9=py311hca03da5_0\n",
      "  - pysocks=1.7.1=py311hca03da5_0\n",
      "  - python=3.11.8=hb885b13_0\n",
      "  - python-dateutil=2.8.2=pyhd3eb1b0_0\n",
      "  - python-fastjsonschema=2.16.2=py311hca03da5_0\n",
      "  - python-json-logger=2.0.7=py311hca03da5_0\n",
      "  - python-tzdata=2023.3=pyhd3eb1b0_0\n",
      "  - pytz=2023.3.post1=py311hca03da5_0\n",
      "  - pyyaml=6.0.1=py311h80987f9_0\n",
      "  - pyzmq=25.1.2=py311h313beb8_0\n",
      "  - readline=8.2=h1a28f6b_0\n",
      "  - referencing=0.30.2=py311hca03da5_0\n",
      "  - requests=2.31.0=py311hca03da5_1\n",
      "  - rfc3339-validator=0.1.4=py311hca03da5_0\n",
      "  - rfc3986-validator=0.1.1=py311hca03da5_0\n",
      "  - rpds-py=0.10.6=py311hf0e4da2_0\n",
      "  - seaborn=0.12.2=py311hca03da5_0\n",
      "  - send2trash=1.8.2=py311hca03da5_0\n",
      "  - setuptools=68.2.2=py311hca03da5_0\n",
      "  - six=1.16.0=pyhd3eb1b0_1\n",
      "  - sniffio=1.3.0=py311hca03da5_0\n",
      "  - soupsieve=2.5=py311hca03da5_0\n",
      "  - sqlite=3.41.2=h80987f9_0\n",
      "  - stack_data=0.2.0=pyhd3eb1b0_0\n",
      "  - terminado=0.17.1=py311hca03da5_0\n",
      "  - timer=0.2.2=pyhd8ed1ab_0\n",
      "  - tinycss2=1.2.1=py311hca03da5_0\n",
      "  - tk=8.6.12=hb8d0fd4_0\n",
      "  - tornado=6.3.3=py311h80987f9_0\n",
      "  - tqdm=4.65.0=py311hb6e6a13_0\n",
      "  - traitlets=5.7.1=py311hca03da5_0\n",
      "  - typing-extensions=4.9.0=py311hca03da5_1\n",
      "  - typing_extensions=4.9.0=py311hca03da5_1\n",
      "  - tzdata=2024a=h04d1e81_0\n",
      "  - urllib3=2.1.0=py311hca03da5_1\n",
      "  - wcwidth=0.2.5=pyhd3eb1b0_0\n",
      "  - webencodings=0.5.1=py311hca03da5_1\n",
      "  - websocket-client=0.58.0=py311hca03da5_4\n",
      "  - wheel=0.41.2=py311hca03da5_0\n",
      "  - xz=5.4.6=h80987f9_0\n",
      "  - yaml=0.2.5=h1a28f6b_0\n",
      "  - zeromq=4.3.5=h313beb8_0\n",
      "  - zlib=1.2.13=h5a0b063_0\n",
      "  - zstd=1.5.5=hd90d995_0\n",
      "  - pip:\n",
      "      - networkx==3.2.1\n",
      "      - pysb==1.16.0\n",
      "      - scipy==1.12.0\n",
      "      - sympy==1.11.1\n",
      "      - synergy==0.5.1\n",
      "prefix: /opt/anaconda3/envs/quant_bio\n"
     ]
    }
   ],
   "source": [
    "print(\"Elapsed Time = \"+str(time.time() - start_time) + \" seconds\")\n",
    "!conda env export --name quant_bio"
   ]
  },
  {
   "cell_type": "code",
   "execution_count": null,
   "metadata": {},
   "outputs": [],
   "source": []
  }
 ],
 "metadata": {
  "kernelspec": {
   "display_name": "Python 3 (ipykernel)",
   "language": "python",
   "name": "python3"
  },
  "language_info": {
   "codemirror_mode": {
    "name": "ipython",
    "version": 3
   },
   "file_extension": ".py",
   "mimetype": "text/x-python",
   "name": "python",
   "nbconvert_exporter": "python",
   "pygments_lexer": "ipython3",
   "version": "3.11.8"
  }
 },
 "nbformat": 4,
 "nbformat_minor": 4
}
